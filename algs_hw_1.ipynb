{
  "nbformat": 4,
  "nbformat_minor": 0,
  "metadata": {
    "colab": {
      "name": "algs hw 1",
      "provenance": [],
      "authorship_tag": "ABX9TyM+FTZ5q2izC+cojSa3q0bQ",
      "include_colab_link": true
    },
    "kernelspec": {
      "name": "python3",
      "display_name": "Python 3"
    }
  },
  "cells": [
    {
      "cell_type": "markdown",
      "metadata": {
        "id": "view-in-github",
        "colab_type": "text"
      },
      "source": [
        "<a href=\"https://colab.research.google.com/github/isabellasims/Google-colabs/blob/master/algs_hw_1.ipynb\" target=\"_parent\"><img src=\"https://colab.research.google.com/assets/colab-badge.svg\" alt=\"Open In Colab\"/></a>"
      ]
    },
    {
      "cell_type": "markdown",
      "metadata": {
        "id": "eECWq3qT4Uaz",
        "colab_type": "text"
      },
      "source": [
        "**PROBLEM 1**\n",
        "\n",
        "I created a variety of inputs to test my algorithms against\n",
        "\n",
        "\n",
        "\n"
      ]
    },
    {
      "cell_type": "code",
      "metadata": {
        "id": "a42Up6yHOGxj",
        "colab_type": "code",
        "colab": {
          "base_uri": "https://localhost:8080/",
          "height": 51
        },
        "outputId": "cc73bfb5-4d4b-40c2-bb48-06cafa8d9b06"
      },
      "source": [
        "# created multiple inputs to test algorithms\n",
        "import random\n",
        "dupList = [4, 8, 9, 1, 7, 1, 3, 2, 5, 4]\n",
        "noDupList = [1,4,5,2,7,6]\n",
        "randomList1 = random.sample(range(1, 6), 5)\n",
        "randomList2 = random.sample(range(1, 6), 5)\n",
        "seqList = randomList1 + randomList2 \n",
        "print(randomList1)\n",
        "print(seqList)"
      ],
      "execution_count": 8,
      "outputs": [
        {
          "output_type": "stream",
          "text": [
            "[1, 4, 3, 2, 5]\n",
            "[1, 4, 3, 2, 5, 2, 4, 3, 1, 5]\n"
          ],
          "name": "stdout"
        }
      ]
    },
    {
      "cell_type": "markdown",
      "metadata": {
        "id": "Hs8h6oy4rXnS",
        "colab_type": "text"
      },
      "source": [
        "**A**\n"
      ]
    },
    {
      "cell_type": "markdown",
      "metadata": {
        "id": "Qyyqos5wt-ES",
        "colab_type": "text"
      },
      "source": [
        "The time complexity of this algorithm is O(n) because creating a set from a simple list has a time complexity of O(n) time complexity (because iterating over a list and adding each element to a hash set has a time complexity of O(1) at each iteration therefor an overall complexity of O(n). This algorithm simply creates a set from a list and then compares the length. If the length is different, then the list contains duplicate items. The if statement time complexity is O(n) because both len() functions have a time complexity of O(1). Simple if statements like the one shown here have a time complexity of O(1). \n",
        "\n",
        "Therefor, highest polynomial in this algorithm is O(n), making the overall time complexity at O(n). \n",
        "\n",
        "A better approach may be to impliment a method that does not create a set for comparrison and would terminate after the first duplicate was found. Terminating early would decrease runtime and possibly reduce time complexity if not every element in the list needed to be visited atleast once. The program may run faster without built in methohds but time complexity would not technically change."
      ]
    },
    {
      "cell_type": "code",
      "metadata": {
        "id": "davEEHaHQdXY",
        "colab_type": "code",
        "colab": {}
      },
      "source": [
        "def dupAlgA(x):\n",
        "  temp = set(x)\n",
        "  if(len(temp) != len(x)):\n",
        "    return True # return true if list contains duplicates\n",
        "  else:\n",
        "    return False # return false if list does not contain duplicates\n",
        "    "
      ],
      "execution_count": 9,
      "outputs": []
    },
    {
      "cell_type": "code",
      "metadata": {
        "id": "1CPjmVNdSGZs",
        "colab_type": "code",
        "colab": {
          "base_uri": "https://localhost:8080/",
          "height": 85
        },
        "outputId": "48ddca30-9329-4d87-a0d7-9154fff566a8"
      },
      "source": [
        "# Algorithm A testing:\n",
        "print(dupAlgA(dupList)) # has duplicates\n",
        "print(dupAlgA(noDupList)) # does not have duplicates\n",
        "print(dupAlgA(seqList)) # random list that will always have duplicates\n",
        "print(dupAlgA(randomList1)) # random list that will never have duplicates"
      ],
      "execution_count": 10,
      "outputs": [
        {
          "output_type": "stream",
          "text": [
            "True\n",
            "False\n",
            "True\n",
            "False\n"
          ],
          "name": "stdout"
        }
      ]
    },
    {
      "cell_type": "markdown",
      "metadata": {
        "id": "avE6liYMx9Bs",
        "colab_type": "text"
      },
      "source": [
        "**B**"
      ]
    },
    {
      "cell_type": "markdown",
      "metadata": {
        "id": "72h0Qy-T4-Ek",
        "colab_type": "text"
      },
      "source": [
        "The time complexity of this algorithm is O(n). The for loop, count, and append instructions all have a time complexity of O(n) because on each iteration the complexity is O(1) - thus making it O(n). O(n) is the time complexity because it is the largest polynomial in the algorithm. \n",
        "\n",
        "I don't believe there is a better algorithm in terms of time complexity for this problem. Becasue we want to find every item that is a duplicate, the time complexity must be atleast O(n) since every item in the list must be visited atleast once to determine if it is a duplicate or not."
      ]
    },
    {
      "cell_type": "code",
      "metadata": {
        "id": "vCVq5Kl2x-jq",
        "colab_type": "code",
        "colab": {}
      },
      "source": [
        "def dupAlgB(x):\n",
        "  dups = []\n",
        "  for i in x: # O(n)\n",
        "    if x.count(i) != 1: # O(n)\n",
        "      dups.append(i) # O(n) \n",
        "  if(len(dups)==0):\n",
        "    return \"no duplicates found\" # if no dups, return print statements\n",
        "  else:\n",
        "    return dups # if dups exist, return list of dups"
      ],
      "execution_count": 11,
      "outputs": []
    },
    {
      "cell_type": "code",
      "metadata": {
        "id": "zSOziX8R1P0q",
        "colab_type": "code",
        "colab": {
          "base_uri": "https://localhost:8080/",
          "height": 85
        },
        "outputId": "743e69d1-8228-450c-84fc-8472619ee058"
      },
      "source": [
        "print(dupAlgB(dupList)) # has duplicates\n",
        "print(dupAlgB(noDupList))  #does not have duplicates\n",
        "print(dupAlgB(seqList))  #random list that will always have duplicates\n",
        "print(dupAlgB(randomList1)) #random list that will never have duplicates"
      ],
      "execution_count": 12,
      "outputs": [
        {
          "output_type": "stream",
          "text": [
            "[4, 1, 1, 4]\n",
            "no duplicates found\n",
            "[1, 4, 3, 2, 5, 2, 4, 3, 1, 5]\n",
            "no duplicates found\n"
          ],
          "name": "stdout"
        }
      ]
    },
    {
      "cell_type": "markdown",
      "metadata": {
        "id": "D7Wosphr7e7X",
        "colab_type": "text"
      },
      "source": [
        "**EXTRA CREDIT**\n",
        " "
      ]
    },
    {
      "cell_type": "code",
      "metadata": {
        "id": "mfICGjZC7uNv",
        "colab_type": "code",
        "colab": {}
      },
      "source": [
        "def dupAlgB(x):\n",
        "  print(\" \")\n",
        "  dups = []\n",
        "  for i in x: # O(n)\n",
        "    if x.count(i) != 1: # O(n)\n",
        "      dups.append(i) # O(n) \n",
        "  if(len(dups)==0):\n",
        "    print(\"no duplicates found\") # if no dups, return print statements\n",
        "  else:\n",
        "    print(\"The list as duplicates as follows: \")\n",
        "    for i in dups:\n",
        "      print(i,\" duplicated \", dups.count(i), \" times\")\n",
        "  print(\" \")\n",
        "  print(\"---------------------------------------\")\n"
      ],
      "execution_count": 13,
      "outputs": []
    },
    {
      "cell_type": "code",
      "metadata": {
        "id": "zPPrX5y67_Lu",
        "colab_type": "code",
        "colab": {
          "base_uri": "https://localhost:8080/",
          "height": 527
        },
        "outputId": "8cef9fde-dbe6-48ab-8271-957bf323c2bd"
      },
      "source": [
        "dupAlgB([4, 8, 9, 1, 7, 1, 3, 2, 5, 4]) # has duplicates\n",
        "dupAlgB([4, 8, 9, 16,24])  #does not have duplicates\n",
        "dupAlgB(seqList)  #random list that will always have duplicates\n",
        "dupAlgB(randomList1) #random list that will never have duplicates"
      ],
      "execution_count": 14,
      "outputs": [
        {
          "output_type": "stream",
          "text": [
            " \n",
            "The list as duplicates as follows: \n",
            "4  duplicated  2  times\n",
            "1  duplicated  2  times\n",
            "1  duplicated  2  times\n",
            "4  duplicated  2  times\n",
            " \n",
            "---------------------------------------\n",
            " \n",
            "no duplicates found\n",
            " \n",
            "---------------------------------------\n",
            " \n",
            "The list as duplicates as follows: \n",
            "1  duplicated  2  times\n",
            "4  duplicated  2  times\n",
            "3  duplicated  2  times\n",
            "2  duplicated  2  times\n",
            "5  duplicated  2  times\n",
            "2  duplicated  2  times\n",
            "4  duplicated  2  times\n",
            "3  duplicated  2  times\n",
            "1  duplicated  2  times\n",
            "5  duplicated  2  times\n",
            " \n",
            "---------------------------------------\n",
            " \n",
            "no duplicates found\n",
            " \n",
            "---------------------------------------\n"
          ],
          "name": "stdout"
        }
      ]
    }
  ]
}