{
  "nbformat": 4,
  "nbformat_minor": 0,
  "metadata": {
    "colab": {
      "name": "Programming Languages Julia Colab",
      "provenance": [],
      "collapsed_sections": [],
      "include_colab_link": true
    },
    "kernelspec": {
      "display_name": "Julia",
      "language": "julia",
      "name": "julia"
    },
    "language_info": {
      "file_extension": ".jl",
      "mimetype": "application/julia",
      "name": "julia"
    }
  },
  "cells": [
    {
      "cell_type": "markdown",
      "metadata": {
        "id": "view-in-github",
        "colab_type": "text"
      },
      "source": [
        "<a href=\"https://colab.research.google.com/github/isabellasims/Google-colabs/blob/master/Programming_Languages_Julia_Colab.ipynb\" target=\"_parent\"><img src=\"https://colab.research.google.com/assets/colab-badge.svg\" alt=\"Open In Colab\"/></a>"
      ]
    },
    {
      "cell_type": "code",
      "metadata": {
        "id": "MS30xW09Jjkl"
      },
      "source": [
        ""
      ],
      "execution_count": null,
      "outputs": []
    },
    {
      "cell_type": "code",
      "metadata": {
        "colab": {
          "base_uri": "https://localhost:8080/"
        },
        "id": "Lespvid776c-",
        "outputId": "e3a03426-937d-4c95-9d56-24c778abcf1f"
      },
      "source": [
        "%%shell\n",
        "set -e\n",
        "\n",
        "#---------------------------------------------------#\n",
        "JULIA_VERSION=\"1.4.2\" # any version ≥ 0.7.0\n",
        "JULIA_PACKAGES=\"IJulia BenchmarkTools PyCall PyPlot\"\n",
        "JULIA_PACKAGES_IF_GPU=\"CUDA\"\n",
        "JULIA_NUM_THREADS=4\n",
        "#---------------------------------------------------#\n",
        "\n",
        "if [ -n \"$COLAB_GPU\" ] && [ -z `which julia` ]; then\n",
        "  # Install Julia\n",
        "  JULIA_VER=`cut -d '.' -f -2 <<< \"$JULIA_VERSION\"`\n",
        "  echo \"Installing Julia $JULIA_VERSION on the current Colab Runtime...\"\n",
        "  BASE_URL=\"https://julialang-s3.julialang.org/bin/linux/x64\"\n",
        "  URL=\"$BASE_URL/$JULIA_VER/julia-$JULIA_VERSION-linux-x86_64.tar.gz\"\n",
        "  wget -nv $URL -O /tmp/julia.tar.gz # -nv means \"not verbose\"\n",
        "  tar -x -f /tmp/julia.tar.gz -C /usr/local --strip-components 1\n",
        "  rm /tmp/julia.tar.gz\n",
        "\n",
        "  # Install Packages\n",
        "  if [ \"$COLAB_GPU\" = \"1\" ]; then\n",
        "      JULIA_PACKAGES=\"$JULIA_PACKAGES $JULIA_PACKAGES_IF_GPU\"\n",
        "  fi\n",
        "  for PKG in `echo $JULIA_PACKAGES`; do\n",
        "    echo \"Installing Julia package $PKG...\"\n",
        "    julia -e 'using Pkg; pkg\"add '$PKG'; precompile;\"'\n",
        "  done\n",
        "\n",
        "  # Install kernel and rename it to \"julia\"\n",
        "  echo \"Installing IJulia kernel...\"\n",
        "  julia -e 'using IJulia; IJulia.installkernel(\"julia\", env=Dict(\n",
        "      \"JULIA_NUM_THREADS\"=>\"'\"$JULIA_NUM_THREADS\"'\"))'\n",
        "  KERNEL_DIR=`julia -e \"using IJulia; print(IJulia.kerneldir())\"`\n",
        "  KERNEL_NAME=`ls -d \"$KERNEL_DIR\"/julia*`\n",
        "  mv -f $KERNEL_NAME \"$KERNEL_DIR\"/julia  \n",
        "\n",
        "  echo ''\n",
        "  echo \"Successfully installed `julia -v`!\"\n",
        "  echo \"Please reload this page (press Ctrl+R, ⌘+R, or the F5 key) then\"\n",
        "  echo \"jump to the 'Checking the Installation' section.\"\n",
        "fi"
      ],
      "execution_count": null,
      "outputs": [
        {
          "output_type": "stream",
          "text": [
            "Installing Julia 1.4.2 on the current Colab Runtime...\n",
            "2020-11-23 02:30:22 URL:https://storage.googleapis.com/julialang2/bin/linux/x64/1.4/julia-1.4.2-linux-x86_64.tar.gz [99093958/99093958] -> \"/tmp/julia.tar.gz\" [1]\n",
            "Installing Julia package IJulia...\n",
            "    Cloning default registries into `~/.julia`\n",
            "    Cloning registry from \"https://github.com/JuliaRegistries/General.git\"\n",
            "\u001b[2K\u001b[?25h      Added registry `General` to `~/.julia/registries/General`\n",
            "  Resolving package versions...\n",
            "  Installed Artifacts ─────── v1.3.0\n",
            "  Installed VersionParsing ── v1.2.0\n",
            "  Installed MbedTLS_jll ───── v2.16.8+1\n",
            "  Installed Parsers ───────── v1.0.12\n",
            "  Installed SoftGlobalScope ─ v1.1.0\n",
            "  Installed IJulia ────────── v1.23.0\n",
            "  Installed JLLWrappers ───── v1.1.3\n",
            "  Installed ZeroMQ_jll ────── v4.3.2+5\n",
            "  Installed JSON ──────────── v0.21.1\n",
            "  Installed MbedTLS ───────── v1.0.3\n",
            "  Installed Conda ─────────── v1.5.0\n",
            "  Installed ZMQ ───────────── v1.2.1\n",
            "Downloading artifact: MbedTLS\n",
            "######################################################################## 100.0%\n",
            "\u001b[1A\u001b[2K\u001b[?25hDownloading artifact: ZeroMQ\n",
            "######################################################################## 100.0%\n",
            "\u001b[1A\u001b[2K\u001b[?25h   Updating `~/.julia/environments/v1.4/Project.toml`\n",
            "  [7073ff75] + IJulia v1.23.0\n",
            "   Updating `~/.julia/environments/v1.4/Manifest.toml`\n",
            "  [56f22d72] + Artifacts v1.3.0\n",
            "  [8f4d0f93] + Conda v1.5.0\n",
            "  [7073ff75] + IJulia v1.23.0\n",
            "  [692b3bcd] + JLLWrappers v1.1.3\n",
            "  [682c06a0] + JSON v0.21.1\n",
            "  [739be429] + MbedTLS v1.0.3\n",
            "  [c8ffd9c3] + MbedTLS_jll v2.16.8+1\n",
            "  [69de0a69] + Parsers v1.0.12\n",
            "  [b85f4697] + SoftGlobalScope v1.1.0\n",
            "  [81def892] + VersionParsing v1.2.0\n",
            "  [c2297ded] + ZMQ v1.2.1\n",
            "  [8f1865be] + ZeroMQ_jll v4.3.2+5\n",
            "  [2a0f44e3] + Base64 \n",
            "  [ade2ca70] + Dates \n",
            "  [8ba89e20] + Distributed \n",
            "  [7b1f6079] + FileWatching \n",
            "  [b77e0a4c] + InteractiveUtils \n",
            "  [76f85450] + LibGit2 \n",
            "  [8f399da3] + Libdl \n",
            "  [56ddb016] + Logging \n",
            "  [d6f4376e] + Markdown \n",
            "  [a63ad114] + Mmap \n",
            "  [44cfe95a] + Pkg \n",
            "  [de0858da] + Printf \n",
            "  [3fa0cd96] + REPL \n",
            "  [9a3f8284] + Random \n",
            "  [ea8e919c] + SHA \n",
            "  [9e88b42a] + Serialization \n",
            "  [6462fe0b] + Sockets \n",
            "  [8dfed614] + Test \n",
            "  [cf7118a7] + UUIDs \n",
            "  [4ec0a83e] + Unicode \n",
            "   Building Conda ─→ `~/.julia/packages/Conda/x5ml4/deps/build.log`\n",
            "   Building IJulia → `~/.julia/packages/IJulia/ljYVo/deps/build.log`\n",
            "Precompiling project...\n",
            "Installing Julia package BenchmarkTools...\n",
            "   Updating registry at `~/.julia/registries/General`\n",
            "   Updating git-repo `https://github.com/JuliaRegistries/General.git`\n",
            "\u001b[?25l\u001b[2K\u001b[?25h  Resolving package versions...\n",
            "  Installed BenchmarkTools ─ v0.5.0\n",
            "   Updating `~/.julia/environments/v1.4/Project.toml`\n",
            "  [6e4b80f9] + BenchmarkTools v0.5.0\n",
            "   Updating `~/.julia/environments/v1.4/Manifest.toml`\n",
            "  [6e4b80f9] + BenchmarkTools v0.5.0\n",
            "  [37e2e46d] + LinearAlgebra \n",
            "  [2f01184e] + SparseArrays \n",
            "  [10745b16] + Statistics \n",
            "Precompiling project...\n",
            "Installing Julia package PyCall...\n",
            "   Updating registry at `~/.julia/registries/General`\n",
            "   Updating git-repo `https://github.com/JuliaRegistries/General.git`\n",
            "\u001b[?25l\u001b[2K\u001b[?25h  Resolving package versions...\n",
            "  Installed MacroTools ─ v0.5.6\n",
            "  Installed PyCall ───── v1.92.1\n",
            "   Updating `~/.julia/environments/v1.4/Project.toml`\n",
            "  [438e738f] + PyCall v1.92.1\n",
            "   Updating `~/.julia/environments/v1.4/Manifest.toml`\n",
            "  [1914dd2f] + MacroTools v0.5.6\n",
            "  [438e738f] + PyCall v1.92.1\n",
            "   Building PyCall → `~/.julia/packages/PyCall/BcTLp/deps/build.log`\n",
            "Precompiling project...\n",
            "Installing Julia package PyPlot...\n",
            "   Updating registry at `~/.julia/registries/General`\n",
            "   Updating git-repo `https://github.com/JuliaRegistries/General.git`\n",
            "\u001b[?25l\u001b[2K\u001b[?25h  Resolving package versions...\n",
            "  Installed Reexport ────────── v0.2.0\n",
            "  Installed PyPlot ──────────── v2.9.0\n",
            "  Installed LaTeXStrings ────── v1.2.0\n",
            "  Installed FixedPointNumbers ─ v0.8.4\n",
            "  Installed ColorTypes ──────── v0.10.9\n",
            "  Installed Colors ──────────── v0.12.4\n",
            "   Updating `~/.julia/environments/v1.4/Project.toml`\n",
            "  [d330b81b] + PyPlot v2.9.0\n",
            "   Updating `~/.julia/environments/v1.4/Manifest.toml`\n",
            "  [3da002f7] + ColorTypes v0.10.9\n",
            "  [5ae59095] + Colors v0.12.4\n",
            "  [53c48c17] + FixedPointNumbers v0.8.4\n",
            "  [b964fa9f] + LaTeXStrings v1.2.0\n",
            "  [d330b81b] + PyPlot v2.9.0\n",
            "  [189a3867] + Reexport v0.2.0\n",
            "Precompiling project...\n",
            "Installing IJulia kernel...\n",
            "[ Info: Installing julia kernelspec in /root/.local/share/jupyter/kernels/julia-1.4\n",
            "\n",
            "Successfully installed julia version 1.4.2!\n",
            "Please reload this page (press Ctrl+R, ⌘+R, or the F5 key) then\n",
            "jump to the 'Checking the Installation' section.\n"
          ],
          "name": "stdout"
        },
        {
          "output_type": "execute_result",
          "data": {
            "text/plain": [
              ""
            ]
          },
          "metadata": {
            "tags": []
          },
          "execution_count": 8
        }
      ]
    },
    {
      "cell_type": "code",
      "metadata": {
        "id": "GIeFXS0F0zww",
        "colab": {
          "base_uri": "https://localhost:8080/"
        },
        "outputId": "f50176b7-bce8-4865-ca48-17e993323269"
      },
      "source": [
        "println(\"Hello\")\n",
        "println(\"HI\");"
      ],
      "execution_count": 17,
      "outputs": [
        {
          "output_type": "stream",
          "text": [
            "Hello\n",
            "HI\n"
          ],
          "name": "stdout"
        }
      ]
    },
    {
      "cell_type": "code",
      "metadata": {
        "colab": {
          "base_uri": "https://localhost:8080/",
          "height": 1000
        },
        "id": "9l8rC5Jk86Y7",
        "outputId": "48b458b5-3f08-4710-e0b9-27e7e6c58aa3"
      },
      "source": [
        "import Pkg\n",
        "Pkg.add(\"Plots\")\n"
      ],
      "execution_count": 13,
      "outputs": [
        {
          "output_type": "stream",
          "text": [
            "\u001b[32m\u001b[1m  Resolving\u001b[22m\u001b[39m package versions...\n",
            "\u001b[32m\u001b[1m   Updating\u001b[22m\u001b[39m `~/.julia/environments/v1.4/Project.toml`\n",
            "\u001b[90m [no changes]\u001b[39m\n",
            "\u001b[32m\u001b[1m   Updating\u001b[22m\u001b[39m `~/.julia/environments/v1.4/Manifest.toml`\n",
            "\u001b[90m [no changes]\u001b[39m\n",
            "┌ Info: Precompiling Plots [91a5bcdd-55d7-5caf-9e0b-520d859cae80]\n",
            "└ @ Base loading.jl:1260\n",
            "ERROR: ERROR: LoadError: LoadError: LoadError: fatal: error thrown and no exception handler available.\n",
            "InterruptException()\n",
            "fatal: error thrown and no exception handler available.\n",
            "InterruptException()\n",
            "jl_mutex_unlock at /buildworker/worker/package_linux64/build/src/locks.h:143 [inlined]\n",
            "jl_compile_method_internal at /buildworker/worker/package_linux64/build/src/gf.c:1912\n",
            "_jl_invoke at /buildworker/worker/package_linux64/build/src/gf.c:2154 [inlined]\n",
            "jl_apply_generic at /buildworker/worker/package_linux64/build/src/gf.c:2323\n",
            "#showerror#651 at ./errorshow.jl:85\n",
            "showerror##kw at ./errorshow.jl:84\n",
            "unknown function (ip: 0x7fd8b410b36b)\n",
            "_jl_invoke at /buildworker/worker/package_linux64/build/src/gf.c:2159 [inlined]\n",
            "jl_apply_generic at /buildworker/worker/package_linux64/build/src/gf.c:2323\n",
            "show_exception_stack at ./errorshow.jl:705\n",
            "display_error at ./client.jl:104\n",
            "_jl_invoke at /buildworker/worker/package_linux64/build/src/gf.c:2159 [inlined]\n",
            "jl_apply_generic at /buildworker/worker/package_linux64/build/src/gf.c:2323\n",
            "display_error at ./client.jl:106\n",
            "_jl_invoke at /buildworker/worker/package_linux64/build/src/gf.c:2159 [inlined]\n",
            "jl_apply_generic at /buildworker/worker/package_linux64/build/src/gf.c:2323\n",
            "jl_apply at /buildworker/worker/package_linux64/build/src/julia.h:1700 [inlined]\n",
            "do_apply at /buildworker/worker/package_linux64/build/src/builtins.c:643\n",
            "jl_f__apply_latest at /buildworker/worker/package_linux64/build/src/builtins.c:693\n",
            "#invokelatest#1 at ./essentials.jl:712 [inlined]\n",
            "invokelatest at ./essentials.jl:711 [inlined]\n",
            "_start at ./client.jl:486\n",
            "jfptr__start_2075.clone_1 at /usr/local/lib/julia/sys.so (unknown line)\n",
            "_jl_invoke at /buildworker/worker/package_linux64/build/src/gf.c:2145 [inlined]\n",
            "jl_apply_generic at /buildworker/worker/package_linux64/build/src/gf.c:2323\n",
            "jl_apply at /buildworker/worker/package_linux64/build/ui/../src/julia.h:1700 [inlined]\n",
            "true_main at /buildworker/worker/package_linux64/build/ui/repl.c:96\n",
            "main at /buildworker/worker/package_linux64/build/ui/repl.c:217\n",
            "__libc_start_main at /lib/x86_64-linux-gnu/libc.so.6 (unknown line)\n",
            "_start at /usr/local/bin/julia (unknown line)\n",
            "jl_mutex_unlock at /buildworker/worker/package_linux64/build/src/locks.h:143\n",
            "jl_compile_method_internal at /buildworker/worker/package_linux64/build/src/gf.c:1913\n",
            "_jl_invoke at /buildworker/worker/package_linux64/build/src/gf.c:2154 [inlined]\n",
            "jl_apply_generic at /buildworker/worker/package_linux64/build/src/gf.c:2323\n",
            "#showerror#651 at ./errorshow.jl:85\n",
            "showerror##kw at ./errorshow.jl:84\n",
            "unknown function (ip: 0x7fe0df982e5b)\n",
            "_jl_invoke at /buildworker/worker/package_linux64/build/src/gf.c:2145 [inlined]\n",
            "jl_apply_generic at /buildworker/worker/package_linux64/build/src/gf.c:2323\n",
            "#showerror#651 at ./errorshow.jl:85\n",
            "showerror##kw at ./errorshow.jl:84\n",
            "unknown function (ip: 0x7fe0df982e5b)\n",
            "_jl_invoke at /buildworker/worker/package_linux64/build/src/gf.c:2159 [inlined]\n",
            "jl_apply_generic at /buildworker/worker/package_linux64/build/src/gf.c:2323\n",
            "show_exception_stack at ./errorshow.jl:705\n",
            "display_error at ./client.jl:104\n",
            "_jl_invoke at /buildworker/worker/package_linux64/build/src/gf.c:2159 [inlined]\n",
            "jl_apply_generic at /buildworker/worker/package_linux64/build/src/gf.c:2323\n",
            "display_error at ./client.jl:106\n",
            "_jl_invoke at /buildworker/worker/package_linux64/build/src/gf.c:2159 [inlined]\n",
            "jl_apply_generic at /buildworker/worker/package_linux64/build/src/gf.c:2323\n",
            "jl_apply at /buildworker/worker/package_linux64/build/src/julia.h:1700 [inlined]\n",
            "do_apply at /buildworker/worker/package_linux64/build/src/builtins.c:643\n",
            "jl_f__apply_latest at /buildworker/worker/package_linux64/build/src/builtins.c:693\n"
          ],
          "name": "stderr"
        },
        {
          "output_type": "error",
          "ename": "ErrorException",
          "evalue": "ignored",
          "traceback": [
            "Failed to precompile Plots [91a5bcdd-55d7-5caf-9e0b-520d859cae80] to /root/.julia/compiled/v1.4/Plots/ld3vC_E7K7w.ji.",
            "",
            "Stacktrace:",
            " [1] error(::String) at ./error.jl:33",
            " [2] compilecache(::Base.PkgId, ::String) at ./loading.jl:1272",
            " [3] _require(::Base.PkgId) at ./loading.jl:1029",
            " [4] require(::Base.PkgId) at ./loading.jl:927",
            " [5] require(::Module, ::Symbol) at ./loading.jl:922",
            " [6] top-level scope at In[13]:3"
          ]
        },
        {
          "output_type": "stream",
          "text": [
            "#invokelatest#1 at ./essentials.jl:712 [inlined]\n",
            "invokelatest at ./essentials.jl:711 [inlined]\n",
            "_start at ./client.jl:486\n",
            "jfptr__start_2075.clone_1 at /usr/local/lib/julia/sys.so (unknown line)\n",
            "_jl_invoke at /buildworker/worker/package_linux64/build/src/gf.c:2145 [inlined]\n",
            "jl_apply_generic at /buildworker/worker/package_linux64/build/src/gf.c:2323\n",
            "jl_apply at /buildworker/worker/package_linux64/build/ui/../src/julia.h:1700 [inlined]\n",
            "true_main at /buildworker/worker/package_linux64/build/ui/repl.c:96\n",
            "main at /buildworker/worker/package_linux64/build/ui/repl.c:217\n",
            "__libc_start_main at /lib/x86_64-linux-gnu/libc.so.6 (unknown line)\n",
            "_start at /usr/local/bin/julia (unknown line)\n"
          ],
          "name": "stderr"
        }
      ]
    },
    {
      "cell_type": "code",
      "metadata": {
        "colab": {
          "base_uri": "https://localhost:8080/",
          "height": 165
        },
        "id": "03ZYxH6L-yXm",
        "outputId": "00039f7b-dca9-4b3b-ccf1-410046dfebfa"
      },
      "source": [
        "using Plots\n",
        "srand(123)"
      ],
      "execution_count": 18,
      "outputs": [
        {
          "output_type": "stream",
          "text": [
            "┌ Info: Precompiling Plots [91a5bcdd-55d7-5caf-9e0b-520d859cae80]\n",
            "└ @ Base loading.jl:1260\n"
          ],
          "name": "stderr"
        },
        {
          "output_type": "error",
          "ename": "UndefVarError",
          "evalue": "ignored",
          "traceback": [
            "UndefVarError: srand not defined",
            "",
            "Stacktrace:",
            " [1] top-level scope at In[18]:2"
          ]
        }
      ]
    },
    {
      "cell_type": "markdown",
      "metadata": {
        "id": "GGSwf9W0OXIQ"
      },
      "source": [
        "import Pkg # allow package imports\n",
        "\n",
        "\n",
        "\n",
        "\n",
        "Pkg.add(\"your specific package name here\" #import package"
      ]
    },
    {
      "cell_type": "code",
      "metadata": {
        "colab": {
          "base_uri": "https://localhost:8080/"
        },
        "id": "kvesknUiDYwr",
        "outputId": "cc998eb0-18fe-4879-dc41-d8e76d04878a"
      },
      "source": [
        "# allow package imports\n",
        "import Pkg \n",
        "\n",
        "\n",
        "# import packages\n",
        "Pkg.add(\"Plots\")\n",
        "Pkg.add(\"CSV\")\n",
        "Pkg.add(\"DataFrames\")\n",
        "Pkg.add(\"HTTP\")\n"
      ],
      "execution_count": 56,
      "outputs": [
        {
          "output_type": "stream",
          "text": [
            "\u001b[32m\u001b[1m  Resolving\u001b[22m\u001b[39m package versions...\n",
            "\u001b[32m\u001b[1m   Updating\u001b[22m\u001b[39m `~/.julia/environments/v1.4/Project.toml`\n",
            "\u001b[90m [no changes]\u001b[39m\n",
            "\u001b[32m\u001b[1m   Updating\u001b[22m\u001b[39m `~/.julia/environments/v1.4/Manifest.toml`\n",
            "\u001b[90m [no changes]\u001b[39m\n",
            "\u001b[32m\u001b[1m  Resolving\u001b[22m\u001b[39m package versions...\n",
            "\u001b[32m\u001b[1m   Updating\u001b[22m\u001b[39m `~/.julia/environments/v1.4/Project.toml`\n",
            "\u001b[90m [no changes]\u001b[39m\n",
            "\u001b[32m\u001b[1m   Updating\u001b[22m\u001b[39m `~/.julia/environments/v1.4/Manifest.toml`\n",
            "\u001b[90m [no changes]\u001b[39m\n",
            "\u001b[32m\u001b[1m  Resolving\u001b[22m\u001b[39m package versions...\n",
            "\u001b[32m\u001b[1m   Updating\u001b[22m\u001b[39m `~/.julia/environments/v1.4/Project.toml`\n",
            "\u001b[90m [no changes]\u001b[39m\n",
            "\u001b[32m\u001b[1m   Updating\u001b[22m\u001b[39m `~/.julia/environments/v1.4/Manifest.toml`\n",
            "\u001b[90m [no changes]\u001b[39m\n",
            "\u001b[32m\u001b[1m  Resolving\u001b[22m\u001b[39m package versions...\n",
            "\u001b[32m\u001b[1m   Updating\u001b[22m\u001b[39m `~/.julia/environments/v1.4/Project.toml`\n",
            "\u001b[90m [no changes]\u001b[39m\n",
            "\u001b[32m\u001b[1m   Updating\u001b[22m\u001b[39m `~/.julia/environments/v1.4/Manifest.toml`\n",
            "\u001b[90m [no changes]\u001b[39m\n"
          ],
          "name": "stderr"
        }
      ]
    },
    {
      "cell_type": "code",
      "metadata": {
        "colab": {
          "base_uri": "https://localhost:8080/",
          "height": 421
        },
        "id": "xUuHP9_bDb9E",
        "outputId": "d372cb42-2074-4952-b478-5fea0877ab76"
      },
      "source": [
        "using Plots\n",
        "plot(rand(5,5),linewidth = 2,title=\"simple plot\")"
      ],
      "execution_count": 25,
      "outputs": [
        {
          "output_type": "execute_result",
          "data": {
            "image/svg+xml": "<?xml version=\"1.0\" encoding=\"utf-8\"?>\n<svg xmlns=\"http://www.w3.org/2000/svg\" xmlns:xlink=\"http://www.w3.org/1999/xlink\" width=\"600\" height=\"400\" viewBox=\"0 0 2400 1600\">\n<defs>\n  <clipPath id=\"clip660\">\n    <rect x=\"0\" y=\"0\" width=\"2400\" height=\"1600\"/>\n  </clipPath>\n</defs>\n<path clip-path=\"url(#clip660)\" d=\"\nM0 1600 L2400 1600 L2400 0 L0 0  Z\n  \" fill=\"#ffffff\" fill-rule=\"evenodd\" fill-opacity=\"1\"/>\n<defs>\n  <clipPath id=\"clip661\">\n    <rect x=\"480\" y=\"0\" width=\"1681\" height=\"1600\"/>\n  </clipPath>\n</defs>\n<path clip-path=\"url(#clip660)\" d=\"\nM148.334 1486.45 L2352.76 1486.45 L2352.76 123.472 L148.334 123.472  Z\n  \" fill=\"#ffffff\" fill-rule=\"evenodd\" fill-opacity=\"1\"/>\n<defs>\n  <clipPath id=\"clip662\">\n    <rect x=\"148\" y=\"123\" width=\"2205\" height=\"1364\"/>\n  </clipPath>\n</defs>\n<polyline clip-path=\"url(#clip662)\" style=\"stroke:#000000; stroke-width:2; stroke-opacity:0.1; fill:none\" points=\"\n  210.724,1486.45 210.724,123.472 \n  \"/>\n<polyline clip-path=\"url(#clip662)\" style=\"stroke:#000000; stroke-width:2; stroke-opacity:0.1; fill:none\" points=\"\n  730.634,1486.45 730.634,123.472 \n  \"/>\n<polyline clip-path=\"url(#clip662)\" style=\"stroke:#000000; stroke-width:2; stroke-opacity:0.1; fill:none\" points=\"\n  1250.55,1486.45 1250.55,123.472 \n  \"/>\n<polyline clip-path=\"url(#clip662)\" style=\"stroke:#000000; stroke-width:2; stroke-opacity:0.1; fill:none\" points=\"\n  1770.46,1486.45 1770.46,123.472 \n  \"/>\n<polyline clip-path=\"url(#clip662)\" style=\"stroke:#000000; stroke-width:2; stroke-opacity:0.1; fill:none\" points=\"\n  2290.37,1486.45 2290.37,123.472 \n  \"/>\n<polyline clip-path=\"url(#clip660)\" style=\"stroke:#000000; stroke-width:4; stroke-opacity:1; fill:none\" points=\"\n  148.334,1486.45 2352.76,1486.45 \n  \"/>\n<polyline clip-path=\"url(#clip660)\" style=\"stroke:#000000; stroke-width:4; stroke-opacity:1; fill:none\" points=\"\n  210.724,1486.45 210.724,1470.09 \n  \"/>\n<polyline clip-path=\"url(#clip660)\" style=\"stroke:#000000; stroke-width:4; stroke-opacity:1; fill:none\" points=\"\n  730.634,1486.45 730.634,1470.09 \n  \"/>\n<polyline clip-path=\"url(#clip660)\" style=\"stroke:#000000; stroke-width:4; stroke-opacity:1; fill:none\" points=\"\n  1250.55,1486.45 1250.55,1470.09 \n  \"/>\n<polyline clip-path=\"url(#clip660)\" style=\"stroke:#000000; stroke-width:4; stroke-opacity:1; fill:none\" points=\"\n  1770.46,1486.45 1770.46,1470.09 \n  \"/>\n<polyline clip-path=\"url(#clip660)\" style=\"stroke:#000000; stroke-width:4; stroke-opacity:1; fill:none\" points=\"\n  2290.37,1486.45 2290.37,1470.09 \n  \"/>\n<path clip-path=\"url(#clip660)\" d=\"M 0 0 M201.106 1543.18 L208.745 1543.18 L208.745 1516.82 L200.434 1518.49 L200.434 1514.23 L208.698 1512.56 L213.374 1512.56 L213.374 1543.18 L221.013 1543.18 L221.013 1547.12 L201.106 1547.12 L201.106 1543.18 Z\" fill=\"#000000\" fill-rule=\"evenodd\" fill-opacity=\"1\" /><path clip-path=\"url(#clip660)\" d=\"M 0 0 M725.287 1543.18 L741.607 1543.18 L741.607 1547.12 L719.662 1547.12 L719.662 1543.18 Q722.324 1540.43 726.908 1535.8 Q731.514 1531.15 732.695 1529.81 Q734.94 1527.28 735.82 1525.55 Q736.722 1523.79 736.722 1522.1 Q736.722 1519.34 734.778 1517.61 Q732.857 1515.87 729.755 1515.87 Q727.556 1515.87 725.102 1516.63 Q722.671 1517.4 719.894 1518.95 L719.894 1514.23 Q722.718 1513.09 725.171 1512.51 Q727.625 1511.93 729.662 1511.93 Q735.033 1511.93 738.227 1514.62 Q741.421 1517.31 741.421 1521.8 Q741.421 1523.93 740.611 1525.85 Q739.824 1527.74 737.718 1530.34 Q737.139 1531.01 734.037 1534.23 Q730.935 1537.42 725.287 1543.18 Z\" fill=\"#000000\" fill-rule=\"evenodd\" fill-opacity=\"1\" /><path clip-path=\"url(#clip660)\" d=\"M 0 0 M1254.79 1528.49 Q1258.15 1529.2 1260.02 1531.47 Q1261.92 1533.74 1261.92 1537.07 Q1261.92 1542.19 1258.4 1544.99 Q1254.89 1547.79 1248.4 1547.79 Q1246.23 1547.79 1243.91 1547.35 Q1241.62 1546.93 1239.17 1546.08 L1239.17 1541.56 Q1241.11 1542.7 1243.43 1543.28 Q1245.74 1543.86 1248.27 1543.86 Q1252.66 1543.86 1254.95 1542.12 Q1257.27 1540.38 1257.27 1537.07 Q1257.27 1534.02 1255.12 1532.31 Q1252.99 1530.57 1249.17 1530.57 L1245.14 1530.57 L1245.14 1526.73 L1249.35 1526.73 Q1252.8 1526.73 1254.63 1525.36 Q1256.46 1523.97 1256.46 1521.38 Q1256.46 1518.72 1254.56 1517.31 Q1252.69 1515.87 1249.17 1515.87 Q1247.25 1515.87 1245.05 1516.29 Q1242.85 1516.7 1240.21 1517.58 L1240.21 1513.42 Q1242.87 1512.68 1245.19 1512.31 Q1247.52 1511.93 1249.58 1511.93 Q1254.91 1511.93 1258.01 1514.37 Q1261.11 1516.77 1261.11 1520.89 Q1261.11 1523.76 1259.47 1525.75 Q1257.83 1527.72 1254.79 1528.49 Z\" fill=\"#000000\" fill-rule=\"evenodd\" fill-opacity=\"1\" /><path clip-path=\"url(#clip660)\" d=\"M 0 0 M1773.47 1516.63 L1761.66 1535.08 L1773.47 1535.08 L1773.47 1516.63 M1772.24 1512.56 L1778.12 1512.56 L1778.12 1535.08 L1783.05 1535.08 L1783.05 1538.97 L1778.12 1538.97 L1778.12 1547.12 L1773.47 1547.12 L1773.47 1538.97 L1757.86 1538.97 L1757.86 1534.46 L1772.24 1512.56 Z\" fill=\"#000000\" fill-rule=\"evenodd\" fill-opacity=\"1\" /><path clip-path=\"url(#clip660)\" d=\"M 0 0 M2280.64 1512.56 L2299 1512.56 L2299 1516.5 L2284.93 1516.5 L2284.93 1524.97 Q2285.95 1524.62 2286.96 1524.46 Q2287.98 1524.27 2289 1524.27 Q2294.79 1524.27 2298.17 1527.44 Q2301.55 1530.62 2301.55 1536.03 Q2301.55 1541.61 2298.07 1544.71 Q2294.6 1547.79 2288.28 1547.79 Q2286.11 1547.79 2283.84 1547.42 Q2281.59 1547.05 2279.19 1546.31 L2279.19 1541.61 Q2281.27 1542.74 2283.49 1543.3 Q2285.71 1543.86 2288.19 1543.86 Q2292.2 1543.86 2294.53 1541.75 Q2296.87 1539.64 2296.87 1536.03 Q2296.87 1532.42 2294.53 1530.31 Q2292.2 1528.21 2288.19 1528.21 Q2286.32 1528.21 2284.44 1528.62 Q2282.59 1529.04 2280.64 1529.92 L2280.64 1512.56 Z\" fill=\"#000000\" fill-rule=\"evenodd\" fill-opacity=\"1\" /><polyline clip-path=\"url(#clip662)\" style=\"stroke:#000000; stroke-width:2; stroke-opacity:0.1; fill:none\" points=\"\n  148.334,1483.99 2352.76,1483.99 \n  \"/>\n<polyline clip-path=\"url(#clip662)\" style=\"stroke:#000000; stroke-width:2; stroke-opacity:0.1; fill:none\" points=\"\n  148.334,1200.01 2352.76,1200.01 \n  \"/>\n<polyline clip-path=\"url(#clip662)\" style=\"stroke:#000000; stroke-width:2; stroke-opacity:0.1; fill:none\" points=\"\n  148.334,916.024 2352.76,916.024 \n  \"/>\n<polyline clip-path=\"url(#clip662)\" style=\"stroke:#000000; stroke-width:2; stroke-opacity:0.1; fill:none\" points=\"\n  148.334,632.04 2352.76,632.04 \n  \"/>\n<polyline clip-path=\"url(#clip662)\" style=\"stroke:#000000; stroke-width:2; stroke-opacity:0.1; fill:none\" points=\"\n  148.334,348.056 2352.76,348.056 \n  \"/>\n<polyline clip-path=\"url(#clip660)\" style=\"stroke:#000000; stroke-width:4; stroke-opacity:1; fill:none\" points=\"\n  148.334,1486.45 148.334,123.472 \n  \"/>\n<polyline clip-path=\"url(#clip660)\" style=\"stroke:#000000; stroke-width:4; stroke-opacity:1; fill:none\" points=\"\n  148.334,1483.99 174.787,1483.99 \n  \"/>\n<polyline clip-path=\"url(#clip660)\" style=\"stroke:#000000; stroke-width:4; stroke-opacity:1; fill:none\" points=\"\n  148.334,1200.01 174.787,1200.01 \n  \"/>\n<polyline clip-path=\"url(#clip660)\" style=\"stroke:#000000; stroke-width:4; stroke-opacity:1; fill:none\" points=\"\n  148.334,916.024 174.787,916.024 \n  \"/>\n<polyline clip-path=\"url(#clip660)\" style=\"stroke:#000000; stroke-width:4; stroke-opacity:1; fill:none\" points=\"\n  148.334,632.04 174.787,632.04 \n  \"/>\n<polyline clip-path=\"url(#clip660)\" style=\"stroke:#000000; stroke-width:4; stroke-opacity:1; fill:none\" points=\"\n  148.334,348.056 174.787,348.056 \n  \"/>\n<path clip-path=\"url(#clip660)\" d=\"M 0 0 M63.4226 1469.79 Q59.8115 1469.79 57.9828 1473.36 Q56.1773 1476.9 56.1773 1484.03 Q56.1773 1491.13 57.9828 1494.7 Q59.8115 1498.24 63.4226 1498.24 Q67.0569 1498.24 68.8624 1494.7 Q70.6911 1491.13 70.6911 1484.03 Q70.6911 1476.9 68.8624 1473.36 Q67.0569 1469.79 63.4226 1469.79 M63.4226 1466.09 Q69.2328 1466.09 72.2883 1470.69 Q75.367 1475.28 75.367 1484.03 Q75.367 1492.75 72.2883 1497.36 Q69.2328 1501.94 63.4226 1501.94 Q57.6125 1501.94 54.5338 1497.36 Q51.4782 1492.75 51.4782 1484.03 Q51.4782 1475.28 54.5338 1470.69 Q57.6125 1466.09 63.4226 1466.09 Z\" fill=\"#000000\" fill-rule=\"evenodd\" fill-opacity=\"1\" /><path clip-path=\"url(#clip660)\" d=\"M 0 0 M80.4364 1495.39 L85.3206 1495.39 L85.3206 1501.27 L80.4364 1501.27 L80.4364 1495.39 Z\" fill=\"#000000\" fill-rule=\"evenodd\" fill-opacity=\"1\" /><path clip-path=\"url(#clip660)\" d=\"M 0 0 M100.39 1469.79 Q96.7789 1469.79 94.9502 1473.36 Q93.1447 1476.9 93.1447 1484.03 Q93.1447 1491.13 94.9502 1494.7 Q96.7789 1498.24 100.39 1498.24 Q104.024 1498.24 105.83 1494.7 Q107.658 1491.13 107.658 1484.03 Q107.658 1476.9 105.83 1473.36 Q104.024 1469.79 100.39 1469.79 M100.39 1466.09 Q106.2 1466.09 109.256 1470.69 Q112.334 1475.28 112.334 1484.03 Q112.334 1492.75 109.256 1497.36 Q106.2 1501.94 100.39 1501.94 Q94.5799 1501.94 91.5012 1497.36 Q88.4456 1492.75 88.4456 1484.03 Q88.4456 1475.28 91.5012 1470.69 Q94.5799 1466.09 100.39 1466.09 Z\" fill=\"#000000\" fill-rule=\"evenodd\" fill-opacity=\"1\" /><path clip-path=\"url(#clip660)\" d=\"M 0 0 M65.0198 1185.81 Q61.4087 1185.81 59.58 1189.37 Q57.7745 1192.91 57.7745 1200.04 Q57.7745 1207.15 59.58 1210.71 Q61.4087 1214.26 65.0198 1214.26 Q68.6541 1214.26 70.4596 1210.71 Q72.2883 1207.15 72.2883 1200.04 Q72.2883 1192.91 70.4596 1189.37 Q68.6541 1185.81 65.0198 1185.81 M65.0198 1182.1 Q70.83 1182.1 73.8855 1186.71 Q76.9642 1191.29 76.9642 1200.04 Q76.9642 1208.77 73.8855 1213.38 Q70.83 1217.96 65.0198 1217.96 Q59.2097 1217.96 56.131 1213.38 Q53.0754 1208.77 53.0754 1200.04 Q53.0754 1191.29 56.131 1186.71 Q59.2097 1182.1 65.0198 1182.1 Z\" fill=\"#000000\" fill-rule=\"evenodd\" fill-opacity=\"1\" /><path clip-path=\"url(#clip660)\" d=\"M 0 0 M82.0336 1211.41 L86.9179 1211.41 L86.9179 1217.29 L82.0336 1217.29 L82.0336 1211.41 Z\" fill=\"#000000\" fill-rule=\"evenodd\" fill-opacity=\"1\" /><path clip-path=\"url(#clip660)\" d=\"M 0 0 M96.015 1213.35 L112.334 1213.35 L112.334 1217.29 L90.3901 1217.29 L90.3901 1213.35 Q93.0521 1210.6 97.6354 1205.97 Q102.242 1201.32 103.422 1199.97 Q105.668 1197.45 106.547 1195.71 Q107.45 1193.95 107.45 1192.27 Q107.45 1189.51 105.506 1187.77 Q103.584 1186.04 100.483 1186.04 Q98.2835 1186.04 95.8298 1186.8 Q93.3993 1187.57 90.6215 1189.12 L90.6215 1184.39 Q93.4456 1183.26 95.8993 1182.68 Q98.353 1182.1 100.39 1182.1 Q105.76 1182.1 108.955 1184.79 Q112.149 1187.47 112.149 1191.96 Q112.149 1194.09 111.339 1196.01 Q110.552 1197.91 108.446 1200.51 Q107.867 1201.18 104.765 1204.39 Q101.663 1207.59 96.015 1213.35 Z\" fill=\"#000000\" fill-rule=\"evenodd\" fill-opacity=\"1\" /><path clip-path=\"url(#clip660)\" d=\"M 0 0 M62.9365 901.823 Q59.3254 901.823 57.4967 905.388 Q55.6912 908.929 55.6912 916.059 Q55.6912 923.165 57.4967 926.73 Q59.3254 930.272 62.9365 930.272 Q66.5707 930.272 68.3763 926.73 Q70.205 923.165 70.205 916.059 Q70.205 908.929 68.3763 905.388 Q66.5707 901.823 62.9365 901.823 M62.9365 898.119 Q68.7467 898.119 71.8022 902.725 Q74.8809 907.309 74.8809 916.059 Q74.8809 924.786 71.8022 929.392 Q68.7467 933.975 62.9365 933.975 Q57.1264 933.975 54.0477 929.392 Q50.9921 924.786 50.9921 916.059 Q50.9921 907.309 54.0477 902.725 Q57.1264 898.119 62.9365 898.119 Z\" fill=\"#000000\" fill-rule=\"evenodd\" fill-opacity=\"1\" /><path clip-path=\"url(#clip660)\" d=\"M 0 0 M79.9503 927.424 L84.8345 927.424 L84.8345 933.304 L79.9503 933.304 L79.9503 927.424 Z\" fill=\"#000000\" fill-rule=\"evenodd\" fill-opacity=\"1\" /><path clip-path=\"url(#clip660)\" d=\"M 0 0 M102.751 902.818 L90.9456 921.267 L102.751 921.267 L102.751 902.818 M101.524 898.744 L107.404 898.744 L107.404 921.267 L112.334 921.267 L112.334 925.156 L107.404 925.156 L107.404 933.304 L102.751 933.304 L102.751 925.156 L87.1493 925.156 L87.1493 920.642 L101.524 898.744 Z\" fill=\"#000000\" fill-rule=\"evenodd\" fill-opacity=\"1\" /><path clip-path=\"url(#clip660)\" d=\"M 0 0 M63.2606 617.839 Q59.6495 617.839 57.8208 621.404 Q56.0152 624.945 56.0152 632.075 Q56.0152 639.181 57.8208 642.746 Q59.6495 646.288 63.2606 646.288 Q66.8948 646.288 68.7004 642.746 Q70.5291 639.181 70.5291 632.075 Q70.5291 624.945 68.7004 621.404 Q66.8948 617.839 63.2606 617.839 M63.2606 614.135 Q69.0707 614.135 72.1263 618.741 Q75.205 623.325 75.205 632.075 Q75.205 640.802 72.1263 645.408 Q69.0707 649.991 63.2606 649.991 Q57.4504 649.991 54.3717 645.408 Q51.3162 640.802 51.3162 632.075 Q51.3162 623.325 54.3717 618.741 Q57.4504 614.135 63.2606 614.135 Z\" fill=\"#000000\" fill-rule=\"evenodd\" fill-opacity=\"1\" /><path clip-path=\"url(#clip660)\" d=\"M 0 0 M80.2744 643.44 L85.1586 643.44 L85.1586 649.32 L80.2744 649.32 L80.2744 643.44 Z\" fill=\"#000000\" fill-rule=\"evenodd\" fill-opacity=\"1\" /><path clip-path=\"url(#clip660)\" d=\"M 0 0 M100.807 630.177 Q97.6585 630.177 95.8067 632.329 Q93.978 634.482 93.978 638.232 Q93.978 641.959 95.8067 644.135 Q97.6585 646.288 100.807 646.288 Q103.955 646.288 105.783 644.135 Q107.635 641.959 107.635 638.232 Q107.635 634.482 105.783 632.329 Q103.955 630.177 100.807 630.177 M110.089 615.524 L110.089 619.783 Q108.33 618.95 106.524 618.51 Q104.742 618.07 102.983 618.07 Q98.353 618.07 95.8993 621.195 Q93.4688 624.32 93.1215 630.64 Q94.4873 628.626 96.5474 627.561 Q98.6076 626.473 101.084 626.473 Q106.293 626.473 109.302 629.644 Q112.334 632.792 112.334 638.232 Q112.334 643.556 109.186 646.774 Q106.038 649.991 100.807 649.991 Q94.8113 649.991 91.6401 645.408 Q88.4688 640.802 88.4688 632.075 Q88.4688 623.88 92.3576 619.019 Q96.2465 614.135 102.797 614.135 Q104.557 614.135 106.339 614.482 Q108.145 614.829 110.089 615.524 Z\" fill=\"#000000\" fill-rule=\"evenodd\" fill-opacity=\"1\" /><path clip-path=\"url(#clip660)\" d=\"M 0 0 M63.5152 333.855 Q59.9041 333.855 58.0754 337.42 Q56.2699 340.961 56.2699 348.091 Q56.2699 355.197 58.0754 358.762 Q59.9041 362.304 63.5152 362.304 Q67.1494 362.304 68.955 358.762 Q70.7837 355.197 70.7837 348.091 Q70.7837 340.961 68.955 337.42 Q67.1494 333.855 63.5152 333.855 M63.5152 330.151 Q69.3254 330.151 72.3809 334.757 Q75.4596 339.341 75.4596 348.091 Q75.4596 356.818 72.3809 361.424 Q69.3254 366.007 63.5152 366.007 Q57.7051 366.007 54.6264 361.424 Q51.5708 356.818 51.5708 348.091 Q51.5708 339.341 54.6264 334.757 Q57.7051 330.151 63.5152 330.151 Z\" fill=\"#000000\" fill-rule=\"evenodd\" fill-opacity=\"1\" /><path clip-path=\"url(#clip660)\" d=\"M 0 0 M80.529 359.456 L85.4132 359.456 L85.4132 365.336 L80.529 365.336 L80.529 359.456 Z\" fill=\"#000000\" fill-rule=\"evenodd\" fill-opacity=\"1\" /><path clip-path=\"url(#clip660)\" d=\"M 0 0 M100.483 348.924 Q97.1493 348.924 95.228 350.706 Q93.3299 352.489 93.3299 355.614 Q93.3299 358.739 95.228 360.521 Q97.1493 362.304 100.483 362.304 Q103.816 362.304 105.737 360.521 Q107.658 358.716 107.658 355.614 Q107.658 352.489 105.737 350.706 Q103.839 348.924 100.483 348.924 M95.8067 346.933 Q92.7975 346.193 91.1077 344.132 Q89.441 342.072 89.441 339.109 Q89.441 334.966 92.3808 332.558 Q95.3437 330.151 100.483 330.151 Q105.645 330.151 108.584 332.558 Q111.524 334.966 111.524 339.109 Q111.524 342.072 109.834 344.132 Q108.168 346.193 105.182 346.933 Q108.561 347.72 110.436 350.012 Q112.334 352.304 112.334 355.614 Q112.334 360.637 109.256 363.322 Q106.2 366.007 100.483 366.007 Q94.765 366.007 91.6864 363.322 Q88.6308 360.637 88.6308 355.614 Q88.6308 352.304 90.529 350.012 Q92.4271 347.72 95.8067 346.933 M94.0937 339.549 Q94.0937 342.234 95.7604 343.739 Q97.4502 345.244 100.483 345.244 Q103.492 345.244 105.182 343.739 Q106.895 342.234 106.895 339.549 Q106.895 336.864 105.182 335.359 Q103.492 333.855 100.483 333.855 Q97.4502 333.855 95.7604 335.359 Q94.0937 336.864 94.0937 339.549 Z\" fill=\"#000000\" fill-rule=\"evenodd\" fill-opacity=\"1\" /><path clip-path=\"url(#clip660)\" d=\"M 0 0 M1082.66 28.5427 L1082.66 35.5912 Q1079.5 33.9709 1076.09 33.1607 Q1072.69 32.3505 1069.04 32.3505 Q1063.49 32.3505 1060.7 34.0519 Q1057.94 35.7533 1057.94 39.156 Q1057.94 41.7486 1059.93 43.2475 Q1061.91 44.7058 1067.91 46.0426 L1070.46 46.6097 Q1078.4 48.3111 1081.72 51.4303 Q1085.09 54.509 1085.09 60.0587 Q1085.09 66.3781 1080.06 70.0644 Q1075.08 73.7508 1066.33 73.7508 Q1062.68 73.7508 1058.71 73.0216 Q1054.79 72.3329 1050.41 70.9151 L1050.41 63.2184 Q1054.54 65.3654 1058.55 66.4591 Q1062.56 67.5124 1066.49 67.5124 Q1071.76 67.5124 1074.59 65.73 Q1077.43 63.9071 1077.43 60.6258 Q1077.43 57.5877 1075.36 55.9673 Q1073.34 54.3469 1066.41 52.8481 L1063.82 52.2405 Q1056.89 50.7821 1053.81 47.7845 Q1050.73 44.7463 1050.73 39.4801 Q1050.73 33.0797 1055.27 29.5959 Q1059.81 26.1121 1068.15 26.1121 Q1072.29 26.1121 1075.93 26.7198 Q1079.58 27.3274 1082.66 28.5427 Z\" fill=\"#000000\" fill-rule=\"evenodd\" fill-opacity=\"1\" /><path clip-path=\"url(#clip660)\" d=\"M 0 0 M1092.9 27.2059 L1100.36 27.2059 L1100.36 72.576 L1092.9 72.576 L1092.9 27.2059 M1092.9 9.54393 L1100.36 9.54393 L1100.36 18.9825 L1092.9 18.9825 L1092.9 9.54393 Z\" fill=\"#000000\" fill-rule=\"evenodd\" fill-opacity=\"1\" /><path clip-path=\"url(#clip660)\" d=\"M 0 0 M1143.5 35.9153 Q1146.3 30.8922 1150.18 28.5022 Q1154.07 26.1121 1159.34 26.1121 Q1166.43 26.1121 1170.28 31.0947 Q1174.12 36.0368 1174.12 45.1919 L1174.12 72.576 L1166.63 72.576 L1166.63 45.4349 Q1166.63 38.913 1164.32 35.7533 Q1162.01 32.5936 1157.27 32.5936 Q1151.48 32.5936 1148.12 36.4419 Q1144.76 40.2903 1144.76 46.9338 L1144.76 72.576 L1137.26 72.576 L1137.26 45.4349 Q1137.26 38.8725 1134.95 35.7533 Q1132.64 32.5936 1127.82 32.5936 Q1122.11 32.5936 1118.75 36.4824 Q1115.39 40.3308 1115.39 46.9338 L1115.39 72.576 L1107.89 72.576 L1107.89 27.2059 L1115.39 27.2059 L1115.39 34.2544 Q1117.94 30.082 1121.5 28.0971 Q1125.07 26.1121 1129.97 26.1121 Q1134.91 26.1121 1138.36 28.6237 Q1141.84 31.1352 1143.5 35.9153 Z\" fill=\"#000000\" fill-rule=\"evenodd\" fill-opacity=\"1\" /><path clip-path=\"url(#clip660)\" d=\"M 0 0 M1189.15 65.7705 L1189.15 89.8329 L1181.66 89.8329 L1181.66 27.2059 L1189.15 27.2059 L1189.15 34.0924 Q1191.5 30.0415 1195.07 28.0971 Q1198.67 26.1121 1203.66 26.1121 Q1211.92 26.1121 1217.06 32.6746 Q1222.25 39.2371 1222.25 49.9314 Q1222.25 60.6258 1217.06 67.1883 Q1211.92 73.7508 1203.66 73.7508 Q1198.67 73.7508 1195.07 71.8063 Q1191.5 69.8214 1189.15 65.7705 M1214.51 49.9314 Q1214.51 41.7081 1211.11 37.0496 Q1207.75 32.3505 1201.83 32.3505 Q1195.92 32.3505 1192.52 37.0496 Q1189.15 41.7081 1189.15 49.9314 Q1189.15 58.1548 1192.52 62.8538 Q1195.92 67.5124 1201.83 67.5124 Q1207.75 67.5124 1211.11 62.8538 Q1214.51 58.1548 1214.51 49.9314 Z\" fill=\"#000000\" fill-rule=\"evenodd\" fill-opacity=\"1\" /><path clip-path=\"url(#clip660)\" d=\"M 0 0 M1230.07 9.54393 L1237.52 9.54393 L1237.52 72.576 L1230.07 72.576 L1230.07 9.54393 Z\" fill=\"#000000\" fill-rule=\"evenodd\" fill-opacity=\"1\" /><path clip-path=\"url(#clip660)\" d=\"M 0 0 M1284.15 48.0275 L1284.15 51.6733 L1249.88 51.6733 Q1250.36 59.3701 1254.49 63.421 Q1258.67 67.4314 1266.08 67.4314 Q1270.37 67.4314 1274.38 66.3781 Q1278.44 65.3249 1282.41 63.2184 L1282.41 70.267 Q1278.4 71.9684 1274.18 72.8596 Q1269.97 73.7508 1265.63 73.7508 Q1254.78 73.7508 1248.42 67.4314 Q1242.1 61.1119 1242.1 50.3365 Q1242.1 39.1965 1248.09 32.6746 Q1254.13 26.1121 1264.34 26.1121 Q1273.49 26.1121 1278.8 32.0264 Q1284.15 37.9003 1284.15 48.0275 M1276.69 45.84 Q1276.61 39.7232 1273.25 36.0774 Q1269.93 32.4315 1264.42 32.4315 Q1258.18 32.4315 1254.41 35.9558 Q1250.69 39.4801 1250.12 45.8805 L1276.69 45.84 Z\" fill=\"#000000\" fill-rule=\"evenodd\" fill-opacity=\"1\" /><path clip-path=\"url(#clip660)\" d=\"M 0 0 M1325.55 65.7705 L1325.55 89.8329 L1318.05 89.8329 L1318.05 27.2059 L1325.55 27.2059 L1325.55 34.0924 Q1327.9 30.0415 1331.46 28.0971 Q1335.07 26.1121 1340.05 26.1121 Q1348.31 26.1121 1353.46 32.6746 Q1358.64 39.2371 1358.64 49.9314 Q1358.64 60.6258 1353.46 67.1883 Q1348.31 73.7508 1340.05 73.7508 Q1335.07 73.7508 1331.46 71.8063 Q1327.9 69.8214 1325.55 65.7705 M1350.91 49.9314 Q1350.91 41.7081 1347.5 37.0496 Q1344.14 32.3505 1338.23 32.3505 Q1332.31 32.3505 1328.91 37.0496 Q1325.55 41.7081 1325.55 49.9314 Q1325.55 58.1548 1328.91 62.8538 Q1332.31 67.5124 1338.23 67.5124 Q1344.14 67.5124 1347.5 62.8538 Q1350.91 58.1548 1350.91 49.9314 Z\" fill=\"#000000\" fill-rule=\"evenodd\" fill-opacity=\"1\" /><path clip-path=\"url(#clip660)\" d=\"M 0 0 M1366.46 9.54393 L1373.92 9.54393 L1373.92 72.576 L1366.46 72.576 L1366.46 9.54393 Z\" fill=\"#000000\" fill-rule=\"evenodd\" fill-opacity=\"1\" /><path clip-path=\"url(#clip660)\" d=\"M 0 0 M1399.31 32.4315 Q1393.32 32.4315 1389.84 37.1306 Q1386.35 41.7891 1386.35 49.9314 Q1386.35 58.0738 1389.79 62.7728 Q1393.28 67.4314 1399.31 67.4314 Q1405.27 67.4314 1408.75 62.7323 Q1412.24 58.0333 1412.24 49.9314 Q1412.24 41.8701 1408.75 37.1711 Q1405.27 32.4315 1399.31 32.4315 M1399.31 26.1121 Q1409.04 26.1121 1414.59 32.4315 Q1420.14 38.7509 1420.14 49.9314 Q1420.14 61.0714 1414.59 67.4314 Q1409.04 73.7508 1399.31 73.7508 Q1389.55 73.7508 1384 67.4314 Q1378.49 61.0714 1378.49 49.9314 Q1378.49 38.7509 1384 32.4315 Q1389.55 26.1121 1399.31 26.1121 Z\" fill=\"#000000\" fill-rule=\"evenodd\" fill-opacity=\"1\" /><path clip-path=\"url(#clip660)\" d=\"M 0 0 M1435.33 14.324 L1435.33 27.2059 L1450.68 27.2059 L1450.68 32.9987 L1435.33 32.9987 L1435.33 57.6282 Q1435.33 63.1779 1436.83 64.7578 Q1438.37 66.3376 1443.02 66.3376 L1450.68 66.3376 L1450.68 72.576 L1443.02 72.576 Q1434.4 72.576 1431.11 69.3758 Q1427.83 66.1351 1427.83 57.6282 L1427.83 32.9987 L1422.36 32.9987 L1422.36 27.2059 L1427.83 27.2059 L1427.83 14.324 L1435.33 14.324 Z\" fill=\"#000000\" fill-rule=\"evenodd\" fill-opacity=\"1\" /><polyline clip-path=\"url(#clip662)\" style=\"stroke:#009af9; stroke-width:8; stroke-opacity:1; fill:none\" points=\"\n  210.724,852.019 730.634,597.177 1250.55,826.705 1770.46,162.047 2290.37,428.755 \n  \"/>\n<polyline clip-path=\"url(#clip662)\" style=\"stroke:#e26f46; stroke-width:8; stroke-opacity:1; fill:none\" points=\"\n  210.724,1221.58 730.634,339.126 1250.55,589.698 1770.46,354.981 2290.37,254.778 \n  \"/>\n<polyline clip-path=\"url(#clip662)\" style=\"stroke:#3da44d; stroke-width:8; stroke-opacity:1; fill:none\" points=\"\n  210.724,711.836 730.634,525.69 1250.55,988.365 1770.46,1086.29 2290.37,1185.55 \n  \"/>\n<polyline clip-path=\"url(#clip662)\" style=\"stroke:#c271d2; stroke-width:8; stroke-opacity:1; fill:none\" points=\"\n  210.724,1447.87 730.634,1264.99 1250.55,525.239 1770.46,421.766 2290.37,360.944 \n  \"/>\n<polyline clip-path=\"url(#clip662)\" style=\"stroke:#ac8d18; stroke-width:8; stroke-opacity:1; fill:none\" points=\"\n  210.724,1420.34 730.634,742.693 1250.55,940.456 1770.46,979.361 2290.37,949.146 \n  \"/>\n<path clip-path=\"url(#clip660)\" d=\"\nM1981.61 531.785 L2279.28 531.785 L2279.28 168.905 L1981.61 168.905  Z\n  \" fill=\"#ffffff\" fill-rule=\"evenodd\" fill-opacity=\"1\"/>\n<polyline clip-path=\"url(#clip660)\" style=\"stroke:#000000; stroke-width:4; stroke-opacity:1; fill:none\" points=\"\n  1981.61,531.785 2279.28,531.785 2279.28,168.905 1981.61,168.905 1981.61,531.785 \n  \"/>\n<polyline clip-path=\"url(#clip660)\" style=\"stroke:#009af9; stroke-width:4; stroke-opacity:1; fill:none\" points=\"\n  2006.1,229.385 2153.06,229.385 \n  \"/>\n<path clip-path=\"url(#clip660)\" d=\"M 0 0 M2191.4 249.072 Q2189.59 253.702 2187.88 255.114 Q2186.17 256.526 2183.3 256.526 L2179.89 256.526 L2179.89 252.961 L2182.39 252.961 Q2184.15 252.961 2185.13 252.128 Q2186.1 251.294 2187.28 248.192 L2188.04 246.248 L2177.56 220.739 L2182.07 220.739 L2190.17 241.017 L2198.27 220.739 L2202.79 220.739 L2191.4 249.072 Z\" fill=\"#000000\" fill-rule=\"evenodd\" fill-opacity=\"1\" /><path clip-path=\"url(#clip660)\" d=\"M 0 0 M2208.67 242.729 L2216.31 242.729 L2216.31 216.364 L2208 218.031 L2208 213.771 L2216.26 212.105 L2220.94 212.105 L2220.94 242.729 L2228.58 242.729 L2228.58 246.665 L2208.67 246.665 L2208.67 242.729 Z\" fill=\"#000000\" fill-rule=\"evenodd\" fill-opacity=\"1\" /><polyline clip-path=\"url(#clip660)\" style=\"stroke:#e26f46; stroke-width:4; stroke-opacity:1; fill:none\" points=\"\n  2006.1,289.865 2153.06,289.865 \n  \"/>\n<path clip-path=\"url(#clip660)\" d=\"M 0 0 M2191.4 309.552 Q2189.59 314.182 2187.88 315.594 Q2186.17 317.006 2183.3 317.006 L2179.89 317.006 L2179.89 313.441 L2182.39 313.441 Q2184.15 313.441 2185.13 312.608 Q2186.1 311.774 2187.28 308.672 L2188.04 306.728 L2177.56 281.219 L2182.07 281.219 L2190.17 301.497 L2198.27 281.219 L2202.79 281.219 L2191.4 309.552 Z\" fill=\"#000000\" fill-rule=\"evenodd\" fill-opacity=\"1\" /><path clip-path=\"url(#clip660)\" d=\"M 0 0 M2211.89 303.209 L2228.2 303.209 L2228.2 307.145 L2206.26 307.145 L2206.26 303.209 Q2208.92 300.455 2213.51 295.825 Q2218.11 291.173 2219.29 289.83 Q2221.54 287.307 2222.42 285.571 Q2223.32 283.811 2223.32 282.122 Q2223.32 279.367 2221.38 277.631 Q2219.45 275.895 2216.35 275.895 Q2214.15 275.895 2211.7 276.659 Q2209.27 277.423 2206.49 278.974 L2206.49 274.251 Q2209.32 273.117 2211.77 272.538 Q2214.22 271.96 2216.26 271.96 Q2221.63 271.96 2224.83 274.645 Q2228.02 277.33 2228.02 281.821 Q2228.02 283.95 2227.21 285.872 Q2226.42 287.77 2224.32 290.362 Q2223.74 291.034 2220.64 294.251 Q2217.53 297.446 2211.89 303.209 Z\" fill=\"#000000\" fill-rule=\"evenodd\" fill-opacity=\"1\" /><polyline clip-path=\"url(#clip660)\" style=\"stroke:#3da44d; stroke-width:4; stroke-opacity:1; fill:none\" points=\"\n  2006.1,350.345 2153.06,350.345 \n  \"/>\n<path clip-path=\"url(#clip660)\" d=\"M 0 0 M2191.4 370.032 Q2189.59 374.662 2187.88 376.074 Q2186.17 377.486 2183.3 377.486 L2179.89 377.486 L2179.89 373.921 L2182.39 373.921 Q2184.15 373.921 2185.13 373.088 Q2186.1 372.254 2187.28 369.152 L2188.04 367.208 L2177.56 341.699 L2182.07 341.699 L2190.17 361.977 L2198.27 341.699 L2202.79 341.699 L2191.4 370.032 Z\" fill=\"#000000\" fill-rule=\"evenodd\" fill-opacity=\"1\" /><path clip-path=\"url(#clip660)\" d=\"M 0 0 M2222.02 348.99 Q2225.38 349.708 2227.26 351.977 Q2229.15 354.245 2229.15 357.578 Q2229.15 362.694 2225.64 365.495 Q2222.12 368.296 2215.64 368.296 Q2213.46 368.296 2211.14 367.856 Q2208.85 367.439 2206.4 366.583 L2206.4 362.069 Q2208.34 363.203 2210.66 363.782 Q2212.97 364.361 2215.5 364.361 Q2219.89 364.361 2222.19 362.625 Q2224.5 360.889 2224.5 357.578 Q2224.5 354.523 2222.35 352.81 Q2220.22 351.074 2216.4 351.074 L2212.37 351.074 L2212.37 347.231 L2216.58 347.231 Q2220.03 347.231 2221.86 345.866 Q2223.69 344.477 2223.69 341.884 Q2223.69 339.222 2221.79 337.81 Q2219.92 336.375 2216.4 336.375 Q2214.48 336.375 2212.28 336.791 Q2210.08 337.208 2207.44 338.088 L2207.44 333.921 Q2210.1 333.18 2212.42 332.81 Q2214.76 332.44 2216.82 332.44 Q2222.14 332.44 2225.24 334.87 Q2228.34 337.278 2228.34 341.398 Q2228.34 344.268 2226.7 346.259 Q2225.06 348.227 2222.02 348.99 Z\" fill=\"#000000\" fill-rule=\"evenodd\" fill-opacity=\"1\" /><polyline clip-path=\"url(#clip660)\" style=\"stroke:#c271d2; stroke-width:4; stroke-opacity:1; fill:none\" points=\"\n  2006.1,410.825 2153.06,410.825 \n  \"/>\n<path clip-path=\"url(#clip660)\" d=\"M 0 0 M2191.4 430.512 Q2189.59 435.142 2187.88 436.554 Q2186.17 437.966 2183.3 437.966 L2179.89 437.966 L2179.89 434.401 L2182.39 434.401 Q2184.15 434.401 2185.13 433.568 Q2186.1 432.734 2187.28 429.632 L2188.04 427.688 L2177.56 402.179 L2182.07 402.179 L2190.17 422.457 L2198.27 402.179 L2202.79 402.179 L2191.4 430.512 Z\" fill=\"#000000\" fill-rule=\"evenodd\" fill-opacity=\"1\" /><path clip-path=\"url(#clip660)\" d=\"M 0 0 M2220.7 397.619 L2208.9 416.068 L2220.7 416.068 L2220.7 397.619 M2219.48 393.545 L2225.36 393.545 L2225.36 416.068 L2230.29 416.068 L2230.29 419.957 L2225.36 419.957 L2225.36 428.105 L2220.7 428.105 L2220.7 419.957 L2205.1 419.957 L2205.1 415.443 L2219.48 393.545 Z\" fill=\"#000000\" fill-rule=\"evenodd\" fill-opacity=\"1\" /><polyline clip-path=\"url(#clip660)\" style=\"stroke:#ac8d18; stroke-width:4; stroke-opacity:1; fill:none\" points=\"\n  2006.1,471.305 2153.06,471.305 \n  \"/>\n<path clip-path=\"url(#clip660)\" d=\"M 0 0 M2191.4 490.992 Q2189.59 495.622 2187.88 497.034 Q2186.17 498.446 2183.3 498.446 L2179.89 498.446 L2179.89 494.881 L2182.39 494.881 Q2184.15 494.881 2185.13 494.048 Q2186.1 493.214 2187.28 490.112 L2188.04 488.168 L2177.56 462.659 L2182.07 462.659 L2190.17 482.937 L2198.27 462.659 L2202.79 462.659 L2191.4 490.992 Z\" fill=\"#000000\" fill-rule=\"evenodd\" fill-opacity=\"1\" /><path clip-path=\"url(#clip660)\" d=\"M 0 0 M2207.9 454.025 L2226.26 454.025 L2226.26 457.96 L2212.19 457.96 L2212.19 466.432 Q2213.2 466.085 2214.22 465.923 Q2215.24 465.738 2216.26 465.738 Q2222.05 465.738 2225.43 468.909 Q2228.81 472.08 2228.81 477.497 Q2228.81 483.075 2225.33 486.177 Q2221.86 489.256 2215.54 489.256 Q2213.37 489.256 2211.1 488.886 Q2208.85 488.515 2206.45 487.774 L2206.45 483.075 Q2208.53 484.21 2210.75 484.765 Q2212.97 485.321 2215.45 485.321 Q2219.45 485.321 2221.79 483.214 Q2224.13 481.108 2224.13 477.497 Q2224.13 473.886 2221.79 471.779 Q2219.45 469.673 2215.45 469.673 Q2213.58 469.673 2211.7 470.089 Q2209.85 470.506 2207.9 471.386 L2207.9 454.025 Z\" fill=\"#000000\" fill-rule=\"evenodd\" fill-opacity=\"1\" /></svg>\n"
          },
          "metadata": {
            "tags": []
          },
          "execution_count": 25
        }
      ]
    },
    {
      "cell_type": "code",
      "metadata": {
        "colab": {
          "base_uri": "https://localhost:8080/",
          "height": 421
        },
        "id": "y744BAX2GFVe",
        "outputId": "cb237884-35de-40c3-d157-299e3f48459e"
      },
      "source": [
        "x = 1:10; y = rand(10); # These are the plotting data \n",
        "plot(x,y, label=\"my label\")"
      ],
      "execution_count": 28,
      "outputs": [
        {
          "output_type": "execute_result",
          "data": {
            "image/svg+xml": "<?xml version=\"1.0\" encoding=\"utf-8\"?>\n<svg xmlns=\"http://www.w3.org/2000/svg\" xmlns:xlink=\"http://www.w3.org/1999/xlink\" width=\"600\" height=\"400\" viewBox=\"0 0 2400 1600\">\n<defs>\n  <clipPath id=\"clip700\">\n    <rect x=\"0\" y=\"0\" width=\"2400\" height=\"1600\"/>\n  </clipPath>\n</defs>\n<path clip-path=\"url(#clip700)\" d=\"\nM0 1600 L2400 1600 L2400 0 L0 0  Z\n  \" fill=\"#ffffff\" fill-rule=\"evenodd\" fill-opacity=\"1\"/>\n<defs>\n  <clipPath id=\"clip701\">\n    <rect x=\"480\" y=\"0\" width=\"1681\" height=\"1600\"/>\n  </clipPath>\n</defs>\n<path clip-path=\"url(#clip700)\" d=\"\nM148.334 1486.45 L2352.76 1486.45 L2352.76 47.2441 L148.334 47.2441  Z\n  \" fill=\"#ffffff\" fill-rule=\"evenodd\" fill-opacity=\"1\"/>\n<defs>\n  <clipPath id=\"clip702\">\n    <rect x=\"148\" y=\"47\" width=\"2205\" height=\"1440\"/>\n  </clipPath>\n</defs>\n<polyline clip-path=\"url(#clip702)\" style=\"stroke:#000000; stroke-width:2; stroke-opacity:0.1; fill:none\" points=\"\n  441.795,1486.45 441.795,47.2441 \n  \"/>\n<polyline clip-path=\"url(#clip702)\" style=\"stroke:#000000; stroke-width:2; stroke-opacity:0.1; fill:none\" points=\"\n  903.938,1486.45 903.938,47.2441 \n  \"/>\n<polyline clip-path=\"url(#clip702)\" style=\"stroke:#000000; stroke-width:2; stroke-opacity:0.1; fill:none\" points=\"\n  1366.08,1486.45 1366.08,47.2441 \n  \"/>\n<polyline clip-path=\"url(#clip702)\" style=\"stroke:#000000; stroke-width:2; stroke-opacity:0.1; fill:none\" points=\"\n  1828.22,1486.45 1828.22,47.2441 \n  \"/>\n<polyline clip-path=\"url(#clip702)\" style=\"stroke:#000000; stroke-width:2; stroke-opacity:0.1; fill:none\" points=\"\n  2290.37,1486.45 2290.37,47.2441 \n  \"/>\n<polyline clip-path=\"url(#clip700)\" style=\"stroke:#000000; stroke-width:4; stroke-opacity:1; fill:none\" points=\"\n  148.334,1486.45 2352.76,1486.45 \n  \"/>\n<polyline clip-path=\"url(#clip700)\" style=\"stroke:#000000; stroke-width:4; stroke-opacity:1; fill:none\" points=\"\n  441.795,1486.45 441.795,1469.18 \n  \"/>\n<polyline clip-path=\"url(#clip700)\" style=\"stroke:#000000; stroke-width:4; stroke-opacity:1; fill:none\" points=\"\n  903.938,1486.45 903.938,1469.18 \n  \"/>\n<polyline clip-path=\"url(#clip700)\" style=\"stroke:#000000; stroke-width:4; stroke-opacity:1; fill:none\" points=\"\n  1366.08,1486.45 1366.08,1469.18 \n  \"/>\n<polyline clip-path=\"url(#clip700)\" style=\"stroke:#000000; stroke-width:4; stroke-opacity:1; fill:none\" points=\"\n  1828.22,1486.45 1828.22,1469.18 \n  \"/>\n<polyline clip-path=\"url(#clip700)\" style=\"stroke:#000000; stroke-width:4; stroke-opacity:1; fill:none\" points=\"\n  2290.37,1486.45 2290.37,1469.18 \n  \"/>\n<path clip-path=\"url(#clip700)\" d=\"M 0 0 M436.448 1543.18 L452.767 1543.18 L452.767 1547.12 L430.823 1547.12 L430.823 1543.18 Q433.485 1540.43 438.068 1535.8 Q442.675 1531.15 443.855 1529.81 Q446.101 1527.28 446.98 1525.55 Q447.883 1523.79 447.883 1522.1 Q447.883 1519.34 445.939 1517.61 Q444.017 1515.87 440.915 1515.87 Q438.716 1515.87 436.263 1516.63 Q433.832 1517.4 431.054 1518.95 L431.054 1514.23 Q433.878 1513.09 436.332 1512.51 Q438.786 1511.93 440.823 1511.93 Q446.193 1511.93 449.388 1514.62 Q452.582 1517.31 452.582 1521.8 Q452.582 1523.93 451.772 1525.85 Q450.985 1527.74 448.878 1530.34 Q448.3 1531.01 445.198 1534.23 Q442.096 1537.42 436.448 1543.18 Z\" fill=\"#000000\" fill-rule=\"evenodd\" fill-opacity=\"1\" /><path clip-path=\"url(#clip700)\" d=\"M 0 0 M906.947 1516.63 L895.142 1535.08 L906.947 1535.08 L906.947 1516.63 M905.72 1512.56 L911.6 1512.56 L911.6 1535.08 L916.531 1535.08 L916.531 1538.97 L911.6 1538.97 L911.6 1547.12 L906.947 1547.12 L906.947 1538.97 L891.345 1538.97 L891.345 1534.46 L905.72 1512.56 Z\" fill=\"#000000\" fill-rule=\"evenodd\" fill-opacity=\"1\" /><path clip-path=\"url(#clip700)\" d=\"M 0 0 M1366.49 1527.98 Q1363.34 1527.98 1361.49 1530.13 Q1359.66 1532.28 1359.66 1536.03 Q1359.66 1539.76 1361.49 1541.93 Q1363.34 1544.09 1366.49 1544.09 Q1369.63 1544.09 1371.46 1541.93 Q1373.31 1539.76 1373.31 1536.03 Q1373.31 1532.28 1371.46 1530.13 Q1369.63 1527.98 1366.49 1527.98 M1375.77 1513.32 L1375.77 1517.58 Q1374.01 1516.75 1372.2 1516.31 Q1370.42 1515.87 1368.66 1515.87 Q1364.03 1515.87 1361.58 1519 Q1359.15 1522.12 1358.8 1528.44 Q1360.17 1526.43 1362.23 1525.36 Q1364.29 1524.27 1366.76 1524.27 Q1371.97 1524.27 1374.98 1527.44 Q1378.01 1530.59 1378.01 1536.03 Q1378.01 1541.36 1374.87 1544.57 Q1371.72 1547.79 1366.49 1547.79 Q1360.49 1547.79 1357.32 1543.21 Q1354.15 1538.6 1354.15 1529.87 Q1354.15 1521.68 1358.04 1516.82 Q1361.93 1511.93 1368.48 1511.93 Q1370.24 1511.93 1372.02 1512.28 Q1373.82 1512.63 1375.77 1513.32 Z\" fill=\"#000000\" fill-rule=\"evenodd\" fill-opacity=\"1\" /><path clip-path=\"url(#clip700)\" d=\"M 0 0 M1828.22 1530.71 Q1824.89 1530.71 1822.97 1532.49 Q1821.07 1534.27 1821.07 1537.4 Q1821.07 1540.52 1822.97 1542.31 Q1824.89 1544.09 1828.22 1544.09 Q1831.56 1544.09 1833.48 1542.31 Q1835.4 1540.5 1835.4 1537.4 Q1835.4 1534.27 1833.48 1532.49 Q1831.58 1530.71 1828.22 1530.71 M1823.55 1528.72 Q1820.54 1527.98 1818.85 1525.92 Q1817.18 1523.86 1817.18 1520.89 Q1817.18 1516.75 1820.12 1514.34 Q1823.08 1511.93 1828.22 1511.93 Q1833.39 1511.93 1836.33 1514.34 Q1839.27 1516.75 1839.27 1520.89 Q1839.27 1523.86 1837.58 1525.92 Q1835.91 1527.98 1832.92 1528.72 Q1836.3 1529.5 1838.18 1531.8 Q1840.08 1534.09 1840.08 1537.4 Q1840.08 1542.42 1837 1545.11 Q1833.94 1547.79 1828.22 1547.79 Q1822.51 1547.79 1819.43 1545.11 Q1816.37 1542.42 1816.37 1537.4 Q1816.37 1534.09 1818.27 1531.8 Q1820.17 1529.5 1823.55 1528.72 M1821.83 1521.33 Q1821.83 1524.02 1823.5 1525.52 Q1825.19 1527.03 1828.22 1527.03 Q1831.23 1527.03 1832.92 1525.52 Q1834.64 1524.02 1834.64 1521.33 Q1834.64 1518.65 1832.92 1517.14 Q1831.23 1515.64 1828.22 1515.64 Q1825.19 1515.64 1823.5 1517.14 Q1821.83 1518.65 1821.83 1521.33 Z\" fill=\"#000000\" fill-rule=\"evenodd\" fill-opacity=\"1\" /><path clip-path=\"url(#clip700)\" d=\"M 0 0 M2267.24 1543.18 L2274.88 1543.18 L2274.88 1516.82 L2266.57 1518.49 L2266.57 1514.23 L2274.83 1512.56 L2279.51 1512.56 L2279.51 1543.18 L2287.15 1543.18 L2287.15 1547.12 L2267.24 1547.12 L2267.24 1543.18 Z\" fill=\"#000000\" fill-rule=\"evenodd\" fill-opacity=\"1\" /><path clip-path=\"url(#clip700)\" d=\"M 0 0 M2302.22 1515.64 Q2298.61 1515.64 2296.78 1519.2 Q2294.97 1522.75 2294.97 1529.87 Q2294.97 1536.98 2296.78 1540.55 Q2298.61 1544.09 2302.22 1544.09 Q2305.85 1544.09 2307.66 1540.55 Q2309.49 1536.98 2309.49 1529.87 Q2309.49 1522.75 2307.66 1519.2 Q2305.85 1515.64 2302.22 1515.64 M2302.22 1511.93 Q2308.03 1511.93 2311.08 1516.54 Q2314.16 1521.12 2314.16 1529.87 Q2314.16 1538.6 2311.08 1543.21 Q2308.03 1547.79 2302.22 1547.79 Q2296.41 1547.79 2293.33 1543.21 Q2290.27 1538.6 2290.27 1529.87 Q2290.27 1521.12 2293.33 1516.54 Q2296.41 1511.93 2302.22 1511.93 Z\" fill=\"#000000\" fill-rule=\"evenodd\" fill-opacity=\"1\" /><polyline clip-path=\"url(#clip702)\" style=\"stroke:#000000; stroke-width:2; stroke-opacity:0.1; fill:none\" points=\"\n  148.334,1254.32 2352.76,1254.32 \n  \"/>\n<polyline clip-path=\"url(#clip702)\" style=\"stroke:#000000; stroke-width:2; stroke-opacity:0.1; fill:none\" points=\"\n  148.334,939.561 2352.76,939.561 \n  \"/>\n<polyline clip-path=\"url(#clip702)\" style=\"stroke:#000000; stroke-width:2; stroke-opacity:0.1; fill:none\" points=\"\n  148.334,624.807 2352.76,624.807 \n  \"/>\n<polyline clip-path=\"url(#clip702)\" style=\"stroke:#000000; stroke-width:2; stroke-opacity:0.1; fill:none\" points=\"\n  148.334,310.052 2352.76,310.052 \n  \"/>\n<polyline clip-path=\"url(#clip700)\" style=\"stroke:#000000; stroke-width:4; stroke-opacity:1; fill:none\" points=\"\n  148.334,1486.45 148.334,47.2441 \n  \"/>\n<polyline clip-path=\"url(#clip700)\" style=\"stroke:#000000; stroke-width:4; stroke-opacity:1; fill:none\" points=\"\n  148.334,1254.32 174.787,1254.32 \n  \"/>\n<polyline clip-path=\"url(#clip700)\" style=\"stroke:#000000; stroke-width:4; stroke-opacity:1; fill:none\" points=\"\n  148.334,939.561 174.787,939.561 \n  \"/>\n<polyline clip-path=\"url(#clip700)\" style=\"stroke:#000000; stroke-width:4; stroke-opacity:1; fill:none\" points=\"\n  148.334,624.807 174.787,624.807 \n  \"/>\n<polyline clip-path=\"url(#clip700)\" style=\"stroke:#000000; stroke-width:4; stroke-opacity:1; fill:none\" points=\"\n  148.334,310.052 174.787,310.052 \n  \"/>\n<path clip-path=\"url(#clip700)\" d=\"M 0 0 M65.0198 1240.11 Q61.4087 1240.11 59.58 1243.68 Q57.7745 1247.22 57.7745 1254.35 Q57.7745 1261.46 59.58 1265.02 Q61.4087 1268.56 65.0198 1268.56 Q68.6541 1268.56 70.4596 1265.02 Q72.2883 1261.46 72.2883 1254.35 Q72.2883 1247.22 70.4596 1243.68 Q68.6541 1240.11 65.0198 1240.11 M65.0198 1236.41 Q70.83 1236.41 73.8855 1241.02 Q76.9642 1245.6 76.9642 1254.35 Q76.9642 1263.08 73.8855 1267.68 Q70.83 1272.27 65.0198 1272.27 Q59.2097 1272.27 56.131 1267.68 Q53.0754 1263.08 53.0754 1254.35 Q53.0754 1245.6 56.131 1241.02 Q59.2097 1236.41 65.0198 1236.41 Z\" fill=\"#000000\" fill-rule=\"evenodd\" fill-opacity=\"1\" /><path clip-path=\"url(#clip700)\" d=\"M 0 0 M82.0336 1265.72 L86.9179 1265.72 L86.9179 1271.6 L82.0336 1271.6 L82.0336 1265.72 Z\" fill=\"#000000\" fill-rule=\"evenodd\" fill-opacity=\"1\" /><path clip-path=\"url(#clip700)\" d=\"M 0 0 M96.015 1267.66 L112.334 1267.66 L112.334 1271.6 L90.3901 1271.6 L90.3901 1267.66 Q93.0521 1264.91 97.6354 1260.28 Q102.242 1255.62 103.422 1254.28 Q105.668 1251.76 106.547 1250.02 Q107.45 1248.26 107.45 1246.57 Q107.45 1243.82 105.506 1242.08 Q103.584 1240.35 100.483 1240.35 Q98.2835 1240.35 95.8298 1241.11 Q93.3993 1241.87 90.6215 1243.42 L90.6215 1238.7 Q93.4456 1237.57 95.8993 1236.99 Q98.353 1236.41 100.39 1236.41 Q105.76 1236.41 108.955 1239.1 Q112.149 1241.78 112.149 1246.27 Q112.149 1248.4 111.339 1250.32 Q110.552 1252.22 108.446 1254.81 Q107.867 1255.48 104.765 1258.7 Q101.663 1261.9 96.015 1267.66 Z\" fill=\"#000000\" fill-rule=\"evenodd\" fill-opacity=\"1\" /><path clip-path=\"url(#clip700)\" d=\"M 0 0 M62.9365 925.36 Q59.3254 925.36 57.4967 928.924 Q55.6912 932.466 55.6912 939.596 Q55.6912 946.702 57.4967 950.267 Q59.3254 953.808 62.9365 953.808 Q66.5707 953.808 68.3763 950.267 Q70.205 946.702 70.205 939.596 Q70.205 932.466 68.3763 928.924 Q66.5707 925.36 62.9365 925.36 M62.9365 921.656 Q68.7467 921.656 71.8022 926.262 Q74.8809 930.846 74.8809 939.596 Q74.8809 948.322 71.8022 952.929 Q68.7467 957.512 62.9365 957.512 Q57.1264 957.512 54.0477 952.929 Q50.9921 948.322 50.9921 939.596 Q50.9921 930.846 54.0477 926.262 Q57.1264 921.656 62.9365 921.656 Z\" fill=\"#000000\" fill-rule=\"evenodd\" fill-opacity=\"1\" /><path clip-path=\"url(#clip700)\" d=\"M 0 0 M79.9503 950.961 L84.8345 950.961 L84.8345 956.841 L79.9503 956.841 L79.9503 950.961 Z\" fill=\"#000000\" fill-rule=\"evenodd\" fill-opacity=\"1\" /><path clip-path=\"url(#clip700)\" d=\"M 0 0 M102.751 926.355 L90.9456 944.804 L102.751 944.804 L102.751 926.355 M101.524 922.281 L107.404 922.281 L107.404 944.804 L112.334 944.804 L112.334 948.693 L107.404 948.693 L107.404 956.841 L102.751 956.841 L102.751 948.693 L87.1493 948.693 L87.1493 944.179 L101.524 922.281 Z\" fill=\"#000000\" fill-rule=\"evenodd\" fill-opacity=\"1\" /><path clip-path=\"url(#clip700)\" d=\"M 0 0 M63.2606 610.605 Q59.6495 610.605 57.8208 614.17 Q56.0152 617.712 56.0152 624.841 Q56.0152 631.948 57.8208 635.513 Q59.6495 639.054 63.2606 639.054 Q66.8948 639.054 68.7004 635.513 Q70.5291 631.948 70.5291 624.841 Q70.5291 617.712 68.7004 614.17 Q66.8948 610.605 63.2606 610.605 M63.2606 606.902 Q69.0707 606.902 72.1263 611.508 Q75.205 616.091 75.205 624.841 Q75.205 633.568 72.1263 638.175 Q69.0707 642.758 63.2606 642.758 Q57.4504 642.758 54.3717 638.175 Q51.3162 633.568 51.3162 624.841 Q51.3162 616.091 54.3717 611.508 Q57.4504 606.902 63.2606 606.902 Z\" fill=\"#000000\" fill-rule=\"evenodd\" fill-opacity=\"1\" /><path clip-path=\"url(#clip700)\" d=\"M 0 0 M80.2744 636.207 L85.1586 636.207 L85.1586 642.087 L80.2744 642.087 L80.2744 636.207 Z\" fill=\"#000000\" fill-rule=\"evenodd\" fill-opacity=\"1\" /><path clip-path=\"url(#clip700)\" d=\"M 0 0 M100.807 622.943 Q97.6585 622.943 95.8067 625.096 Q93.978 627.249 93.978 630.999 Q93.978 634.726 95.8067 636.901 Q97.6585 639.054 100.807 639.054 Q103.955 639.054 105.783 636.901 Q107.635 634.726 107.635 630.999 Q107.635 627.249 105.783 625.096 Q103.955 622.943 100.807 622.943 M110.089 608.29 L110.089 612.55 Q108.33 611.716 106.524 611.277 Q104.742 610.837 102.983 610.837 Q98.353 610.837 95.8993 613.962 Q93.4688 617.087 93.1215 623.406 Q94.4873 621.392 96.5474 620.327 Q98.6076 619.239 101.084 619.239 Q106.293 619.239 109.302 622.411 Q112.334 625.559 112.334 630.999 Q112.334 636.323 109.186 639.54 Q106.038 642.758 100.807 642.758 Q94.8113 642.758 91.6401 638.175 Q88.4688 633.568 88.4688 624.841 Q88.4688 616.647 92.3576 611.786 Q96.2465 606.902 102.797 606.902 Q104.557 606.902 106.339 607.249 Q108.145 607.596 110.089 608.29 Z\" fill=\"#000000\" fill-rule=\"evenodd\" fill-opacity=\"1\" /><path clip-path=\"url(#clip700)\" d=\"M 0 0 M63.5152 295.851 Q59.9041 295.851 58.0754 299.416 Q56.2699 302.957 56.2699 310.087 Q56.2699 317.193 58.0754 320.758 Q59.9041 324.3 63.5152 324.3 Q67.1494 324.3 68.955 320.758 Q70.7837 317.193 70.7837 310.087 Q70.7837 302.957 68.955 299.416 Q67.1494 295.851 63.5152 295.851 M63.5152 292.147 Q69.3254 292.147 72.3809 296.754 Q75.4596 301.337 75.4596 310.087 Q75.4596 318.814 72.3809 323.42 Q69.3254 328.004 63.5152 328.004 Q57.7051 328.004 54.6264 323.42 Q51.5708 318.814 51.5708 310.087 Q51.5708 301.337 54.6264 296.754 Q57.7051 292.147 63.5152 292.147 Z\" fill=\"#000000\" fill-rule=\"evenodd\" fill-opacity=\"1\" /><path clip-path=\"url(#clip700)\" d=\"M 0 0 M80.529 321.453 L85.4132 321.453 L85.4132 327.332 L80.529 327.332 L80.529 321.453 Z\" fill=\"#000000\" fill-rule=\"evenodd\" fill-opacity=\"1\" /><path clip-path=\"url(#clip700)\" d=\"M 0 0 M100.483 310.92 Q97.1493 310.92 95.228 312.703 Q93.3299 314.485 93.3299 317.61 Q93.3299 320.735 95.228 322.518 Q97.1493 324.3 100.483 324.3 Q103.816 324.3 105.737 322.518 Q107.658 320.712 107.658 317.61 Q107.658 314.485 105.737 312.703 Q103.839 310.92 100.483 310.92 M95.8067 308.93 Q92.7975 308.189 91.1077 306.129 Q89.441 304.069 89.441 301.106 Q89.441 296.962 92.3808 294.555 Q95.3437 292.147 100.483 292.147 Q105.645 292.147 108.584 294.555 Q111.524 296.962 111.524 301.106 Q111.524 304.069 109.834 306.129 Q108.168 308.189 105.182 308.93 Q108.561 309.717 110.436 312.008 Q112.334 314.3 112.334 317.61 Q112.334 322.633 109.256 325.318 Q106.2 328.004 100.483 328.004 Q94.765 328.004 91.6864 325.318 Q88.6308 322.633 88.6308 317.61 Q88.6308 314.3 90.529 312.008 Q92.4271 309.717 95.8067 308.93 M94.0937 301.545 Q94.0937 304.231 95.7604 305.735 Q97.4502 307.24 100.483 307.24 Q103.492 307.24 105.182 305.735 Q106.895 304.231 106.895 301.545 Q106.895 298.86 105.182 297.356 Q103.492 295.851 100.483 295.851 Q97.4502 295.851 95.7604 297.356 Q94.0937 298.86 94.0937 301.545 Z\" fill=\"#000000\" fill-rule=\"evenodd\" fill-opacity=\"1\" /><polyline clip-path=\"url(#clip702)\" style=\"stroke:#009af9; stroke-width:4; stroke-opacity:1; fill:none\" points=\"\n  210.724,1445.72 441.795,832.59 672.867,87.9763 903.938,1442.32 1135.01,1432.24 1366.08,131.272 1597.15,241.266 1828.22,1288.49 2059.3,1390.25 2290.37,1349.32 \n  \n  \"/>\n<path clip-path=\"url(#clip700)\" d=\"\nM1858.44 216.178 L2279.28 216.178 L2279.28 95.2176 L1858.44 95.2176  Z\n  \" fill=\"#ffffff\" fill-rule=\"evenodd\" fill-opacity=\"1\"/>\n<polyline clip-path=\"url(#clip700)\" style=\"stroke:#000000; stroke-width:4; stroke-opacity:1; fill:none\" points=\"\n  1858.44,216.178 2279.28,216.178 2279.28,95.2176 1858.44,95.2176 1858.44,216.178 \n  \"/>\n<polyline clip-path=\"url(#clip700)\" style=\"stroke:#009af9; stroke-width:4; stroke-opacity:1; fill:none\" points=\"\n  1882.93,155.698 2029.89,155.698 \n  \"/>\n<path clip-path=\"url(#clip700)\" d=\"M 0 0 M2074.73 152.029 Q2076.33 149.158 2078.55 147.793 Q2080.77 146.427 2083.78 146.427 Q2087.84 146.427 2090.03 149.274 Q2092.23 152.098 2092.23 157.329 L2092.23 172.978 L2087.95 172.978 L2087.95 157.468 Q2087.95 153.742 2086.63 151.936 Q2085.31 150.13 2082.6 150.13 Q2079.29 150.13 2077.37 152.33 Q2075.45 154.529 2075.45 158.325 L2075.45 172.978 L2071.17 172.978 L2071.17 157.468 Q2071.17 153.718 2069.85 151.936 Q2068.53 150.13 2065.78 150.13 Q2062.51 150.13 2060.59 152.353 Q2058.67 154.552 2058.67 158.325 L2058.67 172.978 L2054.39 172.978 L2054.39 147.052 L2058.67 147.052 L2058.67 151.08 Q2060.13 148.695 2062.16 147.561 Q2064.2 146.427 2067 146.427 Q2069.83 146.427 2071.79 147.862 Q2073.78 149.297 2074.73 152.029 Z\" fill=\"#000000\" fill-rule=\"evenodd\" fill-opacity=\"1\" /><path clip-path=\"url(#clip700)\" d=\"M 0 0 M2107.49 175.385 Q2105.68 180.015 2103.97 181.427 Q2102.26 182.839 2099.39 182.839 L2095.98 182.839 L2095.98 179.274 L2098.48 179.274 Q2100.24 179.274 2101.21 178.44 Q2102.19 177.607 2103.37 174.505 L2104.13 172.561 L2093.65 147.052 L2098.16 147.052 L2106.26 167.329 L2114.36 147.052 L2118.88 147.052 L2107.49 175.385 Z\" fill=\"#000000\" fill-rule=\"evenodd\" fill-opacity=\"1\" /><path clip-path=\"url(#clip700)\" d=\"M 0 0 M2138.41 136.959 L2142.67 136.959 L2142.67 172.978 L2138.41 172.978 L2138.41 136.959 Z\" fill=\"#000000\" fill-rule=\"evenodd\" fill-opacity=\"1\" /><path clip-path=\"url(#clip700)\" d=\"M 0 0 M2158.92 159.945 Q2153.76 159.945 2151.77 161.126 Q2149.78 162.306 2149.78 165.154 Q2149.78 167.422 2151.26 168.765 Q2152.77 170.084 2155.33 170.084 Q2158.88 170.084 2161.01 167.584 Q2163.16 165.061 2163.16 160.894 L2163.16 159.945 L2158.92 159.945 M2167.42 158.186 L2167.42 172.978 L2163.16 172.978 L2163.16 169.042 Q2161.7 171.403 2159.52 172.538 Q2157.35 173.649 2154.2 173.649 Q2150.22 173.649 2147.86 171.427 Q2145.52 169.181 2145.52 165.431 Q2145.52 161.056 2148.44 158.834 Q2151.38 156.612 2157.19 156.612 L2163.16 156.612 L2163.16 156.195 Q2163.16 153.255 2161.21 151.658 Q2159.29 150.038 2155.8 150.038 Q2153.58 150.038 2151.47 150.57 Q2149.36 151.103 2147.42 152.167 L2147.42 148.232 Q2149.76 147.33 2151.96 146.89 Q2154.15 146.427 2156.24 146.427 Q2161.86 146.427 2164.64 149.343 Q2167.42 152.26 2167.42 158.186 Z\" fill=\"#000000\" fill-rule=\"evenodd\" fill-opacity=\"1\" /><path clip-path=\"url(#clip700)\" d=\"M 0 0 M2190.5 160.038 Q2190.5 155.339 2188.55 152.677 Q2186.63 149.992 2183.25 149.992 Q2179.87 149.992 2177.93 152.677 Q2176.01 155.339 2176.01 160.038 Q2176.01 164.737 2177.93 167.422 Q2179.87 170.084 2183.25 170.084 Q2186.63 170.084 2188.55 167.422 Q2190.5 164.737 2190.5 160.038 M2176.01 150.987 Q2177.35 148.672 2179.39 147.561 Q2181.45 146.427 2184.29 146.427 Q2189.02 146.427 2191.95 150.177 Q2194.92 153.927 2194.92 160.038 Q2194.92 166.149 2191.95 169.899 Q2189.02 173.649 2184.29 173.649 Q2181.45 173.649 2179.39 172.538 Q2177.35 171.403 2176.01 169.089 L2176.01 172.978 L2171.72 172.978 L2171.72 136.959 L2176.01 136.959 L2176.01 150.987 Z\" fill=\"#000000\" fill-rule=\"evenodd\" fill-opacity=\"1\" /><path clip-path=\"url(#clip700)\" d=\"M 0 0 M2221.56 158.95 L2221.56 161.033 L2201.98 161.033 Q2202.26 165.431 2204.62 167.746 Q2207 170.038 2211.24 170.038 Q2213.69 170.038 2215.98 169.436 Q2218.3 168.834 2220.57 167.63 L2220.57 171.658 Q2218.27 172.63 2215.87 173.14 Q2213.46 173.649 2210.98 173.649 Q2204.78 173.649 2201.14 170.038 Q2197.53 166.427 2197.53 160.269 Q2197.53 153.904 2200.96 150.177 Q2204.41 146.427 2210.24 146.427 Q2215.47 146.427 2218.51 149.806 Q2221.56 153.163 2221.56 158.95 M2217.3 157.7 Q2217.26 154.205 2215.33 152.121 Q2213.44 150.038 2210.29 150.038 Q2206.72 150.038 2204.57 152.052 Q2202.44 154.066 2202.12 157.723 L2217.3 157.7 Z\" fill=\"#000000\" fill-rule=\"evenodd\" fill-opacity=\"1\" /><path clip-path=\"url(#clip700)\" d=\"M 0 0 M2226.03 136.959 L2230.29 136.959 L2230.29 172.978 L2226.03 172.978 L2226.03 136.959 Z\" fill=\"#000000\" fill-rule=\"evenodd\" fill-opacity=\"1\" /></svg>\n"
          },
          "metadata": {
            "tags": []
          },
          "execution_count": 28
        }
      ]
    },
    {
      "cell_type": "code",
      "metadata": {
        "colab": {
          "base_uri": "https://localhost:8080/",
          "height": 234
        },
        "id": "8XlC6_oZH-nW",
        "outputId": "1ba7eb3d-2b13-43f5-a917-0fb40f7f3d69"
      },
      "source": [
        "using HTTP, DataFrames, CSV # load packages\n",
        "\n",
        "r = HTTP.get(\"https://raw.githubusercontent.com/nytimes/covid-19-data/master/us-states.csv\")\n",
        "d = HTTP.get(\"https://github.com/nytimes/covid-19-data/blob/master/us-states.csv\")\n",
        "url = \"https://raw.githubusercontent.com/nytimes/covid-19-data/master/us-states.csv\"\n",
        "\n",
        "using CSV\n",
        "CSV.read(url)\n",
        " \n",
        "\n"
      ],
      "execution_count": 88,
      "outputs": [
        {
          "output_type": "error",
          "ename": "ArgumentError",
          "evalue": "ignored",
          "traceback": [
            "ArgumentError: provide a valid sink argument, like `using DataFrames; CSV.read(source, DataFrame)`",
            "",
            "Stacktrace:",
            " [1] read(::String, ::Nothing; copycols::Bool, kwargs::Base.Iterators.Pairs{Union{},Union{},Tuple{},NamedTuple{(),Tuple{}}}) at /root/.julia/packages/CSV/NSKNW/src/CSV.jl:43",
            " [2] read(::String, ::Nothing) at /root/.julia/packages/CSV/NSKNW/src/CSV.jl:42 (repeats 2 times)",
            " [3] top-level scope at In[88]:8"
          ]
        }
      ]
    },
    {
      "cell_type": "code",
      "metadata": {
        "colab": {
          "base_uri": "https://localhost:8080/"
        },
        "id": "NqTNqs--T7qF",
        "outputId": "bb90824c-1a57-4db3-ff9b-134c0034d696"
      },
      "source": [
        "using CSV\n",
        "\n",
        "url = \"https://raw.githubusercontent.com/nytimes/covid-19-data/master/us-states.csv\"\n",
        "CSV.File(download(url))\n",
        "d = download(\"https://raw.githubusercontent.com/nytimes/covid-19-data/master/us-states.csv\",\"us-states.csv\" )\n",
        "# f = CSV.File(HTTP.get(url).body)\n",
        "\n",
        "\n",
        "\n",
        "\n"
      ],
      "execution_count": 113,
      "outputs": [
        {
          "output_type": "execute_result",
          "data": {
            "text/plain": [
              "\"us-states.csv\""
            ]
          },
          "metadata": {
            "tags": []
          },
          "execution_count": 113
        }
      ]
    },
    {
      "cell_type": "code",
      "metadata": {
        "colab": {
          "base_uri": "https://localhost:8080/"
        },
        "id": "2CVk7HJUWMlz",
        "outputId": "b95eebcf-54b4-4573-dcda-db3a802f9383"
      },
      "source": [
        ";ls"
      ],
      "execution_count": 114,
      "outputs": [
        {
          "output_type": "stream",
          "text": [
            "sample_data\n",
            "us-states.csv\n"
          ],
          "name": "stdout"
        }
      ]
    },
    {
      "cell_type": "code",
      "metadata": {
        "colab": {
          "base_uri": "https://localhost:8080/",
          "height": 182
        },
        "id": "WoSc4VN7RGfu",
        "outputId": "85a8da44-9880-4c0c-f7e7-a543be18d39c"
      },
      "source": [
        "using CSV   \n",
        "\n",
        "dataset = CSV.read(download(url,','))"
      ],
      "execution_count": 74,
      "outputs": [
        {
          "output_type": "error",
          "ename": "MethodError",
          "evalue": "ignored",
          "traceback": [
            "MethodError: no method matching download(::String, ::Char)\nClosest candidates are:\n  download(::AbstractString) at download.jl:81\n  download(::AbstractString, !Matched::AbstractString) at download.jl:59",
            "",
            "Stacktrace:",
            " [1] top-level scope at In[74]:2"
          ]
        }
      ]
    }
  ]
}