{
  "nbformat": 4,
  "nbformat_minor": 0,
  "metadata": {
    "colab": {
      "name": "Programming Languages Julia Colab",
      "provenance": [],
      "collapsed_sections": [],
      "include_colab_link": true
    },
    "kernelspec": {
      "display_name": "Julia",
      "language": "julia",
      "name": "julia"
    },
    "language_info": {
      "file_extension": ".jl",
      "mimetype": "application/julia",
      "name": "julia"
    }
  },
  "cells": [
    {
      "cell_type": "markdown",
      "metadata": {
        "id": "view-in-github",
        "colab_type": "text"
      },
      "source": [
        "<a href=\"https://colab.research.google.com/github/isabellasims/Google-colabs/blob/master/Programming_Languages_Julia_Colab.ipynb\" target=\"_parent\"><img src=\"https://colab.research.google.com/assets/colab-badge.svg\" alt=\"Open In Colab\"/></a>"
      ]
    },
    {
      "cell_type": "code",
      "metadata": {
        "colab": {
          "base_uri": "https://localhost:8080/"
        },
        "id": "Lespvid776c-",
        "outputId": "e3a03426-937d-4c95-9d56-24c778abcf1f"
      },
      "source": [
        "%%shell\n",
        "set -e\n",
        "\n",
        "#---------------------------------------------------#\n",
        "JULIA_VERSION=\"1.4.2\" # any version ≥ 0.7.0\n",
        "JULIA_PACKAGES=\"IJulia BenchmarkTools PyCall PyPlot\"\n",
        "JULIA_PACKAGES_IF_GPU=\"CUDA\"\n",
        "JULIA_NUM_THREADS=4\n",
        "#---------------------------------------------------#\n",
        "\n",
        "if [ -n \"$COLAB_GPU\" ] && [ -z `which julia` ]; then\n",
        "  # Install Julia\n",
        "  JULIA_VER=`cut -d '.' -f -2 <<< \"$JULIA_VERSION\"`\n",
        "  echo \"Installing Julia $JULIA_VERSION on the current Colab Runtime...\"\n",
        "  BASE_URL=\"https://julialang-s3.julialang.org/bin/linux/x64\"\n",
        "  URL=\"$BASE_URL/$JULIA_VER/julia-$JULIA_VERSION-linux-x86_64.tar.gz\"\n",
        "  wget -nv $URL -O /tmp/julia.tar.gz # -nv means \"not verbose\"\n",
        "  tar -x -f /tmp/julia.tar.gz -C /usr/local --strip-components 1\n",
        "  rm /tmp/julia.tar.gz\n",
        "\n",
        "  # Install Packages\n",
        "  if [ \"$COLAB_GPU\" = \"1\" ]; then\n",
        "      JULIA_PACKAGES=\"$JULIA_PACKAGES $JULIA_PACKAGES_IF_GPU\"\n",
        "  fi\n",
        "  for PKG in `echo $JULIA_PACKAGES`; do\n",
        "    echo \"Installing Julia package $PKG...\"\n",
        "    julia -e 'using Pkg; pkg\"add '$PKG'; precompile;\"'\n",
        "  done\n",
        "\n",
        "  # Install kernel and rename it to \"julia\"\n",
        "  echo \"Installing IJulia kernel...\"\n",
        "  julia -e 'using IJulia; IJulia.installkernel(\"julia\", env=Dict(\n",
        "      \"JULIA_NUM_THREADS\"=>\"'\"$JULIA_NUM_THREADS\"'\"))'\n",
        "  KERNEL_DIR=`julia -e \"using IJulia; print(IJulia.kerneldir())\"`\n",
        "  KERNEL_NAME=`ls -d \"$KERNEL_DIR\"/julia*`\n",
        "  mv -f $KERNEL_NAME \"$KERNEL_DIR\"/julia  \n",
        "\n",
        "  echo ''\n",
        "  echo \"Successfully installed `julia -v`!\"\n",
        "  echo \"Please reload this page (press Ctrl+R, ⌘+R, or the F5 key) then\"\n",
        "  echo \"jump to the 'Checking the Installation' section.\"\n",
        "fi"
      ],
      "execution_count": null,
      "outputs": [
        {
          "output_type": "stream",
          "text": [
            "Installing Julia 1.4.2 on the current Colab Runtime...\n",
            "2020-11-23 02:30:22 URL:https://storage.googleapis.com/julialang2/bin/linux/x64/1.4/julia-1.4.2-linux-x86_64.tar.gz [99093958/99093958] -> \"/tmp/julia.tar.gz\" [1]\n",
            "Installing Julia package IJulia...\n",
            "    Cloning default registries into `~/.julia`\n",
            "    Cloning registry from \"https://github.com/JuliaRegistries/General.git\"\n",
            "\u001b[2K\u001b[?25h      Added registry `General` to `~/.julia/registries/General`\n",
            "  Resolving package versions...\n",
            "  Installed Artifacts ─────── v1.3.0\n",
            "  Installed VersionParsing ── v1.2.0\n",
            "  Installed MbedTLS_jll ───── v2.16.8+1\n",
            "  Installed Parsers ───────── v1.0.12\n",
            "  Installed SoftGlobalScope ─ v1.1.0\n",
            "  Installed IJulia ────────── v1.23.0\n",
            "  Installed JLLWrappers ───── v1.1.3\n",
            "  Installed ZeroMQ_jll ────── v4.3.2+5\n",
            "  Installed JSON ──────────── v0.21.1\n",
            "  Installed MbedTLS ───────── v1.0.3\n",
            "  Installed Conda ─────────── v1.5.0\n",
            "  Installed ZMQ ───────────── v1.2.1\n",
            "Downloading artifact: MbedTLS\n",
            "######################################################################## 100.0%\n",
            "\u001b[1A\u001b[2K\u001b[?25hDownloading artifact: ZeroMQ\n",
            "######################################################################## 100.0%\n",
            "\u001b[1A\u001b[2K\u001b[?25h   Updating `~/.julia/environments/v1.4/Project.toml`\n",
            "  [7073ff75] + IJulia v1.23.0\n",
            "   Updating `~/.julia/environments/v1.4/Manifest.toml`\n",
            "  [56f22d72] + Artifacts v1.3.0\n",
            "  [8f4d0f93] + Conda v1.5.0\n",
            "  [7073ff75] + IJulia v1.23.0\n",
            "  [692b3bcd] + JLLWrappers v1.1.3\n",
            "  [682c06a0] + JSON v0.21.1\n",
            "  [739be429] + MbedTLS v1.0.3\n",
            "  [c8ffd9c3] + MbedTLS_jll v2.16.8+1\n",
            "  [69de0a69] + Parsers v1.0.12\n",
            "  [b85f4697] + SoftGlobalScope v1.1.0\n",
            "  [81def892] + VersionParsing v1.2.0\n",
            "  [c2297ded] + ZMQ v1.2.1\n",
            "  [8f1865be] + ZeroMQ_jll v4.3.2+5\n",
            "  [2a0f44e3] + Base64 \n",
            "  [ade2ca70] + Dates \n",
            "  [8ba89e20] + Distributed \n",
            "  [7b1f6079] + FileWatching \n",
            "  [b77e0a4c] + InteractiveUtils \n",
            "  [76f85450] + LibGit2 \n",
            "  [8f399da3] + Libdl \n",
            "  [56ddb016] + Logging \n",
            "  [d6f4376e] + Markdown \n",
            "  [a63ad114] + Mmap \n",
            "  [44cfe95a] + Pkg \n",
            "  [de0858da] + Printf \n",
            "  [3fa0cd96] + REPL \n",
            "  [9a3f8284] + Random \n",
            "  [ea8e919c] + SHA \n",
            "  [9e88b42a] + Serialization \n",
            "  [6462fe0b] + Sockets \n",
            "  [8dfed614] + Test \n",
            "  [cf7118a7] + UUIDs \n",
            "  [4ec0a83e] + Unicode \n",
            "   Building Conda ─→ `~/.julia/packages/Conda/x5ml4/deps/build.log`\n",
            "   Building IJulia → `~/.julia/packages/IJulia/ljYVo/deps/build.log`\n",
            "Precompiling project...\n",
            "Installing Julia package BenchmarkTools...\n",
            "   Updating registry at `~/.julia/registries/General`\n",
            "   Updating git-repo `https://github.com/JuliaRegistries/General.git`\n",
            "\u001b[?25l\u001b[2K\u001b[?25h  Resolving package versions...\n",
            "  Installed BenchmarkTools ─ v0.5.0\n",
            "   Updating `~/.julia/environments/v1.4/Project.toml`\n",
            "  [6e4b80f9] + BenchmarkTools v0.5.0\n",
            "   Updating `~/.julia/environments/v1.4/Manifest.toml`\n",
            "  [6e4b80f9] + BenchmarkTools v0.5.0\n",
            "  [37e2e46d] + LinearAlgebra \n",
            "  [2f01184e] + SparseArrays \n",
            "  [10745b16] + Statistics \n",
            "Precompiling project...\n",
            "Installing Julia package PyCall...\n",
            "   Updating registry at `~/.julia/registries/General`\n",
            "   Updating git-repo `https://github.com/JuliaRegistries/General.git`\n",
            "\u001b[?25l\u001b[2K\u001b[?25h  Resolving package versions...\n",
            "  Installed MacroTools ─ v0.5.6\n",
            "  Installed PyCall ───── v1.92.1\n",
            "   Updating `~/.julia/environments/v1.4/Project.toml`\n",
            "  [438e738f] + PyCall v1.92.1\n",
            "   Updating `~/.julia/environments/v1.4/Manifest.toml`\n",
            "  [1914dd2f] + MacroTools v0.5.6\n",
            "  [438e738f] + PyCall v1.92.1\n",
            "   Building PyCall → `~/.julia/packages/PyCall/BcTLp/deps/build.log`\n",
            "Precompiling project...\n",
            "Installing Julia package PyPlot...\n",
            "   Updating registry at `~/.julia/registries/General`\n",
            "   Updating git-repo `https://github.com/JuliaRegistries/General.git`\n",
            "\u001b[?25l\u001b[2K\u001b[?25h  Resolving package versions...\n",
            "  Installed Reexport ────────── v0.2.0\n",
            "  Installed PyPlot ──────────── v2.9.0\n",
            "  Installed LaTeXStrings ────── v1.2.0\n",
            "  Installed FixedPointNumbers ─ v0.8.4\n",
            "  Installed ColorTypes ──────── v0.10.9\n",
            "  Installed Colors ──────────── v0.12.4\n",
            "   Updating `~/.julia/environments/v1.4/Project.toml`\n",
            "  [d330b81b] + PyPlot v2.9.0\n",
            "   Updating `~/.julia/environments/v1.4/Manifest.toml`\n",
            "  [3da002f7] + ColorTypes v0.10.9\n",
            "  [5ae59095] + Colors v0.12.4\n",
            "  [53c48c17] + FixedPointNumbers v0.8.4\n",
            "  [b964fa9f] + LaTeXStrings v1.2.0\n",
            "  [d330b81b] + PyPlot v2.9.0\n",
            "  [189a3867] + Reexport v0.2.0\n",
            "Precompiling project...\n",
            "Installing IJulia kernel...\n",
            "[ Info: Installing julia kernelspec in /root/.local/share/jupyter/kernels/julia-1.4\n",
            "\n",
            "Successfully installed julia version 1.4.2!\n",
            "Please reload this page (press Ctrl+R, ⌘+R, or the F5 key) then\n",
            "jump to the 'Checking the Installation' section.\n"
          ],
          "name": "stdout"
        },
        {
          "output_type": "execute_result",
          "data": {
            "text/plain": [
              ""
            ]
          },
          "metadata": {
            "tags": []
          },
          "execution_count": 8
        }
      ]
    },
    {
      "cell_type": "code",
      "metadata": {
        "id": "GIeFXS0F0zww",
        "colab": {
          "base_uri": "https://localhost:8080/"
        },
        "outputId": "0ac21d3c-83b4-4fcd-96cf-325d7951cc2e"
      },
      "source": [
        "println(\"Hello\")\n",
        "println(\"HI\");"
      ],
      "execution_count": 1,
      "outputs": [
        {
          "output_type": "stream",
          "text": [
            "Hello\n",
            "HI\n"
          ],
          "name": "stdout"
        }
      ]
    }
  ]
}