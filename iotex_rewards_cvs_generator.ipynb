{
  "nbformat": 4,
  "nbformat_minor": 0,
  "metadata": {
    "colab": {
      "name": "iotex rewards cvs generator",
      "provenance": [],
      "authorship_tag": "ABX9TyPUfbpXXytLSQtRJ86RCPmW",
      "include_colab_link": true
    },
    "kernelspec": {
      "name": "python3",
      "display_name": "Python 3"
    }
  },
  "cells": [
    {
      "cell_type": "markdown",
      "metadata": {
        "id": "view-in-github",
        "colab_type": "text"
      },
      "source": [
        "<a href=\"https://colab.research.google.com/github/isabellasims/Google-colabs/blob/master/iotex_rewards_cvs_generator.ipynb\" target=\"_parent\"><img src=\"https://colab.research.google.com/assets/colab-badge.svg\" alt=\"Open In Colab\"/></a>"
      ]
    },
    {
      "cell_type": "code",
      "metadata": {
        "id": "1D2THkfbX3nx",
        "colab_type": "code",
        "colab": {}
      },
      "source": [
        "import math\n",
        "# current epoch\n",
        "current = 10940\n",
        "#last epoch\n",
        "last = 6015\n",
        "# total number of epochs you need to query\n",
        "total = current - last\n",
        "#print(\"total number epochs to query:\",total)\n",
        "#print(\" \")\n",
        "\n",
        "# (if you have more than 250 to query, run this fuction - else total variable will be the number to query and you will only require 1 csv file)\n",
        "\n",
        "params = [last]\n",
        "NumRoundsTemp = total/250\n",
        "  # number of csv files to generate with the max 250 epochs\n",
        "numRoundsatMax = math.floor(NumRoundsTemp)\n",
        "\n",
        "\n",
        "def getFileParams(total):\n",
        "  last = 6015 \n",
        "  for i in range(0,numRoundsatMax): \n",
        "    next = last +250\n",
        "    ## Uncomment this line if you want to see math\n",
        "    # print(\"round:\" ,i+1, \" ----\", \"start:\", last , \"end:\", next )\n",
        "    # print(\" \")\n",
        "    # last increases by 250 each time for new cvs params\n",
        "    last = last + 250\n",
        "    params.append(last)\n",
        "  \n",
        "  # remaining number of epochs to query\n",
        "  lastRound = current - last\n",
        "  \n",
        "  \n",
        "  # make numRoundsatMax cvs files with max epoch of 250\n",
        "  #print(numRoundsatMax,\"csv files with 250\")\n",
        "  \n",
        "  #print(params)\n",
        "  #print(len(params))\n",
        "  return lastRound\n",
        "\n",
        "  \n",
        "    \n"
      ],
      "execution_count": 96,
      "outputs": []
    },
    {
      "cell_type": "code",
      "metadata": {
        "id": "nfXguhRdjIWs",
        "colab_type": "code",
        "colab": {
          "base_uri": "https://localhost:8080/",
          "height": 425
        },
        "outputId": "ff2fcbd6-acf3-4be4-c20b-bba9c0a2c4b5"
      },
      "source": [
        "getFileParams(total)\n",
        "print(numRoundsatMax,\"csv files with 250\")\n",
        "print(\"1 csv file with\", lastRound)\n",
        "for i in range(numRoundsatMax):\n",
        "  print(params[i], \"at 250\")\n",
        "print(len(params))"
      ],
      "execution_count": 98,
      "outputs": [
        {
          "output_type": "stream",
          "text": [
            "19 csv files with 250\n",
            "1 csv file with 175\n",
            "19 csv files with 250\n",
            "1 csv file with 0\n",
            "6015 at 250\n",
            "6265 at 250\n",
            "6515 at 250\n",
            "6765 at 250\n",
            "7015 at 250\n",
            "7265 at 250\n",
            "7515 at 250\n",
            "7765 at 250\n",
            "8015 at 250\n",
            "8265 at 250\n",
            "8515 at 250\n",
            "8765 at 250\n",
            "9015 at 250\n",
            "9265 at 250\n",
            "9515 at 250\n",
            "9765 at 250\n",
            "10015 at 250\n",
            "10265 at 250\n",
            "10515 at 250\n",
            "39\n"
          ],
          "name": "stdout"
        }
      ]
    },
    {
      "cell_type": "code",
      "metadata": {
        "id": "wnerAM96jLWx",
        "colab_type": "code",
        "colab": {}
      },
      "source": [
        ""
      ],
      "execution_count": null,
      "outputs": []
    }
  ]
}