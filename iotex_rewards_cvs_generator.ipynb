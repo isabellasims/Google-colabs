{
  "nbformat": 4,
  "nbformat_minor": 0,
  "metadata": {
    "colab": {
      "name": "iotex rewards cvs generator",
      "provenance": [],
      "authorship_tag": "ABX9TyOMBo1zD/Z9mV3Cy48EO05d",
      "include_colab_link": true
    },
    "kernelspec": {
      "name": "python3",
      "display_name": "Python 3"
    }
  },
  "cells": [
    {
      "cell_type": "markdown",
      "metadata": {
        "id": "view-in-github",
        "colab_type": "text"
      },
      "source": [
        "<a href=\"https://colab.research.google.com/github/isabellasims/Google-colabs/blob/master/iotex_rewards_cvs_generator.ipynb\" target=\"_parent\"><img src=\"https://colab.research.google.com/assets/colab-badge.svg\" alt=\"Open In Colab\"/></a>"
      ]
    },
    {
      "cell_type": "code",
      "metadata": {
        "id": "1D2THkfbX3nx",
        "colab_type": "code",
        "colab": {}
      },
      "source": [
        "import math\n",
        "# current epoch\n",
        "current = 10940\n",
        "#last epoch\n",
        "last = 6015\n",
        "# total number of epochs you need to query\n",
        "total = current - last\n",
        "#print(\"total number epochs to query:\",total)\n",
        "#print(\" \")\n",
        "\n",
        "\n",
        "# (if you have more than 250 to query, run this fuction - else total variable will be the number to query and you will only require 1 csv file)\n",
        "def getFileParams(total):\n",
        "  NumRoundsTemp = total/250\n",
        "  # number of csv files to generate with the max 250 epochs\n",
        "  numRoundsatMax = math.floor(NumRoundsTemp)\n",
        "  last = 6015\n",
        "  for i in range(0,numRoundsatMax): \n",
        "    next = last +250\n",
        "    ## Uncomment this line if you want to see math\n",
        "    # print(\"round:\" ,i+1, \" ----\", \"start:\", last , \"end:\", next )\n",
        "    # print(\" \")\n",
        "    # last increases by 250 each time for new cvs params\n",
        "    last = last + 250\n",
        "  \n",
        "  # remaining number of epochs to query\n",
        "  lastRound = current - last\n",
        "\n",
        "  # make numRoundsatMax cvs files with max epoch of 250\n",
        "  print(numRoundsatMax,\"csv files with 250\", \" and one csv file with\", lastRound)\n",
        "    \n"
      ],
      "execution_count": 50,
      "outputs": []
    },
    {
      "cell_type": "code",
      "metadata": {
        "id": "nfXguhRdjIWs",
        "colab_type": "code",
        "colab": {
          "base_uri": "https://localhost:8080/",
          "height": 34
        },
        "outputId": "5cc38ac9-3ddb-4765-c9e0-0bcd515caa0a"
      },
      "source": [
        "getFileParams(total)"
      ],
      "execution_count": 49,
      "outputs": [
        {
          "output_type": "stream",
          "text": [
            "19 csv files with 250  and one csv file with 175\n"
          ],
          "name": "stdout"
        }
      ]
    },
    {
      "cell_type": "code",
      "metadata": {
        "id": "wnerAM96jLWx",
        "colab_type": "code",
        "colab": {}
      },
      "source": [
        ""
      ],
      "execution_count": null,
      "outputs": []
    }
  ]
}