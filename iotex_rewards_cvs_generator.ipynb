{
  "nbformat": 4,
  "nbformat_minor": 0,
  "metadata": {
    "colab": {
      "name": "iotex rewards cvs generator",
      "provenance": [],
      "authorship_tag": "ABX9TyPd95JJUb90SZ34lljBJiSs",
      "include_colab_link": true
    },
    "kernelspec": {
      "name": "python3",
      "display_name": "Python 3"
    }
  },
  "cells": [
    {
      "cell_type": "markdown",
      "metadata": {
        "id": "view-in-github",
        "colab_type": "text"
      },
      "source": [
        "<a href=\"https://colab.research.google.com/github/isabellasims/Google-colabs/blob/master/iotex_rewards_cvs_generator.ipynb\" target=\"_parent\"><img src=\"https://colab.research.google.com/assets/colab-badge.svg\" alt=\"Open In Colab\"/></a>"
      ]
    },
    {
      "cell_type": "code",
      "metadata": {
        "id": "1D2THkfbX3nx",
        "colab_type": "code",
        "colab": {}
      },
      "source": [
        "import math\n",
        "# current epoch\n",
        "current = 10940\n",
        "#last epoch\n",
        "last = 6015\n",
        "# total number of epochs you need to query\n",
        "total = current - last\n",
        "#print(\"total number epochs to query:\",total)\n",
        "#print(\" \")\n",
        "\n",
        "# (if you have more than 250 to query, run this fuction - else total variable will be the number to query and you will only require 1 csv file)\n",
        "\n",
        "params = [last]\n",
        "NumRoundsTemp = total/250\n",
        "  # number of csv files to generate with the max 250 epochs\n",
        "numRoundsatMax = math.floor(NumRoundsTemp)\n",
        "\n",
        "\n",
        "\n",
        "def getFileParams(total):\n",
        "  last = 6015 \n",
        "  for i in range(0,numRoundsatMax): \n",
        "    next = last +250\n",
        "    ## Uncomment this line if you want to see math\n",
        "    # print(\"round:\" ,i+1, \" ----\", \"start:\", last , \"end:\", next )\n",
        "    # print(\" \")\n",
        "    # last increases by 250 each time for new cvs params\n",
        "    last = last + 250\n",
        "    params.append(last)\n",
        "  \n",
        "  # remaining number of epochs to query\n",
        "  lastRound = current - last\n",
        "  \n",
        "  \n",
        "  # make numRoundsatMax cvs files with max epoch of 250\n",
        "  print(numRoundsatMax,\"csv files with 250\")\n",
        "  print(\"1 csv file with\",lastRound)\n",
        "  #print(params)\n",
        "  #print(len(params))\n",
        "\n",
        "  \n",
        "  for i in range(numRoundsatMax+1):\n",
        "    print(params[i], \"at 250\")\n",
        "    x = input(\"done? yes to continue\")\n",
        "    print(\"    \")\n",
        "\n",
        "    print(\"    \")\n",
        "    if x == \"yes\":\n",
        "      if i == numRoundsatMax :\n",
        "        print(params[i], \"at\",lastRound)\n",
        "        \n",
        "    else:\n",
        "      x = input(\"done? yes to continue\")\n",
        "    #print(params[i], \"at 250\")"
      ],
      "execution_count": 149,
      "outputs": []
    },
    {
      "cell_type": "code",
      "metadata": {
        "id": "nfXguhRdjIWs",
        "colab_type": "code",
        "colab": {
          "base_uri": "https://localhost:8080/",
          "height": 175
        },
        "outputId": "d88b2ffd-ddf8-4fd0-90d4-74634faf46fb"
      },
      "source": [
        "getFileParams(total)"
      ],
      "execution_count": null,
      "outputs": [
        {
          "output_type": "stream",
          "text": [
            "19 csv files with 250\n",
            "1 csv file with 175\n",
            "6015 at 250\n",
            "done? yes to continueyes\n",
            "    \n",
            "    \n",
            "6265 at 250\n"
          ],
          "name": "stdout"
        }
      ]
    },
    {
      "cell_type": "code",
      "metadata": {
        "id": "wnerAM96jLWx",
        "colab_type": "code",
        "colab": {}
      },
      "source": [
        ""
      ],
      "execution_count": 120,
      "outputs": []
    }
  ]
}