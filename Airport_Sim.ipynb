{
  "nbformat": 4,
  "nbformat_minor": 0,
  "metadata": {
    "colab": {
      "name": "Airport Sim",
      "provenance": [],
      "collapsed_sections": [],
      "authorship_tag": "ABX9TyOcJoJRBgNED4YnCGFFfaHY",
      "include_colab_link": true
    },
    "kernelspec": {
      "name": "python3",
      "display_name": "Python 3"
    }
  },
  "cells": [
    {
      "cell_type": "markdown",
      "metadata": {
        "id": "view-in-github",
        "colab_type": "text"
      },
      "source": [
        "<a href=\"https://colab.research.google.com/github/isabellasims/Google-colabs/blob/master/Airport_Sim.ipynb\" target=\"_parent\"><img src=\"https://colab.research.google.com/assets/colab-badge.svg\" alt=\"Open In Colab\"/></a>"
      ]
    },
    {
      "cell_type": "code",
      "metadata": {
        "id": "yH1GRb50ao_V",
        "outputId": "f10c2446-35f6-4ee3-9499-998bc6290347",
        "colab": {
          "base_uri": "https://localhost:8080/",
          "height": 120
        }
      },
      "source": [
        "\"\"\"\n",
        "Output:\n",
        "- 120 time units of airport activity\n",
        "\n",
        "this program simulates the takeoff and landing patterns of an airport with two runways\n",
        " ***both runways can hold up to 3 planes at one time***\n",
        "\n",
        "everytime a plane enters a holding queue it is assigned an ID number\n",
        " - planes entering the takeoff queue are assigned a successive even integer\n",
        " - planes entering the landing queue are assigned a successive odd integer\n",
        "\n",
        "runway \n",
        "  - each runway can handle one takeoff or landing at each timeslot\n",
        "  - timeslots are 1\n",
        "\n",
        "\n",
        "Input data:\n",
        "For each time unit the input may have the following information (and any other you like to add):\n",
        "- Indicating the number of planes arriving at takeoff queues.\n",
        "- Indicating the number of planes arriving at landing queues\n",
        "- Information about the plane (id, airline, other information)\n",
        "\"\"\"\n",
        "\n"
      ],
      "execution_count": 124,
      "outputs": [
        {
          "output_type": "execute_result",
          "data": {
            "application/vnd.google.colaboratory.intrinsic+json": {
              "type": "string"
            },
            "text/plain": [
              "'\\nOutput:\\n- 120 time units of airport activity\\n\\nthis program simulates the takeoff and landing patterns of an airport with two runways\\n ***both runways can hold up to 3 planes at one time***\\n\\neverytime a plane enters a holding queue it is assigned an ID number\\n - planes entering the takeoff queue are assigned a successive even integer\\n - planes entering the landing queue are assigned a successive odd integer\\n\\nrunway \\n  - each runway can handle one takeoff or landing at each timeslot\\n  - timeslots are 1\\n\\n\\nInput data:\\nFor each time unit the input may have the following information (and any other you like to add):\\n- Indicating the number of planes arriving at takeoff queues.\\n- Indicating the number of planes arriving at landing queues\\n- Information about the plane (id, airline, other information)\\n'"
            ]
          },
          "metadata": {
            "tags": []
          },
          "execution_count": 124
        }
      ]
    },
    {
      "cell_type": "code",
      "metadata": {
        "id": "3xmVU6LE5hJT",
        "outputId": "ab65fb65-4df9-4480-e386-9f26ee6958e6",
        "colab": {
          "base_uri": "https://localhost:8080/",
          "height": 68
        }
      },
      "source": [
        "from datetime import date\n",
        "import time\n",
        "# take_off_queue = []\n",
        "# landing_queue = []\n",
        "flight_requests = []\n",
        "runway1 = []\n",
        "runway2 = []\n",
        "\n",
        " \n",
        "def main():\n",
        "    today = date.today()\n",
        "    day_string = today.strftime(\"%B %d, %Y\")    \n",
        "    print(\"Welcome to the flight simulator, today is \", day_string)\n",
        "    create_data()\n",
        "\n",
        "if __name__ == '__main__':\n",
        "    main()"
      ],
      "execution_count": 152,
      "outputs": [
        {
          "output_type": "stream",
          "text": [
            "Welcome to the flight simulator, today is  October 05, 2020\n",
            "1601872952.2492802\n",
            "32\n"
          ],
          "name": "stdout"
        }
      ]
    },
    {
      "cell_type": "code",
      "metadata": {
        "id": "j31ne1wKtILI"
      },
      "source": [
        "class AirPlane:\n",
        "  def __init__(self, state):\n",
        "     self.state = state\n",
        "\n",
        "class Requests:\n",
        "  planes = []\n",
        "\n",
        "\n",
        "Requests.planes.append(test_plane)"
      ],
      "execution_count": 158,
      "outputs": []
    },
    {
      "cell_type": "code",
      "metadata": {
        "id": "XgVIMgPZB0Hf",
        "outputId": "6f4c5181-4b58-4133-f204-6ec900628ffa",
        "colab": {
          "base_uri": "https://localhost:8080/",
          "height": 425
        }
      },
      "source": [
        "import random\n",
        "airlines = [\"Delta\",\"Southwest\",\"American\",\"Alaska\"]\n",
        "\n",
        "\n",
        "\n",
        "flight_requests = []\n",
        "time_elapsed = 0\n",
        "while(time_elapsed < 120):\n",
        "  # current_time = time_elapsed # save last val of time elapsed to get current time each iteration\n",
        "  time_elapsed += 1\n",
        "  # at each step, it is decided if a plane will spawn or not. both landing requesting planes and takeoff requesting planes have a 1/3 chance of being spawned. if the state is 0, that means no plane spawn\n",
        "  request = random.randrange(3) \n",
        "  #print(time_elapsed)\n",
        "  if (time_elapsed % 5 == 0):\n",
        "    new_spawn = AirPlane(request) \n",
        "    print(new_spawn.state)\n",
        "    #print(\"after 5 minutes\")\n",
        "\n"
      ],
      "execution_count": 162,
      "outputs": [
        {
          "output_type": "stream",
          "text": [
            "0\n",
            "2\n",
            "2\n",
            "1\n",
            "0\n",
            "1\n",
            "1\n",
            "0\n",
            "2\n",
            "2\n",
            "1\n",
            "1\n",
            "1\n",
            "2\n",
            "0\n",
            "0\n",
            "1\n",
            "2\n",
            "2\n",
            "2\n",
            "2\n",
            "0\n",
            "0\n",
            "0\n"
          ],
          "name": "stdout"
        }
      ]
    },
    {
      "cell_type": "code",
      "metadata": {
        "id": "Og2Ffkays1WB"
      },
      "source": [
        "import random\n",
        "airlines = [\"Delta\",\"Southwest\",\"American\",\"Alaska\"]\n",
        "state = random.randrange(3)\n",
        "\n",
        "\n",
        "\n"
      ],
      "execution_count": 126,
      "outputs": []
    },
    {
      "cell_type": "code",
      "metadata": {
        "id": "B-z-Jo8JyzJI",
        "outputId": "8a960c4b-9e38-4bbb-c597-a5fab9da4f54",
        "colab": {
          "base_uri": "https://localhost:8080/",
          "height": 130
        }
      },
      "source": [
        "class Requests:\n",
        "  planes = []\n",
        "\n",
        "\n",
        "\n"
      ],
      "execution_count": 127,
      "outputs": [
        {
          "output_type": "error",
          "ename": "SyntaxError",
          "evalue": "ignored",
          "traceback": [
            "\u001b[0;36m  File \u001b[0;32m\"<ipython-input-127-816dfba64b67>\"\u001b[0;36m, line \u001b[0;32m5\u001b[0m\n\u001b[0;31m    def\u001b[0m\n\u001b[0m        ^\u001b[0m\n\u001b[0;31mSyntaxError\u001b[0m\u001b[0;31m:\u001b[0m invalid syntax\n"
          ]
        }
      ]
    },
    {
      "cell_type": "code",
      "metadata": {
        "id": "kl94H6NCni9X"
      },
      "source": [
        "def create_data(): \n",
        "  start = time.time()\n",
        "  t = time.localtime(start)\n",
        "  second = t.tm_sec\n",
        "\n",
        "\n",
        "  print(start)\n",
        "  print(second)"
      ],
      "execution_count": null,
      "outputs": []
    },
    {
      "cell_type": "code",
      "metadata": {
        "id": "M1kL3GpMzJ0J"
      },
      "source": [
        "state1 = random.randrange(20)\n",
        "# state2 = random.randrange(20)\n",
        "test_plane = AirPlane(state1)\n",
        "test_plane2 = AirPlane(state2)\n",
        "print(test_plane.state)\n",
        "print(test_plane2.state)\n",
        "\n",
        "# print(test_plane.airline)\n",
        "Requests.my_planes.append(test_plane)\n",
        "planes.append(test_plane)\n",
        "for plane in planes:\n",
        "  print(plane.state)\n",
        "print(Requests.my_planes[0].state)"
      ],
      "execution_count": null,
      "outputs": []
    }
  ]
}