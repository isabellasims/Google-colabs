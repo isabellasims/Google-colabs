{
  "nbformat": 4,
  "nbformat_minor": 0,
  "metadata": {
    "colab": {
      "name": "Airport Sim",
      "provenance": [],
      "collapsed_sections": [],
      "authorship_tag": "ABX9TyOAkn38EwJQ87ImJvkldlS8",
      "include_colab_link": true
    },
    "kernelspec": {
      "name": "python3",
      "display_name": "Python 3"
    }
  },
  "cells": [
    {
      "cell_type": "markdown",
      "metadata": {
        "id": "view-in-github",
        "colab_type": "text"
      },
      "source": [
        "<a href=\"https://colab.research.google.com/github/isabellasims/Google-colabs/blob/master/Airport_Sim.ipynb\" target=\"_parent\"><img src=\"https://colab.research.google.com/assets/colab-badge.svg\" alt=\"Open In Colab\"/></a>"
      ]
    },
    {
      "cell_type": "code",
      "metadata": {
        "id": "yH1GRb50ao_V"
      },
      "source": [
        "\"\"\"\n",
        "Output:\n",
        "- 120 time units of airport activity\n",
        "\n",
        "this program simulates the takeoff and landing patterns of an airport with two runways\n",
        " ***both runways can hold up to 3 planes at one time***\n",
        "\n",
        "everytime a plane enters a holding queue it is assigned an ID number\n",
        " - planes entering the takeoff queue are assigned a successive even integer\n",
        " - planes entering the landing queue are assigned a successive odd integer\n",
        "\n",
        "runway \n",
        "  - each runway can handle one takeoff or landing at each timeslot\n",
        "  - timeslots are 1\n",
        "\n",
        "\n",
        "Input data:\n",
        "For each time unit the input may have the following information (and any other you like to add):\n",
        "- Indicating the number of planes arriving at takeoff queues.\n",
        "- Indicating the number of planes arriving at landing queues\n",
        "- Information about the plane (id, airline, other information)\n",
        "\"\"\"\n",
        "\n"
      ],
      "execution_count": null,
      "outputs": []
    },
    {
      "cell_type": "code",
      "metadata": {
        "id": "Og2Ffkays1WB"
      },
      "source": [
        "requests = []"
      ],
      "execution_count": null,
      "outputs": []
    },
    {
      "cell_type": "code",
      "metadata": {
        "id": "j31ne1wKtILI"
      },
      "source": [
        "class AirPlane:\n",
        "  def __init__(self, id, airline,type):\n",
        "\n",
        "test_plane = AirPlane()\n"
      ],
      "execution_count": 21,
      "outputs": []
    },
    {
      "cell_type": "code",
      "metadata": {
        "id": "kl94H6NCni9X",
        "outputId": "154a4538-8221-4f28-c84a-c6b847202ef4",
        "colab": {
          "base_uri": "https://localhost:8080/",
          "height": 34
        }
      },
      "source": [
        "# data \n",
        "import random\n",
        "# decide whether to generate a plane\n",
        "\n",
        "flight_request = random.randrange(2)\n",
        "print(flight_request)\n"
      ],
      "execution_count": 19,
      "outputs": [
        {
          "output_type": "stream",
          "text": [
            "0\n"
          ],
          "name": "stdout"
        }
      ]
    }
  ]
}