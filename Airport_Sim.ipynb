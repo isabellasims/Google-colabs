{
  "nbformat": 4,
  "nbformat_minor": 0,
  "metadata": {
    "colab": {
      "name": "Airport Sim",
      "provenance": [],
      "collapsed_sections": [],
      "authorship_tag": "ABX9TyPR42FKchtSKHnH4oVQO10j",
      "include_colab_link": true
    },
    "kernelspec": {
      "name": "python3",
      "display_name": "Python 3"
    }
  },
  "cells": [
    {
      "cell_type": "markdown",
      "metadata": {
        "id": "view-in-github",
        "colab_type": "text"
      },
      "source": [
        "<a href=\"https://colab.research.google.com/github/isabellasims/Google-colabs/blob/master/Airport_Sim.ipynb\" target=\"_parent\"><img src=\"https://colab.research.google.com/assets/colab-badge.svg\" alt=\"Open In Colab\"/></a>"
      ]
    },
    {
      "cell_type": "code",
      "metadata": {
        "id": "yH1GRb50ao_V",
        "outputId": "8a570f02-3c78-46df-b279-5d43d408f5f2",
        "colab": {
          "base_uri": "https://localhost:8080/",
          "height": 120
        }
      },
      "source": [
        "\"\"\"\n",
        "Output:\n",
        "- 120 time units of airport activity\n",
        "\n",
        "this program simulates the takeoff and landing patterns of an airport with two runways\n",
        " ***both runways can hold up to 3 planes at one time***\n",
        "\n",
        "everytime a plane enters a holding queue it is assigned an ID number\n",
        " - planes entering the takeoff queue are assigned a successive even integer\n",
        " - planes entering the landing queue are assigned a successive odd integer\n",
        "\n",
        "runway \n",
        "  - each runway can handle one takeoff or landing at each timeslot\n",
        "  - timeslots are 1\n",
        "\n",
        "\n",
        "Input data:\n",
        "For each time unit the input may have the following information (and any other you like to add):\n",
        "- Indicating the number of planes arriving at takeoff queues.\n",
        "- Indicating the number of planes arriving at landing queues\n",
        "- Information about the plane (id, airline, other information)\n",
        "\"\"\"\n",
        "\n"
      ],
      "execution_count": 254,
      "outputs": [
        {
          "output_type": "execute_result",
          "data": {
            "application/vnd.google.colaboratory.intrinsic+json": {
              "type": "string"
            },
            "text/plain": [
              "'\\nOutput:\\n- 120 time units of airport activity\\n\\nthis program simulates the takeoff and landing patterns of an airport with two runways\\n ***both runways can hold up to 3 planes at one time***\\n\\neverytime a plane enters a holding queue it is assigned an ID number\\n - planes entering the takeoff queue are assigned a successive even integer\\n - planes entering the landing queue are assigned a successive odd integer\\n\\nrunway \\n  - each runway can handle one takeoff or landing at each timeslot\\n  - timeslots are 1\\n\\n\\nInput data:\\nFor each time unit the input may have the following information (and any other you like to add):\\n- Indicating the number of planes arriving at takeoff queues.\\n- Indicating the number of planes arriving at landing queues\\n- Information about the plane (id, airline, other information)\\n'"
            ]
          },
          "metadata": {
            "tags": []
          },
          "execution_count": 254
        }
      ]
    },
    {
      "cell_type": "code",
      "metadata": {
        "id": "3xmVU6LE5hJT",
        "outputId": "279308dc-a9e1-4915-c71d-70e54f525997",
        "colab": {
          "base_uri": "https://localhost:8080/",
          "height": 68
        }
      },
      "source": [
        "from datetime import date\n",
        "import time\n",
        "# take_off_queue = []\n",
        "# landing_queue = []\n",
        "flight_requests = []\n",
        "runway1 = []\n",
        "runway2 = []\n",
        "\n",
        " \n",
        "def main():\n",
        "    today = date.today()\n",
        "    day_string = today.strftime(\"%B %d, %Y\")    \n",
        "    print(\"Welcome to the flight simulator, today is \", day_string)\n",
        "    create_data()\n",
        "\n",
        "if __name__ == '__main__':\n",
        "    main()"
      ],
      "execution_count": 255,
      "outputs": [
        {
          "output_type": "stream",
          "text": [
            "Welcome to the flight simulator, today is  October 05, 2020\n",
            "1601878004.9500246\n",
            "44\n"
          ],
          "name": "stdout"
        }
      ]
    },
    {
      "cell_type": "code",
      "metadata": {
        "id": "j31ne1wKtILI",
        "outputId": "ab7a7f9b-eec6-47d3-b6b2-d58ecbc5f312",
        "colab": {
          "base_uri": "https://localhost:8080/",
          "height": 51
        }
      },
      "source": [
        "import random\n",
        "class AirPlane:\n",
        "  def __init__(self, state,id,string):\n",
        "     self.state = state\n",
        "     self.id = id\n",
        "     self.string = string \n",
        "\n",
        "class Requests:\n",
        "  planes = []\n",
        "  take_off_queue = []\n",
        "  landing_queue = []\n",
        "  runway1 = []\n",
        "  runway2 = []\n",
        "\n",
        "\n",
        "test = AirPlane(2,4,\"takeoff\")\n",
        "print(test.id)\n",
        "print(len(Requests.runway1))\n"
      ],
      "execution_count": 271,
      "outputs": [
        {
          "output_type": "stream",
          "text": [
            "4\n",
            "0\n"
          ],
          "name": "stdout"
        }
      ]
    },
    {
      "cell_type": "code",
      "metadata": {
        "id": "XgVIMgPZB0Hf",
        "outputId": "7a0dbe94-df88-41a6-bdb3-bf1132ff475e",
        "colab": {
          "base_uri": "https://localhost:8080/",
          "height": 1000
        }
      },
      "source": [
        "\n",
        "airlines = [\"Delta\",\"Southwest\",\"American\",\"Alaska\"]\n",
        "evens = 2\n",
        "odds = 3\n",
        "\n",
        "\n",
        "flight_requests = []\n",
        "time_elapsed = 0\n",
        "while(time_elapsed < 120):\n",
        "  \n",
        "  # current_time = time_elapsed # save last val of time elapsed to get current time each iteration\n",
        "  time_elapsed += 1\n",
        "  # at each step, it is decided if a plane will spawn or not. both landing requesting planes and takeoff requesting planes have a 1/3 chance of being spawned. if the state is 0, that means no plane spawn\n",
        "   \n",
        "  print(time_elapsed)\n",
        "  \n",
        "  if time_elapsed % 5 == 0:\n",
        "    request = random.randrange(3)\n",
        "    if request == 1:\n",
        "      new_spawn = AirPlane(request,evens,\"take off\")\n",
        "      Requests.take_off_queue.append(new_spawn)\n",
        "      Requests.planes.append(new_spawn)\n",
        "      evens += 2\n",
        "    else:\n",
        "      new_spawn = AirPlane(request,evens,\"landing\")\n",
        "      Requests.landing_queue.append(new_spawn)\n",
        "      Requests.planes.append(new_spawn)\n",
        "      odds += 2\n",
        "    print(\"after 5 minutes, there are\", len(Requests.landing_queue), \"planes waiting to land and\",len(Requests.take_off_queue), \"planes waiting to take off\" )\n",
        "    #print(\"plane \",Requests.planes[0], \"is cleared for\")\n",
        "  if time_elapsed % 15 == 0:\n",
        "    if len(Requests.runway1) <= 3 and len(Requests.runway2) <= 3:\n",
        "      cleared = []\n",
        "      print(\"not full\")\n",
        "      # add planes to the runway with less airplanes\n",
        "      # the plane that has been in the queue (of both request types) the longest is the first to be cleared\n",
        "      # the second to be cleared is the plane who has been in the longest queue for the opposite type\n",
        "      ## this way, neither takeoff or landing queues get to long because every 15 minutes one of each is cleared for landing or flight respectively \n",
        "\n",
        "      # CASE: MORE PLANES ON RUNWAY2 \n",
        "      if len(Requests.runway1) < len(Requests.runway2):\n",
        "        # clear the plane that has been in the encompassing queue for the longest\n",
        "        cleared1 = Requests.planes[0]\n",
        "        cleared.append(cleared1)\n",
        "        Requests.runway1.append(Requests.planes[0]) # 1/2 planes added     \n",
        "        print(\"plane \",Requests.planes[0].id, \"is cleared for\", Requests.planes[0].string)\n",
        "        # clear the plane that has been in the specific queue of the opposite time for the longest\n",
        "        if Requests.planes[0].string == \"take off\":\n",
        "          # check which runway has the least amount of planes again \n",
        "          if len(Requests.runway1) < len(Requests.runway2):\n",
        "            cleared2 = Requests.take_off_queue[0]\n",
        "            cleared.append(cleared2)\n",
        "            Requests.runway1.append(Requests.take_off_queue[0]) # 2/2 plains added\n",
        "            print(\"plane \",Requests.planes[0].id, \"is cleared for\", Requests.planes[0].string)\n",
        "        else:\n",
        "          # check which runway has the least amount of planes again \n",
        "          if len(Requests.runway1) < len(Requests.runway2):\n",
        "            cleared2 = Requests.landing_queue[0]\n",
        "            cleared.append(cleared2)\n",
        "            Requests.runway1.append(Requests.landing_queue[0]) # 2/2 plains added\n",
        "            print(\"plane \",Requests.planes[0].id, \"is cleared for\", Requests.planes[0].string)\n",
        "        Requests.runway1.pop(0)\n",
        "        Requests.runway2.pop(0)\n",
        "\n",
        "      # CASE: MORE PLANES ON RUNWAY1     \n",
        "      else:\n",
        "        cleared1 = Requests.planes[0]\n",
        "        cleared.append(cleared1)\n",
        "        Requests.runway2.append(Requests.planes[0]) # 1/2 planes added  \n",
        "        if Requests.planes[0].string == \"take off\":\n",
        "          # check which runway has the least amount of planes again \n",
        "          if len(Requests.runway1) < len(Requests.runway2):\n",
        "            cleared2 = Requests.take_off_queue[0]\n",
        "            cleared.append(cleared2)\n",
        "            Requests.runway1.append(Requests.take_off_queue[0]) # 2/2 plains added\n",
        "            print(\"plane \",Requests.planes[0].id, \"is cleared for\", Requests.planes[0].string)\n",
        "        else:\n",
        "          # check which runway has the least amount of planes again \n",
        "          if len(Requests.runway1) < len(Requests.runway2):\n",
        "            cleared2 = Requests.landing_queue[0]\n",
        "            cleared.append(cleared2)\n",
        "            Requests.runway1.append(Requests.landing_queue[0]) # 2/2 plains added\n",
        "            print(\"plane \",Requests.planes[0].id, \"is cleared for\", Requests.planes[0].string)\n",
        "        Requests.runway1.pop(0)\n",
        "        Requests.runway2.pop(0)\n",
        "      print(\"plane \",cleared[0].id, \"is cleared for\", cleared[0].string)\n",
        "      print(\"plane \",cleared[1].id, \"is cleared for\", cleared[1].string)\n",
        "    # else: \n",
        "       \n",
        "    #   print(\"full\",len(Requests.runway1))\n",
        "    #   print(\"full\",len(Requests.runway2))\n",
        "\n",
        "    \n",
        "  #if time_elapsed % 5 == 0:\n",
        "    #print(Requests.planes[0])\n",
        "\n",
        "\n",
        "\n",
        "    \n",
        "\n"
      ],
      "execution_count": 293,
      "outputs": [
        {
          "output_type": "stream",
          "text": [
            "1\n",
            "2\n",
            "3\n",
            "4\n",
            "5\n",
            "after 5 minutes, there are 228 planes waiting to land and 124 planes waiting to take off\n",
            "6\n",
            "7\n",
            "8\n",
            "9\n",
            "10\n",
            "after 5 minutes, there are 229 planes waiting to land and 124 planes waiting to take off\n",
            "11\n",
            "12\n",
            "13\n",
            "14\n",
            "15\n",
            "after 5 minutes, there are 230 planes waiting to land and 124 planes waiting to take off\n",
            "not full\n",
            "plane  2 is cleared for take off\n",
            "plane  2 is cleared for take off\n",
            "plane  2 is cleared for take off\n",
            "16\n",
            "17\n",
            "18\n",
            "19\n",
            "20\n",
            "after 5 minutes, there are 231 planes waiting to land and 124 planes waiting to take off\n",
            "21\n",
            "22\n",
            "23\n",
            "24\n",
            "25\n",
            "after 5 minutes, there are 232 planes waiting to land and 124 planes waiting to take off\n",
            "26\n",
            "27\n",
            "28\n",
            "29\n",
            "30\n",
            "after 5 minutes, there are 233 planes waiting to land and 124 planes waiting to take off\n",
            "not full\n",
            "plane  2 is cleared for take off\n",
            "plane  2 is cleared for take off\n",
            "plane  2 is cleared for take off\n",
            "31\n",
            "32\n",
            "33\n",
            "34\n",
            "35\n",
            "after 5 minutes, there are 234 planes waiting to land and 124 planes waiting to take off\n",
            "36\n",
            "37\n",
            "38\n",
            "39\n",
            "40\n",
            "after 5 minutes, there are 234 planes waiting to land and 125 planes waiting to take off\n",
            "41\n",
            "42\n",
            "43\n",
            "44\n",
            "45\n",
            "after 5 minutes, there are 235 planes waiting to land and 125 planes waiting to take off\n",
            "not full\n",
            "plane  2 is cleared for take off\n",
            "plane  2 is cleared for take off\n",
            "plane  2 is cleared for take off\n",
            "46\n",
            "47\n",
            "48\n",
            "49\n",
            "50\n",
            "after 5 minutes, there are 235 planes waiting to land and 126 planes waiting to take off\n",
            "51\n",
            "52\n",
            "53\n",
            "54\n",
            "55\n",
            "after 5 minutes, there are 236 planes waiting to land and 126 planes waiting to take off\n",
            "56\n",
            "57\n",
            "58\n",
            "59\n",
            "60\n",
            "after 5 minutes, there are 237 planes waiting to land and 126 planes waiting to take off\n",
            "not full\n",
            "plane  2 is cleared for take off\n",
            "plane  2 is cleared for take off\n",
            "plane  2 is cleared for take off\n",
            "61\n",
            "62\n",
            "63\n",
            "64\n",
            "65\n",
            "after 5 minutes, there are 238 planes waiting to land and 126 planes waiting to take off\n",
            "66\n",
            "67\n",
            "68\n",
            "69\n",
            "70\n",
            "after 5 minutes, there are 238 planes waiting to land and 127 planes waiting to take off\n",
            "71\n",
            "72\n",
            "73\n",
            "74\n",
            "75\n",
            "after 5 minutes, there are 238 planes waiting to land and 128 planes waiting to take off\n",
            "not full\n",
            "plane  2 is cleared for take off\n",
            "plane  2 is cleared for take off\n",
            "plane  2 is cleared for take off\n",
            "76\n",
            "77\n",
            "78\n",
            "79\n",
            "80\n",
            "after 5 minutes, there are 239 planes waiting to land and 128 planes waiting to take off\n",
            "81\n",
            "82\n",
            "83\n",
            "84\n",
            "85\n",
            "after 5 minutes, there are 240 planes waiting to land and 128 planes waiting to take off\n",
            "86\n",
            "87\n",
            "88\n",
            "89\n",
            "90\n",
            "after 5 minutes, there are 241 planes waiting to land and 128 planes waiting to take off\n",
            "not full\n",
            "plane  2 is cleared for take off\n",
            "plane  2 is cleared for take off\n",
            "plane  2 is cleared for take off\n",
            "91\n",
            "92\n",
            "93\n",
            "94\n",
            "95\n",
            "after 5 minutes, there are 242 planes waiting to land and 128 planes waiting to take off\n",
            "96\n",
            "97\n",
            "98\n",
            "99\n",
            "100\n",
            "after 5 minutes, there are 243 planes waiting to land and 128 planes waiting to take off\n",
            "101\n",
            "102\n",
            "103\n",
            "104\n",
            "105\n",
            "after 5 minutes, there are 244 planes waiting to land and 128 planes waiting to take off\n",
            "not full\n",
            "plane  2 is cleared for take off\n",
            "plane  2 is cleared for take off\n",
            "plane  2 is cleared for take off\n",
            "106\n",
            "107\n",
            "108\n",
            "109\n",
            "110\n",
            "after 5 minutes, there are 245 planes waiting to land and 128 planes waiting to take off\n",
            "111\n",
            "112\n",
            "113\n",
            "114\n",
            "115\n",
            "after 5 minutes, there are 245 planes waiting to land and 129 planes waiting to take off\n",
            "116\n",
            "117\n",
            "118\n",
            "119\n",
            "120\n",
            "after 5 minutes, there are 246 planes waiting to land and 129 planes waiting to take off\n",
            "not full\n",
            "plane  2 is cleared for take off\n",
            "plane  2 is cleared for take off\n",
            "plane  2 is cleared for take off\n"
          ],
          "name": "stdout"
        }
      ]
    },
    {
      "cell_type": "code",
      "metadata": {
        "id": "ydd1pi4FSxsu",
        "outputId": "c6fe2fc0-6698-41b5-92ef-309b06bc69a8",
        "colab": {
          "base_uri": "https://localhost:8080/",
          "height": 34
        }
      },
      "source": [
        "mylist = []\n",
        "mylist.append(1)\n",
        "mylist.append(2)\n",
        "mylist.append(3)\n",
        "print(mylist[0])"
      ],
      "execution_count": 258,
      "outputs": [
        {
          "output_type": "stream",
          "text": [
            "1\n"
          ],
          "name": "stdout"
        }
      ]
    },
    {
      "cell_type": "code",
      "metadata": {
        "id": "Og2Ffkays1WB"
      },
      "source": [
        "import random\n",
        "airlines = [\"Delta\",\"Southwest\",\"American\",\"Alaska\"]\n",
        "state = random.randrange(3)\n",
        "\n",
        "\n",
        "\n"
      ],
      "execution_count": 259,
      "outputs": []
    },
    {
      "cell_type": "code",
      "metadata": {
        "id": "B-z-Jo8JyzJI"
      },
      "source": [
        "class Requests:\n",
        "  planes = []\n",
        "\n",
        "\n",
        "\n"
      ],
      "execution_count": 260,
      "outputs": []
    },
    {
      "cell_type": "code",
      "metadata": {
        "id": "kl94H6NCni9X"
      },
      "source": [
        "def create_data(): \n",
        "  start = time.time()\n",
        "  t = time.localtime(start)\n",
        "  second = t.tm_sec\n",
        "\n",
        "\n",
        "  print(start)\n",
        "  print(second)"
      ],
      "execution_count": 261,
      "outputs": []
    },
    {
      "cell_type": "code",
      "metadata": {
        "id": "M1kL3GpMzJ0J",
        "outputId": "8689dab6-281b-474a-ec14-f9067b77202c",
        "colab": {
          "base_uri": "https://localhost:8080/",
          "height": 232
        }
      },
      "source": [
        "state1 = random.randrange(20)\n",
        "# state2 = random.randrange(20)\n",
        "test_plane = AirPlane(state1)\n",
        "test_plane2 = AirPlane(state2)\n",
        "print(test_plane.state)\n",
        "print(test_plane2.state)\n",
        "\n",
        "# print(test_plane.airline)\n",
        "Requests.my_planes.append(test_plane)\n",
        "planes.append(test_plane)\n",
        "for plane in planes:\n",
        "  print(plane.state)\n",
        "print(Requests.my_planes[0].state)"
      ],
      "execution_count": 262,
      "outputs": [
        {
          "output_type": "error",
          "ename": "TypeError",
          "evalue": "ignored",
          "traceback": [
            "\u001b[0;31m---------------------------------------------------------------------------\u001b[0m",
            "\u001b[0;31mTypeError\u001b[0m                                 Traceback (most recent call last)",
            "\u001b[0;32m<ipython-input-262-b153876c7721>\u001b[0m in \u001b[0;36m<module>\u001b[0;34m()\u001b[0m\n\u001b[1;32m      1\u001b[0m \u001b[0mstate1\u001b[0m \u001b[0;34m=\u001b[0m \u001b[0mrandom\u001b[0m\u001b[0;34m.\u001b[0m\u001b[0mrandrange\u001b[0m\u001b[0;34m(\u001b[0m\u001b[0;36m20\u001b[0m\u001b[0;34m)\u001b[0m\u001b[0;34m\u001b[0m\u001b[0;34m\u001b[0m\u001b[0m\n\u001b[1;32m      2\u001b[0m \u001b[0;31m# state2 = random.randrange(20)\u001b[0m\u001b[0;34m\u001b[0m\u001b[0;34m\u001b[0m\u001b[0;34m\u001b[0m\u001b[0m\n\u001b[0;32m----> 3\u001b[0;31m \u001b[0mtest_plane\u001b[0m \u001b[0;34m=\u001b[0m \u001b[0mAirPlane\u001b[0m\u001b[0;34m(\u001b[0m\u001b[0mstate1\u001b[0m\u001b[0;34m)\u001b[0m\u001b[0;34m\u001b[0m\u001b[0;34m\u001b[0m\u001b[0m\n\u001b[0m\u001b[1;32m      4\u001b[0m \u001b[0mtest_plane2\u001b[0m \u001b[0;34m=\u001b[0m \u001b[0mAirPlane\u001b[0m\u001b[0;34m(\u001b[0m\u001b[0mstate2\u001b[0m\u001b[0;34m)\u001b[0m\u001b[0;34m\u001b[0m\u001b[0;34m\u001b[0m\u001b[0m\n\u001b[1;32m      5\u001b[0m \u001b[0mprint\u001b[0m\u001b[0;34m(\u001b[0m\u001b[0mtest_plane\u001b[0m\u001b[0;34m.\u001b[0m\u001b[0mstate\u001b[0m\u001b[0;34m)\u001b[0m\u001b[0;34m\u001b[0m\u001b[0;34m\u001b[0m\u001b[0m\n",
            "\u001b[0;31mTypeError\u001b[0m: __init__() missing 2 required positional arguments: 'id' and 'string'"
          ]
        }
      ]
    }
  ]
}