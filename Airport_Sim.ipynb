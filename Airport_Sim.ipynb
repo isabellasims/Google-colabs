{
  "nbformat": 4,
  "nbformat_minor": 0,
  "metadata": {
    "colab": {
      "name": "Airport Sim",
      "provenance": [],
      "authorship_tag": "ABX9TyPcx6PkFgvGBM5H93xydvQ+",
      "include_colab_link": true
    },
    "kernelspec": {
      "name": "python3",
      "display_name": "Python 3"
    }
  },
  "cells": [
    {
      "cell_type": "markdown",
      "metadata": {
        "id": "view-in-github",
        "colab_type": "text"
      },
      "source": [
        "<a href=\"https://colab.research.google.com/github/isabellasims/Google-colabs/blob/master/Airport_Sim.ipynb\" target=\"_parent\"><img src=\"https://colab.research.google.com/assets/colab-badge.svg\" alt=\"Open In Colab\"/></a>"
      ]
    },
    {
      "cell_type": "code",
      "metadata": {
        "id": "yH1GRb50ao_V"
      },
      "source": [
        "\"\"\"\n",
        "this program simulates the takeoof and landing patterns of an airport with two runways\n",
        " one runway = takeoff\n",
        " other runway = landing\n",
        "-----------------------------------------------------------------------------------------\n",
        " everytime a plane enters the runway it is assigned an ID number\n",
        "  planes entering the takeoff queue are assigned a successive even integer\n",
        "  planes entering the takeoff queue are assigned a successive odd integer\n",
        "\"\"\"\n",
        "\n"
      ],
      "execution_count": null,
      "outputs": []
    }
  ]
}