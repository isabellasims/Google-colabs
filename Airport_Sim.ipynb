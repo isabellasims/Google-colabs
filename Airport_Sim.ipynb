{
  "nbformat": 4,
  "nbformat_minor": 0,
  "metadata": {
    "colab": {
      "name": "Airport Sim",
      "provenance": [],
      "collapsed_sections": [],
      "authorship_tag": "ABX9TyPiHDAZ83MfkGwgyTPZClWq",
      "include_colab_link": true
    },
    "kernelspec": {
      "name": "python3",
      "display_name": "Python 3"
    }
  },
  "cells": [
    {
      "cell_type": "markdown",
      "metadata": {
        "id": "view-in-github",
        "colab_type": "text"
      },
      "source": [
        "<a href=\"https://colab.research.google.com/github/isabellasims/Google-colabs/blob/master/Airport_Sim.ipynb\" target=\"_parent\"><img src=\"https://colab.research.google.com/assets/colab-badge.svg\" alt=\"Open In Colab\"/></a>"
      ]
    },
    {
      "cell_type": "code",
      "metadata": {
        "id": "yH1GRb50ao_V",
        "outputId": "f10c2446-35f6-4ee3-9499-998bc6290347",
        "colab": {
          "base_uri": "https://localhost:8080/",
          "height": 120
        }
      },
      "source": [
        "\"\"\"\n",
        "Output:\n",
        "- 120 time units of airport activity\n",
        "\n",
        "this program simulates the takeoff and landing patterns of an airport with two runways\n",
        " ***both runways can hold up to 3 planes at one time***\n",
        "\n",
        "everytime a plane enters a holding queue it is assigned an ID number\n",
        " - planes entering the takeoff queue are assigned a successive even integer\n",
        " - planes entering the landing queue are assigned a successive odd integer\n",
        "\n",
        "runway \n",
        "  - each runway can handle one takeoff or landing at each timeslot\n",
        "  - timeslots are 1\n",
        "\n",
        "\n",
        "Input data:\n",
        "For each time unit the input may have the following information (and any other you like to add):\n",
        "- Indicating the number of planes arriving at takeoff queues.\n",
        "- Indicating the number of planes arriving at landing queues\n",
        "- Information about the plane (id, airline, other information)\n",
        "\"\"\"\n",
        "\n"
      ],
      "execution_count": 124,
      "outputs": [
        {
          "output_type": "execute_result",
          "data": {
            "application/vnd.google.colaboratory.intrinsic+json": {
              "type": "string"
            },
            "text/plain": [
              "'\\nOutput:\\n- 120 time units of airport activity\\n\\nthis program simulates the takeoff and landing patterns of an airport with two runways\\n ***both runways can hold up to 3 planes at one time***\\n\\neverytime a plane enters a holding queue it is assigned an ID number\\n - planes entering the takeoff queue are assigned a successive even integer\\n - planes entering the landing queue are assigned a successive odd integer\\n\\nrunway \\n  - each runway can handle one takeoff or landing at each timeslot\\n  - timeslots are 1\\n\\n\\nInput data:\\nFor each time unit the input may have the following information (and any other you like to add):\\n- Indicating the number of planes arriving at takeoff queues.\\n- Indicating the number of planes arriving at landing queues\\n- Information about the plane (id, airline, other information)\\n'"
            ]
          },
          "metadata": {
            "tags": []
          },
          "execution_count": 124
        }
      ]
    },
    {
      "cell_type": "code",
      "metadata": {
        "id": "3xmVU6LE5hJT",
        "outputId": "ab65fb65-4df9-4480-e386-9f26ee6958e6",
        "colab": {
          "base_uri": "https://localhost:8080/",
          "height": 68
        }
      },
      "source": [
        "from datetime import date\n",
        "import time\n",
        "# take_off_queue = []\n",
        "# landing_queue = []\n",
        "flight_requests = []\n",
        "runway1 = []\n",
        "runway2 = []\n",
        "\n",
        " \n",
        "def main():\n",
        "    today = date.today()\n",
        "    day_string = today.strftime(\"%B %d, %Y\")    \n",
        "    print(\"Welcome to the flight simulator, today is \", day_string)\n",
        "    create_data()\n",
        "\n",
        "if __name__ == '__main__':\n",
        "    main()"
      ],
      "execution_count": 152,
      "outputs": [
        {
          "output_type": "stream",
          "text": [
            "Welcome to the flight simulator, today is  October 05, 2020\n",
            "1601872952.2492802\n",
            "32\n"
          ],
          "name": "stdout"
        }
      ]
    },
    {
      "cell_type": "code",
      "metadata": {
        "id": "j31ne1wKtILI"
      },
      "source": [
        "class AirPlane:\n",
        "  def __init__(self, state):\n",
        "     self.state = state\n",
        "\n",
        "class Requests:\n",
        "  planes = []\n",
        "  take_off_queue = []\n",
        "  landing_queue = []\n",
        "\n",
        "\n",
        "Requests.planes.append(test_plane)"
      ],
      "execution_count": 183,
      "outputs": []
    },
    {
      "cell_type": "code",
      "metadata": {
        "id": "XgVIMgPZB0Hf",
        "outputId": "ee09e091-2d66-4212-b2c7-e749f71ceb0c",
        "colab": {
          "base_uri": "https://localhost:8080/",
          "height": 1000
        }
      },
      "source": [
        "import random\n",
        "airlines = [\"Delta\",\"Southwest\",\"American\",\"Alaska\"]\n",
        "\n",
        "\n",
        "\n",
        "flight_requests = []\n",
        "time_elapsed = 0\n",
        "while(time_elapsed < 120):\n",
        "  # current_time = time_elapsed # save last val of time elapsed to get current time each iteration\n",
        "  time_elapsed += 1\n",
        "  # at each step, it is decided if a plane will spawn or not. both landing requesting planes and takeoff requesting planes have a 1/3 chance of being spawned. if the state is 0, that means no plane spawn\n",
        "  request = random.randrange(3) \n",
        "  print(time_elapsed)\n",
        "  #print(time_elapsed)\n",
        "  if time_elapsed % 5 == 0:\n",
        "    print(\"after 5 minutes, there are \", len(Requests.landing_queue), \"planes waiting to land\")\n",
        "    new_spawn = AirPlane(request) \n",
        "    if new_spawn.state == 1 or new_spawn.state == 2:\n",
        "      Requests.planes.append(new_spawn)\n",
        "      if new_spawn.state == 1:\n",
        "        Requests.take_off_queue.append(new_spawn)\n",
        "      else:\n",
        "        Requests.landing_queue.append(new_spawn)\n",
        "    else: \n",
        "      pass\n",
        "    \n",
        " \n",
        "    #print(Requests.planes[0])\n",
        "\n",
        "\n",
        "\n",
        "    \n",
        "\n"
      ],
      "execution_count": 184,
      "outputs": [
        {
          "output_type": "stream",
          "text": [
            "1\n",
            "2\n",
            "3\n",
            "4\n",
            "5\n",
            "after 5 minutes, there are  0 planes waiting to land\n",
            "6\n",
            "7\n",
            "8\n",
            "9\n",
            "10\n",
            "after 5 minutes, there are  1 planes waiting to land\n",
            "11\n",
            "12\n",
            "13\n",
            "14\n",
            "15\n",
            "after 5 minutes, there are  2 planes waiting to land\n",
            "16\n",
            "17\n",
            "18\n",
            "19\n",
            "20\n",
            "after 5 minutes, there are  2 planes waiting to land\n",
            "21\n",
            "22\n",
            "23\n",
            "24\n",
            "25\n",
            "after 5 minutes, there are  2 planes waiting to land\n",
            "26\n",
            "27\n",
            "28\n",
            "29\n",
            "30\n",
            "after 5 minutes, there are  2 planes waiting to land\n",
            "31\n",
            "32\n",
            "33\n",
            "34\n",
            "35\n",
            "after 5 minutes, there are  3 planes waiting to land\n",
            "36\n",
            "37\n",
            "38\n",
            "39\n",
            "40\n",
            "after 5 minutes, there are  3 planes waiting to land\n",
            "41\n",
            "42\n",
            "43\n",
            "44\n",
            "45\n",
            "after 5 minutes, there are  3 planes waiting to land\n",
            "46\n",
            "47\n",
            "48\n",
            "49\n",
            "50\n",
            "after 5 minutes, there are  3 planes waiting to land\n",
            "51\n",
            "52\n",
            "53\n",
            "54\n",
            "55\n",
            "after 5 minutes, there are  3 planes waiting to land\n",
            "56\n",
            "57\n",
            "58\n",
            "59\n",
            "60\n",
            "after 5 minutes, there are  3 planes waiting to land\n",
            "61\n",
            "62\n",
            "63\n",
            "64\n",
            "65\n",
            "after 5 minutes, there are  4 planes waiting to land\n",
            "66\n",
            "67\n",
            "68\n",
            "69\n",
            "70\n",
            "after 5 minutes, there are  5 planes waiting to land\n",
            "71\n",
            "72\n",
            "73\n",
            "74\n",
            "75\n",
            "after 5 minutes, there are  5 planes waiting to land\n",
            "76\n",
            "77\n",
            "78\n",
            "79\n",
            "80\n",
            "after 5 minutes, there are  5 planes waiting to land\n",
            "81\n",
            "82\n",
            "83\n",
            "84\n",
            "85\n",
            "after 5 minutes, there are  5 planes waiting to land\n",
            "86\n",
            "87\n",
            "88\n",
            "89\n",
            "90\n",
            "after 5 minutes, there are  5 planes waiting to land\n",
            "91\n",
            "92\n",
            "93\n",
            "94\n",
            "95\n",
            "after 5 minutes, there are  5 planes waiting to land\n",
            "96\n",
            "97\n",
            "98\n",
            "99\n",
            "100\n",
            "after 5 minutes, there are  5 planes waiting to land\n",
            "101\n",
            "102\n",
            "103\n",
            "104\n",
            "105\n",
            "after 5 minutes, there are  5 planes waiting to land\n",
            "106\n",
            "107\n",
            "108\n",
            "109\n",
            "110\n",
            "after 5 minutes, there are  6 planes waiting to land\n",
            "111\n",
            "112\n",
            "113\n",
            "114\n",
            "115\n",
            "after 5 minutes, there are  7 planes waiting to land\n",
            "116\n",
            "117\n",
            "118\n",
            "119\n",
            "120\n",
            "after 5 minutes, there are  7 planes waiting to land\n"
          ],
          "name": "stdout"
        }
      ]
    },
    {
      "cell_type": "code",
      "metadata": {
        "id": "Og2Ffkays1WB"
      },
      "source": [
        "import random\n",
        "airlines = [\"Delta\",\"Southwest\",\"American\",\"Alaska\"]\n",
        "state = random.randrange(3)\n",
        "\n",
        "\n",
        "\n"
      ],
      "execution_count": 126,
      "outputs": []
    },
    {
      "cell_type": "code",
      "metadata": {
        "id": "B-z-Jo8JyzJI",
        "outputId": "8a960c4b-9e38-4bbb-c597-a5fab9da4f54",
        "colab": {
          "base_uri": "https://localhost:8080/",
          "height": 130
        }
      },
      "source": [
        "class Requests:\n",
        "  planes = []\n",
        "\n",
        "\n",
        "\n"
      ],
      "execution_count": 127,
      "outputs": [
        {
          "output_type": "error",
          "ename": "SyntaxError",
          "evalue": "ignored",
          "traceback": [
            "\u001b[0;36m  File \u001b[0;32m\"<ipython-input-127-816dfba64b67>\"\u001b[0;36m, line \u001b[0;32m5\u001b[0m\n\u001b[0;31m    def\u001b[0m\n\u001b[0m        ^\u001b[0m\n\u001b[0;31mSyntaxError\u001b[0m\u001b[0;31m:\u001b[0m invalid syntax\n"
          ]
        }
      ]
    },
    {
      "cell_type": "code",
      "metadata": {
        "id": "kl94H6NCni9X"
      },
      "source": [
        "def create_data(): \n",
        "  start = time.time()\n",
        "  t = time.localtime(start)\n",
        "  second = t.tm_sec\n",
        "\n",
        "\n",
        "  print(start)\n",
        "  print(second)"
      ],
      "execution_count": null,
      "outputs": []
    },
    {
      "cell_type": "code",
      "metadata": {
        "id": "M1kL3GpMzJ0J"
      },
      "source": [
        "state1 = random.randrange(20)\n",
        "# state2 = random.randrange(20)\n",
        "test_plane = AirPlane(state1)\n",
        "test_plane2 = AirPlane(state2)\n",
        "print(test_plane.state)\n",
        "print(test_plane2.state)\n",
        "\n",
        "# print(test_plane.airline)\n",
        "Requests.my_planes.append(test_plane)\n",
        "planes.append(test_plane)\n",
        "for plane in planes:\n",
        "  print(plane.state)\n",
        "print(Requests.my_planes[0].state)"
      ],
      "execution_count": null,
      "outputs": []
    }
  ]
}