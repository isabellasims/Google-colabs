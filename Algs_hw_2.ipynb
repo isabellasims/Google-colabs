{
  "nbformat": 4,
  "nbformat_minor": 0,
  "metadata": {
    "colab": {
      "name": "Algs hw 2",
      "provenance": [],
      "authorship_tag": "ABX9TyPK3Mag8jdhqqOlERxQb3Xt",
      "include_colab_link": true
    },
    "kernelspec": {
      "name": "python3",
      "display_name": "Python 3"
    }
  },
  "cells": [
    {
      "cell_type": "markdown",
      "metadata": {
        "id": "view-in-github",
        "colab_type": "text"
      },
      "source": [
        "<a href=\"https://colab.research.google.com/github/isabellasims/Google-colabs/blob/master/Algs_hw_2.ipynb\" target=\"_parent\"><img src=\"https://colab.research.google.com/assets/colab-badge.svg\" alt=\"Open In Colab\"/></a>"
      ]
    },
    {
      "cell_type": "markdown",
      "metadata": {
        "id": "7N0g_PGcRDp4"
      },
      "source": [
        "In this assignment, you are using Sequential List (Array) to implement the Stack,\n",
        "with Push and Pop operation. \n",
        "\n",
        "You need to write your own Push and Pop operations\n",
        "(and any other operations that you might need).\n",
        "\n",
        "\n",
        "Use your Stack to match balanced parentheses, brackets, and braces. For example,\n",
        "input string ”{ ( [ ] ) [ ( ) ] } should return TRUE, and “( ( [ ] [ ) { } )” should\n",
        "return FALSE.\n",
        "\n",
        "\n",
        "I suggest implementing this by creating a Stack, pushing a (or [or {onto the stack whenever one of those characters is seen, and popping it off when the\n",
        "corresponding closing character is seen. \n",
        "\n",
        "\n",
        "If the wrong character is at the top of the\n",
        "stack, the parentheses do not match, and the program should return false.\n",
        "Test your program with several inputs, to cover balanced and unbalance cases. Use\n",
        "simple as well as complex parenthesized string of (, {, and [ . Use appropriate error\n",
        "messages; stack-full, stack-empty, and so on. Print the string and say if it is\n",
        "balanced or unbalanced. "
      ]
    },
    {
      "cell_type": "code",
      "metadata": {
        "id": "73bINsTuRpKA",
        "outputId": "6900778f-8716-45cb-d190-5e0fc72a7d92",
        "colab": {
          "base_uri": "https://localhost:8080/",
          "height": 121
        }
      },
      "source": [
        "myStack = [] \n",
        "correctString1 = '{ ( [ ] ) [ ( ) ] }'\n",
        "correctString2 = '[({ ( [ ] ) [ ( ) ] })]'\n",
        "correctString3 = '[()]'\n",
        "incorrectString1 = '( ( [ ] [ ) { } )'\n",
        "incorrectString2 = '( ( [ ] [ ) { } )()]'\n",
        "incorrectString3 = '{()'\n",
        "\n",
        "# we need this data to check matches \n",
        "openChars = [\"[\",\"{\",\"(\"] \n",
        "closeChars = [\"]\",\"}\",\")\"]\n",
        "\n",
        "def checkBrackets(someString):\n",
        "  #lastIn = 1\n",
        "  for i in someString:  \n",
        "    if i in openChars: # check to see if element is a closing character or an open character\n",
        "      myStack.append(i) # if it is an opening character push it to the list\n",
        "      lastIn = myStack[len(myStack)-1]\n",
        "    elif i in closeChars:\n",
        "      match = closeChars.index(i) # get the index of the closing character\n",
        "      if (myStack and openChars[match] == lastIn): # check if stack is empty and if the matching opening character to the closing character is encountered is at the top of the stack\n",
        "        myStack.pop() # if we have a match, pop the element\n",
        "        if myStack:\n",
        "          lastIn = myStack[len(myStack)-1] # update the last element if the stack is not empty\n",
        "      else: \n",
        "        return False\n",
        "  if myStack:\n",
        "    return False # if stack is not empty, not all matches were found so the string is not balanced\n",
        "  else:\n",
        "    return True # if at the end the stack is empty this means all matches were found and therefor the string is correct aka balanced\n",
        "\n",
        "print(checkBrackets(correctString1))\n",
        "print(checkBrackets(correctString2))\n",
        "print(checkBrackets(correctString3))\n",
        "print(checkBrackets(incorrectString1))\n",
        "print(checkBrackets(incorrectString2))\n",
        "print(checkBrackets(incorrectString3))"
      ],
      "execution_count": 65,
      "outputs": [
        {
          "output_type": "stream",
          "text": [
            "True\n",
            "True\n",
            "True\n",
            "False\n",
            "False\n",
            "False\n"
          ],
          "name": "stdout"
        }
      ]
    }
  ]
}