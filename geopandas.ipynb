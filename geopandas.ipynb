{
  "nbformat": 4,
  "nbformat_minor": 0,
  "metadata": {
    "colab": {
      "name": "geopandas",
      "provenance": [],
      "authorship_tag": "ABX9TyNs8MtdjjBOOTc8U/40MVVV",
      "include_colab_link": true
    },
    "kernelspec": {
      "name": "python3",
      "display_name": "Python 3"
    }
  },
  "cells": [
    {
      "cell_type": "markdown",
      "metadata": {
        "id": "view-in-github",
        "colab_type": "text"
      },
      "source": [
        "<a href=\"https://colab.research.google.com/github/isabellasims/Google-colabs/blob/master/geopandas.ipynb\" target=\"_parent\"><img src=\"https://colab.research.google.com/assets/colab-badge.svg\" alt=\"Open In Colab\"/></a>"
      ]
    },
    {
      "cell_type": "code",
      "metadata": {
        "id": "lcZdi4qNlCV3",
        "colab_type": "code",
        "colab": {
          "base_uri": "https://localhost:8080/",
          "height": 462
        },
        "outputId": "6174aa13-c5f1-4c70-b9d3-2144dea698f0"
      },
      "source": [
        "import pandas as pd\n",
        "!pip install geopandas\n",
        "import geopandas as gpd #rename as gpd\n",
        "import math"
      ],
      "execution_count": 2,
      "outputs": [
        {
          "output_type": "stream",
          "text": [
            "Collecting geopandas\n",
            "\u001b[?25l  Downloading https://files.pythonhosted.org/packages/f7/a4/e66aafbefcbb717813bf3a355c8c4fc3ed04ea1dd7feb2920f2f4f868921/geopandas-0.8.1-py2.py3-none-any.whl (962kB)\n",
            "\u001b[K     |████████████████████████████████| 972kB 2.7MB/s \n",
            "\u001b[?25hCollecting pyproj>=2.2.0\n",
            "\u001b[?25l  Downloading https://files.pythonhosted.org/packages/e5/c3/071e080230ac4b6c64f1a2e2f9161c9737a2bc7b683d2c90b024825000c0/pyproj-2.6.1.post1-cp36-cp36m-manylinux2010_x86_64.whl (10.9MB)\n",
            "\u001b[K     |████████████████████████████████| 10.9MB 8.0MB/s \n",
            "\u001b[?25hCollecting fiona\n",
            "\u001b[?25l  Downloading https://files.pythonhosted.org/packages/ec/20/4e63bc5c6e62df889297b382c3ccd4a7a488b00946aaaf81a118158c6f09/Fiona-1.8.13.post1-cp36-cp36m-manylinux1_x86_64.whl (14.7MB)\n",
            "\u001b[K     |████████████████████████████████| 14.7MB 279kB/s \n",
            "\u001b[?25hRequirement already satisfied: pandas>=0.23.0 in /usr/local/lib/python3.6/dist-packages (from geopandas) (1.0.5)\n",
            "Requirement already satisfied: shapely in /usr/local/lib/python3.6/dist-packages (from geopandas) (1.7.0)\n",
            "Requirement already satisfied: six>=1.7 in /usr/local/lib/python3.6/dist-packages (from fiona->geopandas) (1.15.0)\n",
            "Requirement already satisfied: click<8,>=4.0 in /usr/local/lib/python3.6/dist-packages (from fiona->geopandas) (7.1.2)\n",
            "Collecting click-plugins>=1.0\n",
            "  Downloading https://files.pythonhosted.org/packages/e9/da/824b92d9942f4e472702488857914bdd50f73021efea15b4cad9aca8ecef/click_plugins-1.1.1-py2.py3-none-any.whl\n",
            "Requirement already satisfied: attrs>=17 in /usr/local/lib/python3.6/dist-packages (from fiona->geopandas) (19.3.0)\n",
            "Collecting munch\n",
            "  Downloading https://files.pythonhosted.org/packages/cc/ab/85d8da5c9a45e072301beb37ad7f833cd344e04c817d97e0cc75681d248f/munch-2.5.0-py2.py3-none-any.whl\n",
            "Collecting cligj>=0.5\n",
            "  Downloading https://files.pythonhosted.org/packages/e4/be/30a58b4b0733850280d01f8bd132591b4668ed5c7046761098d665ac2174/cligj-0.5.0-py3-none-any.whl\n",
            "Requirement already satisfied: python-dateutil>=2.6.1 in /usr/local/lib/python3.6/dist-packages (from pandas>=0.23.0->geopandas) (2.8.1)\n",
            "Requirement already satisfied: numpy>=1.13.3 in /usr/local/lib/python3.6/dist-packages (from pandas>=0.23.0->geopandas) (1.18.5)\n",
            "Requirement already satisfied: pytz>=2017.2 in /usr/local/lib/python3.6/dist-packages (from pandas>=0.23.0->geopandas) (2018.9)\n",
            "Installing collected packages: pyproj, click-plugins, munch, cligj, fiona, geopandas\n",
            "Successfully installed click-plugins-1.1.1 cligj-0.5.0 fiona-1.8.13.post1 geopandas-0.8.1 munch-2.5.0 pyproj-2.6.1.post1\n"
          ],
          "name": "stdout"
        }
      ]
    },
    {
      "cell_type": "code",
      "metadata": {
        "id": "VtKUXX8qoHTI",
        "colab_type": "code",
        "colab": {}
      },
      "source": [
        "import folium\n",
        "from folium import Choropleth, Circle, Marker\n",
        "from folium.plugins import HeatMap, MarkerCluster"
      ],
      "execution_count": 3,
      "outputs": []
    },
    {
      "cell_type": "markdown",
      "metadata": {
        "id": "Ahc_uateohA6",
        "colab_type": "text"
      },
      "source": [
        "Several arguments customize the appearance of the map:\n",
        "\n",
        "location sets the initial center of the map. We use the latitude (42.32° N) and longitude (-71.0589° E) of the city of Boston.\n",
        "tiles changes the styling of the map; in this case, we choose the OpenStreetMap style. If you're curious, you can find the other options listed here.\n",
        "zoom_start sets the initial level of zoom of the map, where higher values zoom in closer to the map.\n",
        "Take the time now to explore by zooming in and out, or by dragging the map in different directions."
      ]
    },
    {
      "cell_type": "code",
      "metadata": {
        "id": "2hBbOa5YoMZ_",
        "colab_type": "code",
        "colab": {
          "base_uri": "https://localhost:8080/",
          "height": 394
        },
        "outputId": "c0069a66-0ce0-4d17-c5a8-7a1b187ba929"
      },
      "source": [
        "# Create a map\n",
        "\n",
        "# location = lat long dc\n",
        "# tiles changes the styling of the map\n",
        "m_1 = folium.Map(location=[38.9072,-77.0369], tiles='openstreetmap', zoom_start=10)\n",
        "\n",
        "\n",
        "# Display the map\n",
        "m_1\n",
        "\n",
        "# https://www.kaggle.com/alexisbcook/interactive-maps"
      ],
      "execution_count": 11,
      "outputs": [
        {
          "output_type": "execute_result",
          "data": {
            "text/html": [
              "<div style=\"width:100%;\"><div style=\"position:relative;width:100%;height:0;padding-bottom:60%;\"><span style=\"color:#565656\">Make this Notebook Trusted to load map: File -> Trust Notebook</span><iframe src=\"about:blank\" style=\"position:absolute;width:100%;height:100%;left:0;top:0;border:none !important;\" data-html=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 onload=\"this.contentDocument.open();this.contentDocument.write(atob(this.getAttribute('data-html')));this.contentDocument.close();\" allowfullscreen webkitallowfullscreen mozallowfullscreen></iframe></div></div>"
            ],
            "text/plain": [
              "<folium.folium.Map at 0x7ffae4568ac8>"
            ]
          },
          "metadata": {
            "tags": []
          },
          "execution_count": 11
        }
      ]
    },
    {
      "cell_type": "code",
      "metadata": {
        "id": "FO4n12cEVxVf",
        "colab_type": "code",
        "colab": {
          "base_uri": "https://localhost:8080/",
          "height": 649
        },
        "outputId": "74a780af-9598-4c63-d269-f83c5ef80aff"
      },
      "source": [
        "# Load the data\n",
        "crimes = pd.read_csv(\"/content/SearchResults.txt\", encoding='latin-1')\n",
        "\n",
        "# Drop rows with missing locations\n",
        "#crimes.dropna(subset=['Lat', 'Long', 'DISTRICT'], inplace=True)\n",
        "\n",
        "# Focus on major crimes in 2018\n",
        "crimes = crimes[crimes.OFFENSE.isin([\n",
        "    'ROBBERY','ASSAULT W/DANGEROUS WEAPON'])]\n",
        "#crimes = crimes[crimes.REPORT_DATE>=2018]\n",
        "\n",
        "# Print the first five rows of the table\n",
        "crimes.head()"
      ],
      "execution_count": 18,
      "outputs": [
        {
          "output_type": "execute_result",
          "data": {
            "text/html": [
              "<div>\n",
              "<style scoped>\n",
              "    .dataframe tbody tr th:only-of-type {\n",
              "        vertical-align: middle;\n",
              "    }\n",
              "\n",
              "    .dataframe tbody tr th {\n",
              "        vertical-align: top;\n",
              "    }\n",
              "\n",
              "    .dataframe thead th {\n",
              "        text-align: right;\n",
              "    }\n",
              "</style>\n",
              "<table border=\"1\" class=\"dataframe\">\n",
              "  <thead>\n",
              "    <tr style=\"text-align: right;\">\n",
              "      <th></th>\n",
              "      <th>REPORT_DAT</th>\n",
              "      <th>OFFENSE</th>\n",
              "      <th>METHOD</th>\n",
              "      <th>BLOCK</th>\n",
              "      <th>DISTRICT</th>\n",
              "      <th>WARD</th>\n",
              "      <th>NEIGHBORHOOD_CLUSTER</th>\n",
              "      <th>BLOCK_GROUP</th>\n",
              "      <th>XBLOCK</th>\n",
              "      <th>YBLOCK</th>\n",
              "      <th>START_DATE</th>\n",
              "    </tr>\n",
              "  </thead>\n",
              "  <tbody>\n",
              "    <tr>\n",
              "      <th>3</th>\n",
              "      <td>6/30/2020 1:03:01 AM</td>\n",
              "      <td>ROBBERY</td>\n",
              "      <td>GUN</td>\n",
              "      <td>2922 - 2999 BLOCK OF 2ND STREET SE</td>\n",
              "      <td>7.0</td>\n",
              "      <td>8</td>\n",
              "      <td>Cluster 39</td>\n",
              "      <td>010400 2</td>\n",
              "      <td>399591.0</td>\n",
              "      <td>130876.0</td>\n",
              "      <td>6/29/2020 11:17:32 PM</td>\n",
              "    </tr>\n",
              "    <tr>\n",
              "      <th>4</th>\n",
              "      <td>6/30/2020 1:10:06 AM</td>\n",
              "      <td>ROBBERY</td>\n",
              "      <td>OTHERS</td>\n",
              "      <td>200 - 289 BLOCK OF TAYLOR STREET NE</td>\n",
              "      <td>4.0</td>\n",
              "      <td>5</td>\n",
              "      <td>Cluster 19</td>\n",
              "      <td>009501 3</td>\n",
              "      <td>399680.0</td>\n",
              "      <td>141427.0</td>\n",
              "      <td>6/29/2020 11:47:39 PM</td>\n",
              "    </tr>\n",
              "    <tr>\n",
              "      <th>10</th>\n",
              "      <td>7/1/2020 1:05:07 AM</td>\n",
              "      <td>ROBBERY</td>\n",
              "      <td>OTHERS</td>\n",
              "      <td>3500 - 3899 BLOCK OF JAY STREET NE</td>\n",
              "      <td>6.0</td>\n",
              "      <td>7</td>\n",
              "      <td>Cluster 30</td>\n",
              "      <td>009602 2</td>\n",
              "      <td>404579.0</td>\n",
              "      <td>137347.0</td>\n",
              "      <td>6/30/2020 2:00:15 AM</td>\n",
              "    </tr>\n",
              "    <tr>\n",
              "      <th>15</th>\n",
              "      <td>6/30/2020 7:35:56 AM</td>\n",
              "      <td>ROBBERY</td>\n",
              "      <td>GUN</td>\n",
              "      <td>3500 - 3703 BLOCK OF WHEELER ROAD SE</td>\n",
              "      <td>7.0</td>\n",
              "      <td>8</td>\n",
              "      <td>Cluster 39</td>\n",
              "      <td>009804 1</td>\n",
              "      <td>400557.0</td>\n",
              "      <td>130171.0</td>\n",
              "      <td>6/30/2020 5:18:24 AM</td>\n",
              "    </tr>\n",
              "    <tr>\n",
              "      <th>17</th>\n",
              "      <td>6/30/2020 7:41:49 AM</td>\n",
              "      <td>ROBBERY</td>\n",
              "      <td>OTHERS</td>\n",
              "      <td>6400  - 6499 BLOCK OF 3RD STREET NW</td>\n",
              "      <td>4.0</td>\n",
              "      <td>4</td>\n",
              "      <td>Cluster 17</td>\n",
              "      <td>001902 2</td>\n",
              "      <td>398598.0</td>\n",
              "      <td>144449.0</td>\n",
              "      <td>6/30/2020 5:46:19 AM</td>\n",
              "    </tr>\n",
              "  </tbody>\n",
              "</table>\n",
              "</div>"
            ],
            "text/plain": [
              "              REPORT_DAT  OFFENSE  ...    YBLOCK             START_DATE\n",
              "3   6/30/2020 1:03:01 AM  ROBBERY  ...  130876.0  6/29/2020 11:17:32 PM\n",
              "4   6/30/2020 1:10:06 AM  ROBBERY  ...  141427.0  6/29/2020 11:47:39 PM\n",
              "10   7/1/2020 1:05:07 AM  ROBBERY  ...  137347.0   6/30/2020 2:00:15 AM\n",
              "15  6/30/2020 7:35:56 AM  ROBBERY  ...  130171.0   6/30/2020 5:18:24 AM\n",
              "17  6/30/2020 7:41:49 AM  ROBBERY  ...  144449.0   6/30/2020 5:46:19 AM\n",
              "\n",
              "[5 rows x 11 columns]"
            ]
          },
          "metadata": {
            "tags": []
          },
          "execution_count": 18
        }
      ]
    }
  ]
}