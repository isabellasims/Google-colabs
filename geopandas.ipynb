{
  "nbformat": 4,
  "nbformat_minor": 0,
  "metadata": {
    "colab": {
      "name": "geopandas",
      "provenance": [],
      "authorship_tag": "ABX9TyNzno9WwjHkkRN4PKdKC4yE",
      "include_colab_link": true
    },
    "kernelspec": {
      "name": "python3",
      "display_name": "Python 3"
    }
  },
  "cells": [
    {
      "cell_type": "markdown",
      "metadata": {
        "id": "view-in-github",
        "colab_type": "text"
      },
      "source": [
        "<a href=\"https://colab.research.google.com/github/isabellasims/Google-colabs/blob/master/geopandas.ipynb\" target=\"_parent\"><img src=\"https://colab.research.google.com/assets/colab-badge.svg\" alt=\"Open In Colab\"/></a>"
      ]
    },
    {
      "cell_type": "code",
      "metadata": {
        "id": "lcZdi4qNlCV3",
        "colab_type": "code",
        "colab": {
          "base_uri": "https://localhost:8080/",
          "height": 275
        },
        "outputId": "b3b643b8-9b41-42c9-b584-08ab9ed05ac5"
      },
      "source": [
        "import pandas as pd\n",
        "!pip install geopandas\n",
        "import geopandas as gpd #rename as gpd\n",
        "import math"
      ],
      "execution_count": null,
      "outputs": [
        {
          "output_type": "stream",
          "text": [
            "Requirement already satisfied: geopandas in /usr/local/lib/python3.6/dist-packages (0.8.1)\n",
            "Requirement already satisfied: shapely in /usr/local/lib/python3.6/dist-packages (from geopandas) (1.7.0)\n",
            "Requirement already satisfied: pyproj>=2.2.0 in /usr/local/lib/python3.6/dist-packages (from geopandas) (2.6.1.post1)\n",
            "Requirement already satisfied: fiona in /usr/local/lib/python3.6/dist-packages (from geopandas) (1.8.13.post1)\n",
            "Requirement already satisfied: pandas>=0.23.0 in /usr/local/lib/python3.6/dist-packages (from geopandas) (1.0.5)\n",
            "Requirement already satisfied: cligj>=0.5 in /usr/local/lib/python3.6/dist-packages (from fiona->geopandas) (0.5.0)\n",
            "Requirement already satisfied: click-plugins>=1.0 in /usr/local/lib/python3.6/dist-packages (from fiona->geopandas) (1.1.1)\n",
            "Requirement already satisfied: six>=1.7 in /usr/local/lib/python3.6/dist-packages (from fiona->geopandas) (1.15.0)\n",
            "Requirement already satisfied: attrs>=17 in /usr/local/lib/python3.6/dist-packages (from fiona->geopandas) (19.3.0)\n",
            "Requirement already satisfied: click<8,>=4.0 in /usr/local/lib/python3.6/dist-packages (from fiona->geopandas) (7.1.2)\n",
            "Requirement already satisfied: munch in /usr/local/lib/python3.6/dist-packages (from fiona->geopandas) (2.5.0)\n",
            "Requirement already satisfied: python-dateutil>=2.6.1 in /usr/local/lib/python3.6/dist-packages (from pandas>=0.23.0->geopandas) (2.8.1)\n",
            "Requirement already satisfied: numpy>=1.13.3 in /usr/local/lib/python3.6/dist-packages (from pandas>=0.23.0->geopandas) (1.18.5)\n",
            "Requirement already satisfied: pytz>=2017.2 in /usr/local/lib/python3.6/dist-packages (from pandas>=0.23.0->geopandas) (2018.9)\n"
          ],
          "name": "stdout"
        }
      ]
    },
    {
      "cell_type": "code",
      "metadata": {
        "id": "VtKUXX8qoHTI",
        "colab_type": "code",
        "colab": {}
      },
      "source": [
        "import folium\n",
        "from folium import Choropleth, Circle, Marker\n",
        "from folium.plugins import HeatMap, MarkerCluster"
      ],
      "execution_count": null,
      "outputs": []
    },
    {
      "cell_type": "markdown",
      "metadata": {
        "id": "Ahc_uateohA6",
        "colab_type": "text"
      },
      "source": [
        "Several arguments customize the appearance of the map:\n",
        "\n",
        "location sets the initial center of the map. We use the latitude (42.32° N) and longitude (-71.0589° E) of the city of Boston.\n",
        "tiles changes the styling of the map; in this case, we choose the OpenStreetMap style. If you're curious, you can find the other options listed here.\n",
        "zoom_start sets the initial level of zoom of the map, where higher values zoom in closer to the map.\n",
        "Take the time now to explore by zooming in and out, or by dragging the map in different directions."
      ]
    },
    {
      "cell_type": "code",
      "metadata": {
        "id": "2hBbOa5YoMZ_",
        "colab_type": "code",
        "colab": {}
      },
      "source": [
        "# Create a map\n",
        "\n",
        "# location = lat long dc\n",
        "# tiles changes the styling of the map\n",
        "m_1 = folium.Map(location=[38.9072,-77.0369], tiles='openstreetmap', zoom_start=10)\n",
        "\n",
        "\n",
        "# Display the map\n",
        "m_1\n",
        "\n",
        "# https://www.kaggle.com/alexisbcook/interactive-maps"
      ],
      "execution_count": null,
      "outputs": []
    },
    {
      "cell_type": "code",
      "metadata": {
        "id": "FO4n12cEVxVf",
        "colab_type": "code",
        "colab": {
          "base_uri": "https://localhost:8080/",
          "height": 649
        },
        "outputId": "6aa0604b-b607-49a1-c904-bde188d2395a"
      },
      "source": [
        "# Load the data\n",
        "# data from http://crimemap.dc.gov/Download.aspx\n",
        "crimes = pd.read_csv(\"/content/SearchResults (2).txt\", encoding='latin-1')\n",
        "\n",
        "# Drop rows with missing locations\n",
        "#crimes.dropna(subset=['Lat', 'Long', 'DISTRICT'], inplace=True)\n",
        "\n",
        "# Focus on major crimes in 2018\n",
        "crimes = crimes[crimes.OFFENSE.isin([\n",
        "    'ROBBERY','ASSAULT W/DANGEROUS WEAPON', 'HOMICIDE','SEX ABUSE'])]\n",
        "#crimes = crimes[crimes.REPORT_DATE>=2018]\n",
        "# address = crimes.BLOCK[]\n",
        "# address.head()\n",
        "\n",
        "# Print the first five rows of the table\n",
        "crimes.head()"
      ],
      "execution_count": null,
      "outputs": [
        {
          "output_type": "execute_result",
          "data": {
            "text/html": [
              "<div>\n",
              "<style scoped>\n",
              "    .dataframe tbody tr th:only-of-type {\n",
              "        vertical-align: middle;\n",
              "    }\n",
              "\n",
              "    .dataframe tbody tr th {\n",
              "        vertical-align: top;\n",
              "    }\n",
              "\n",
              "    .dataframe thead th {\n",
              "        text-align: right;\n",
              "    }\n",
              "</style>\n",
              "<table border=\"1\" class=\"dataframe\">\n",
              "  <thead>\n",
              "    <tr style=\"text-align: right;\">\n",
              "      <th></th>\n",
              "      <th>REPORT_DAT</th>\n",
              "      <th>SHIFT</th>\n",
              "      <th>OFFENSE</th>\n",
              "      <th>METHOD</th>\n",
              "      <th>BLOCK</th>\n",
              "      <th>DISTRICT</th>\n",
              "      <th>PSA</th>\n",
              "      <th>WARD</th>\n",
              "      <th>ANC</th>\n",
              "      <th>NEIGHBORHOOD_CLUSTER</th>\n",
              "      <th>BLOCK_GROUP</th>\n",
              "      <th>CENSUS_TRACT</th>\n",
              "      <th>VOTING_PRECINCT</th>\n",
              "      <th>CCN</th>\n",
              "      <th>XBLOCK</th>\n",
              "      <th>YBLOCK</th>\n",
              "      <th>START_DATE</th>\n",
              "      <th>END_DATE</th>\n",
              "    </tr>\n",
              "  </thead>\n",
              "  <tbody>\n",
              "    <tr>\n",
              "      <th>3</th>\n",
              "      <td>6/30/2020 1:03:01 AM</td>\n",
              "      <td>MIDNIGHT</td>\n",
              "      <td>ROBBERY</td>\n",
              "      <td>GUN</td>\n",
              "      <td>2922 - 2999 BLOCK OF 2ND STREET SE</td>\n",
              "      <td>7.0</td>\n",
              "      <td>707.0</td>\n",
              "      <td>8</td>\n",
              "      <td>8C</td>\n",
              "      <td>Cluster 39</td>\n",
              "      <td>010400 2</td>\n",
              "      <td>10400.0</td>\n",
              "      <td>Precinct 123</td>\n",
              "      <td>20094911</td>\n",
              "      <td>399591.0</td>\n",
              "      <td>130876.0</td>\n",
              "      <td>6/29/2020 11:17:32 PM</td>\n",
              "      <td>6/30/2020 1:02:57 AM</td>\n",
              "    </tr>\n",
              "    <tr>\n",
              "      <th>4</th>\n",
              "      <td>6/30/2020 1:10:06 AM</td>\n",
              "      <td>MIDNIGHT</td>\n",
              "      <td>ROBBERY</td>\n",
              "      <td>OTHERS</td>\n",
              "      <td>200 - 289 BLOCK OF TAYLOR STREET NE</td>\n",
              "      <td>4.0</td>\n",
              "      <td>405.0</td>\n",
              "      <td>5</td>\n",
              "      <td>5A</td>\n",
              "      <td>Cluster 19</td>\n",
              "      <td>009501 3</td>\n",
              "      <td>9501.0</td>\n",
              "      <td>Precinct 44</td>\n",
              "      <td>20094912</td>\n",
              "      <td>399680.0</td>\n",
              "      <td>141427.0</td>\n",
              "      <td>6/29/2020 11:47:39 PM</td>\n",
              "      <td>NaN</td>\n",
              "    </tr>\n",
              "    <tr>\n",
              "      <th>9</th>\n",
              "      <td>6/30/2020 3:13:25 AM</td>\n",
              "      <td>MIDNIGHT</td>\n",
              "      <td>ASSAULT W/DANGEROUS WEAPON</td>\n",
              "      <td>GUN</td>\n",
              "      <td>4100 - 4199 BLOCK OF BENNING ROAD NE</td>\n",
              "      <td>6.0</td>\n",
              "      <td>603.0</td>\n",
              "      <td>7</td>\n",
              "      <td>7F</td>\n",
              "      <td>Cluster 32</td>\n",
              "      <td>009603 1</td>\n",
              "      <td>9603.0</td>\n",
              "      <td>Precinct 102</td>\n",
              "      <td>20094943</td>\n",
              "      <td>404896.0</td>\n",
              "      <td>136155.0</td>\n",
              "      <td>6/30/2020 1:39:14 AM</td>\n",
              "      <td>6/30/2020 2:36:52 AM</td>\n",
              "    </tr>\n",
              "    <tr>\n",
              "      <th>10</th>\n",
              "      <td>7/1/2020 1:05:07 AM</td>\n",
              "      <td>MIDNIGHT</td>\n",
              "      <td>ROBBERY</td>\n",
              "      <td>OTHERS</td>\n",
              "      <td>3500 - 3899 BLOCK OF JAY STREET NE</td>\n",
              "      <td>6.0</td>\n",
              "      <td>601.0</td>\n",
              "      <td>7</td>\n",
              "      <td>7D</td>\n",
              "      <td>Cluster 30</td>\n",
              "      <td>009602 2</td>\n",
              "      <td>9602.0</td>\n",
              "      <td>Precinct 100</td>\n",
              "      <td>20094953</td>\n",
              "      <td>404579.0</td>\n",
              "      <td>137347.0</td>\n",
              "      <td>6/30/2020 2:00:15 AM</td>\n",
              "      <td>6/30/2020 3:30:18 AM</td>\n",
              "    </tr>\n",
              "    <tr>\n",
              "      <th>15</th>\n",
              "      <td>6/30/2020 7:35:56 AM</td>\n",
              "      <td>DAY</td>\n",
              "      <td>ROBBERY</td>\n",
              "      <td>GUN</td>\n",
              "      <td>3500 - 3703 BLOCK OF WHEELER ROAD SE</td>\n",
              "      <td>7.0</td>\n",
              "      <td>705.0</td>\n",
              "      <td>8</td>\n",
              "      <td>8C</td>\n",
              "      <td>Cluster 39</td>\n",
              "      <td>009804 1</td>\n",
              "      <td>9804.0</td>\n",
              "      <td>Precinct 122</td>\n",
              "      <td>20094979</td>\n",
              "      <td>400557.0</td>\n",
              "      <td>130171.0</td>\n",
              "      <td>6/30/2020 5:18:24 AM</td>\n",
              "      <td>6/30/2020 7:10:02 AM</td>\n",
              "    </tr>\n",
              "  </tbody>\n",
              "</table>\n",
              "</div>"
            ],
            "text/plain": [
              "              REPORT_DAT     SHIFT  ...             START_DATE              END_DATE\n",
              "3   6/30/2020 1:03:01 AM  MIDNIGHT  ...  6/29/2020 11:17:32 PM  6/30/2020 1:02:57 AM\n",
              "4   6/30/2020 1:10:06 AM  MIDNIGHT  ...  6/29/2020 11:47:39 PM                   NaN\n",
              "9   6/30/2020 3:13:25 AM  MIDNIGHT  ...   6/30/2020 1:39:14 AM  6/30/2020 2:36:52 AM\n",
              "10   7/1/2020 1:05:07 AM  MIDNIGHT  ...   6/30/2020 2:00:15 AM  6/30/2020 3:30:18 AM\n",
              "15  6/30/2020 7:35:56 AM       DAY  ...   6/30/2020 5:18:24 AM  6/30/2020 7:10:02 AM\n",
              "\n",
              "[5 rows x 18 columns]"
            ]
          },
          "metadata": {
            "tags": []
          },
          "execution_count": 11
        }
      ]
    },
    {
      "cell_type": "code",
      "metadata": {
        "id": "Ocx7fP_WZnWm",
        "colab_type": "code",
        "colab": {
          "base_uri": "https://localhost:8080/",
          "height": 544
        },
        "outputId": "6201d513-9924-4e09-a628-83f3553cc4fa"
      },
      "source": [
        "homicides = crimes[crimes.OFFENSE == 'HOMICIDE']\n",
        "#homicides\n",
        "\n",
        "#homicides['BLOCK'] = homicides['BLOCK'].replace\n",
        "blocks = homicides['BLOCK'][94].split()\n",
        "\n",
        "#blocks\n",
        "for i in homicides['BLOCK']:\n",
        "  i = i.split()\n",
        "  i = i[-3:]\n",
        "  i = \" \".join([str(elem) for elem in i])\n",
        "  i = i + \", WASHINGTON DC \"\n",
        " \n",
        " for \n",
        "\n",
        "\n",
        "\n",
        "\n"
      ],
      "execution_count": 40,
      "outputs": [
        {
          "output_type": "execute_result",
          "data": {
            "text/plain": [
              "94                   3500 - 3599 BLOCK OF STANTON ROAD SE\n",
              "378                    5000 - 5099 BLOCK OF BASS PLACE SE\n",
              "379                    5000 - 5099 BLOCK OF BASS PLACE SE\n",
              "380                    5000 - 5099 BLOCK OF BASS PLACE SE\n",
              "390                      1800 - 1899 BLOCK OF Q STREET SE\n",
              "391                  4000 - 4199 BLOCK OF GRANT STREET NE\n",
              "471                  4100  - 4199 BLOCK OF 14TH STREET NW\n",
              "644                    1100 - 1199 BLOCK OF 46TH PLACE SE\n",
              "646                   1400 - 1517 BLOCK OF 25TH STREET SE\n",
              "677                  1700 - 1799 BLOCK OF BENNING ROAD NE\n",
              "834                    5415 - 5599 BLOCK OF BASS PLACE SE\n",
              "1152                  1926 - 1935 BLOCK OF 18TH STREET SE\n",
              "1188                    700 - 716 BLOCK OF 21ST STREET NE\n",
              "1192           4700  - 4931 BLOCK OF NORTH CAPITOL STREET\n",
              "1195         1100 - 1199 BLOCK OF NEW HAMPSHIRE AVENUE NW\n",
              "1204                    430 - 499 BLOCK OF 33RD STREET SE\n",
              "1212                   1  - 199 BLOCK OF WALNUT STREET NW\n",
              "1315                2200 - 2399 BLOCK OF NEWTON STREET NE\n",
              "1362          2200 - 2305 BLOCK OF PENNSYLVANIA AVENUE SE\n",
              "1421                 2600 - 2699 BLOCK OF BIRNEY PLACE SE\n",
              "1441                 1424 - 1455 BLOCK OF CEDAR STREET SE\n",
              "1446          1500 - 1599 BLOCK OF PENNSYLVANIA AVENUE SE\n",
              "1636                    830 - 899 BLOCK OF 19TH STREET NE\n",
              "1765                     3900 - 3999 BLOCK OF S STREET SE\n",
              "1777                  3300 - 3348 BLOCK OF 15TH STREET SE\n",
              "1882    2400 - 2499 BLOCK OF MARTIN LUTHER KING JR AVE...\n",
              "1953                  1900 - 1927 BLOCK OF 16TH STREET SE\n",
              "2046             3844 - 3899 BLOCK OF MINNESOTA AVENUE NE\n",
              "2074                  3600 - 3699 BLOCK OF 14TH STREET NW\n",
              "2097              800 - 899 BLOCK OF CHESAPEAKE STREET SE\n",
              "Name: BLOCK, dtype: object"
            ]
          },
          "metadata": {
            "tags": []
          },
          "execution_count": 40
        }
      ]
    },
    {
      "cell_type": "code",
      "metadata": {
        "id": "au2vuRUVanJE",
        "colab_type": "code",
        "colab": {}
      },
      "source": [
        "# Create a map\n",
        "m_2 = folium.Map(location=[38.9072,-77.0369], tiles='cartodbpositron', zoom_start=13)\n",
        "\n",
        "# Add points to the map\n",
        "for idx, row in crimes.iterrows():\n",
        "    Marker([row['XBLOCK'], row['YBLOCK']]).add_to(m_2)\n",
        "\n",
        "# Display the map\n",
        "m_2"
      ],
      "execution_count": null,
      "outputs": []
    },
    {
      "cell_type": "code",
      "metadata": {
        "id": "hvddW_GoiAbU",
        "colab_type": "code",
        "colab": {
          "base_uri": "https://localhost:8080/",
          "height": 54
        },
        "outputId": "687d2b54-d0ce-4706-c900-44114f23de48"
      },
      "source": [
        "from geopy.geocoders import Nominatim\n",
        "geolocator = Nominatim(timeout=10, user_agent = \"dlab.berkeley.edu-workshop\")\n",
        "\n",
        "location = geolocator.geocode('BENNING ROAD NE, Washington DC')\n",
        "location"
      ],
      "execution_count": null,
      "outputs": [
        {
          "output_type": "execute_result",
          "data": {
            "text/plain": [
              "Location(Benning Road Northeast, Kingman Park, Washington, District of Columbia, 20002, United States of America, (38.8986652, -76.9755027, 0.0))"
            ]
          },
          "metadata": {
            "tags": []
          },
          "execution_count": 16
        }
      ]
    }
  ]
}