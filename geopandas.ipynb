{
  "nbformat": 4,
  "nbformat_minor": 0,
  "metadata": {
    "colab": {
      "name": "geopandas",
      "provenance": [],
      "authorship_tag": "ABX9TyNtOU9mTPcy2gumPXlSi6F/",
      "include_colab_link": true
    },
    "kernelspec": {
      "name": "python3",
      "display_name": "Python 3"
    }
  },
  "cells": [
    {
      "cell_type": "markdown",
      "metadata": {
        "id": "view-in-github",
        "colab_type": "text"
      },
      "source": [
        "<a href=\"https://colab.research.google.com/github/isabellasims/Google-colabs/blob/master/geopandas.ipynb\" target=\"_parent\"><img src=\"https://colab.research.google.com/assets/colab-badge.svg\" alt=\"Open In Colab\"/></a>"
      ]
    },
    {
      "cell_type": "code",
      "metadata": {
        "id": "lcZdi4qNlCV3",
        "colab_type": "code",
        "colab": {}
      },
      "source": [
        "import pandas as pd\n",
        "!pip install geopandas\n",
        "import geopandas as gpd #rename as gpd\n",
        "import math"
      ],
      "execution_count": null,
      "outputs": []
    },
    {
      "cell_type": "code",
      "metadata": {
        "id": "VtKUXX8qoHTI",
        "colab_type": "code",
        "colab": {}
      },
      "source": [
        "import folium # docs: https://python-visualization.github.io/folium/quickstart.html#Getting-Started\n",
        "from folium import Choropleth, Circle, Marker\n",
        "from folium.plugins import HeatMap, MarkerCluster"
      ],
      "execution_count": null,
      "outputs": []
    },
    {
      "cell_type": "code",
      "metadata": {
        "id": "3QC9gdi7kufu",
        "colab_type": "code",
        "colab": {}
      },
      "source": [
        "from geopy.geocoders import Nominatim\n",
        "geolocator = Nominatim(timeout=10, user_agent = \"dlab.berkeley.edu-workshop\")"
      ],
      "execution_count": null,
      "outputs": []
    },
    {
      "cell_type": "code",
      "metadata": {
        "id": "G5kfghxoelHu",
        "colab_type": "code",
        "colab": {
          "base_uri": "https://localhost:8080/",
          "height": 34
        },
        "outputId": "cf642755-86dd-4ef2-efbe-efcdf3f92359"
      },
      "source": [
        "# Load the data\n",
        "# data from http://crimemap.dc.gov/Download.aspx\n",
        "crimes = pd.read_csv(\"/content/SearchResults (2).txt\", encoding='latin-1')\n",
        "\n",
        "\n",
        "\n",
        "# get address in order to geocode lat long coords for markers\n",
        "crimes['STREET'] = crimes['BLOCK'].str.split('OF').str[1] + ', WASHINGTON DC'\n",
        "\n",
        "\n",
        "# Grab relevant columns\n",
        "columnsTitles = ['REPORT_DAT', 'OFFENSE', 'METHOD','STREET','LAT','LONG','LOC','WARD','DISTRICT','SHIFT','NEIGHBORHOOD_CLUSTER','VOTING_PRECINCT']\n",
        "\n",
        "crimes = crimes.reindex(columns=columnsTitles)\n",
        "#crimes['LAT'] = geolocator.geocode(crimes['STREET']).latitude\n",
        "\n",
        "\n",
        "location = geolocator.geocode(crimes['STREET'][1]).latitude\n",
        "# location.latitude\n",
        "# location.longitude\n",
        "location\n",
        "\n",
        "\n"
      ],
      "execution_count": null,
      "outputs": [
        {
          "output_type": "execute_result",
          "data": {
            "text/plain": [
              "38.9117275"
            ]
          },
          "metadata": {
            "tags": []
          },
          "execution_count": 135
        }
      ]
    },
    {
      "cell_type": "code",
      "metadata": {
        "id": "Ocx7fP_WZnWm",
        "colab_type": "code",
        "colab": {
          "base_uri": "https://localhost:8080/",
          "height": 343
        },
        "outputId": "1e982b32-91fd-4613-970e-4ed3f6ff6156"
      },
      "source": [
        "homicides = crimes[crimes.OFFENSE == 'HOMICIDE'] # create homicide df\n",
        "\n",
        "# add geocoded location, lat, and long points to df\n",
        "def addLoc(street):\n",
        "    return geolocator.geocode(street)\n",
        "\n",
        "def addLat(loc):\n",
        "    return geolocator.geocode(loc).latitude\n",
        "\n",
        "def addLong(loc):\n",
        "  return geolocator.geocode(loc).longitude\n",
        "\n",
        "homicides['LOC'] = homicides['STREET'].apply(addLoc)\n",
        "homicides['LAT'] = homicides['LOC'].apply(addLat)\n",
        "homicides['LONG'] = homicides['LOC'].apply(addLong)\n"
      ],
      "execution_count": 156,
      "outputs": [
        {
          "output_type": "stream",
          "text": [
            "/usr/local/lib/python3.6/dist-packages/ipykernel_launcher.py:13: SettingWithCopyWarning: \n",
            "A value is trying to be set on a copy of a slice from a DataFrame.\n",
            "Try using .loc[row_indexer,col_indexer] = value instead\n",
            "\n",
            "See the caveats in the documentation: https://pandas.pydata.org/pandas-docs/stable/user_guide/indexing.html#returning-a-view-versus-a-copy\n",
            "  del sys.path[0]\n",
            "/usr/local/lib/python3.6/dist-packages/ipykernel_launcher.py:14: SettingWithCopyWarning: \n",
            "A value is trying to be set on a copy of a slice from a DataFrame.\n",
            "Try using .loc[row_indexer,col_indexer] = value instead\n",
            "\n",
            "See the caveats in the documentation: https://pandas.pydata.org/pandas-docs/stable/user_guide/indexing.html#returning-a-view-versus-a-copy\n",
            "  \n",
            "/usr/local/lib/python3.6/dist-packages/ipykernel_launcher.py:15: SettingWithCopyWarning: \n",
            "A value is trying to be set on a copy of a slice from a DataFrame.\n",
            "Try using .loc[row_indexer,col_indexer] = value instead\n",
            "\n",
            "See the caveats in the documentation: https://pandas.pydata.org/pandas-docs/stable/user_guide/indexing.html#returning-a-view-versus-a-copy\n",
            "  from ipykernel import kernelapp as app\n"
          ],
          "name": "stderr"
        }
      ]
    },
    {
      "cell_type": "code",
      "metadata": {
        "id": "NY7VF3Z_9zrd",
        "colab_type": "code",
        "colab": {}
      },
      "source": [
        "homicides.head()"
      ],
      "execution_count": null,
      "outputs": []
    },
    {
      "cell_type": "code",
      "metadata": {
        "id": "au2vuRUVanJE",
        "colab_type": "code",
        "colab": {}
      },
      "source": [
        "# Create a map\n",
        "m_2 = folium.Map(location=[38.9072,-77.0369], tiles='cartodbpositron', zoom_start=13)\n",
        "\n",
        "# Add points to the map\n",
        "for idx, row in homicides.iterrows():\n",
        "    Marker([row['LAT'], row['LONG']]).add_to(m_2)\n",
        "\n",
        "# Display the map\n",
        "m_2"
      ],
      "execution_count": null,
      "outputs": []
    },
    {
      "cell_type": "code",
      "metadata": {
        "id": "JnRS3agq9Qup",
        "colab_type": "code",
        "colab": {
          "base_uri": "https://localhost:8080/",
          "height": 573
        },
        "outputId": "af8c5dc4-2226-4542-ccdd-b312eaec45e3"
      },
      "source": [
        "m_3 = folium.Map(location=[38.9072,-77.0369], tiles='cartodbpositron', zoom_start=13)\n",
        "\n",
        "nightTimeHomicides = homicides[homicides.SHIFT == 'MIDNIGHT']\n",
        "\n",
        "\n",
        "# Add points to the map\n",
        "mc = MarkerCluster()\n",
        "for idx, row in nightTimeHomicides.iterrows():\n",
        "    if not math.isnan(row['LONG']) and not math.isnan(row['LAT']):\n",
        "        mc.add_child(Marker([row['LAT'], row['LONG']]))\n",
        "m_3.add_child(mc)\n",
        "\n",
        "# Display the map\n",
        "m_3"
      ],
      "execution_count": 160,
      "outputs": [
        {
          "output_type": "execute_result",
          "data": {
            "text/html": [
              "<div style=\"width:100%;\"><div style=\"position:relative;width:100%;height:0;padding-bottom:60%;\"><span style=\"color:#565656\">Make this Notebook Trusted to load map: File -> Trust Notebook</span><iframe src=\"about:blank\" style=\"position:absolute;width:100%;height:100%;left:0;top:0;border:none !important;\" data-html=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 onload=\"this.contentDocument.open();this.contentDocument.write(atob(this.getAttribute('data-html')));this.contentDocument.close();\" allowfullscreen webkitallowfullscreen mozallowfullscreen></iframe></div></div>"
            ],
            "text/plain": [
              "<folium.folium.Map at 0x7fdeaec1b828>"
            ]
          },
          "metadata": {
            "tags": []
          },
          "execution_count": 160
        }
      ]
    }
  ]
}