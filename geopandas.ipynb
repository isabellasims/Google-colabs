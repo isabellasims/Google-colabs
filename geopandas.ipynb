{
  "nbformat": 4,
  "nbformat_minor": 0,
  "metadata": {
    "colab": {
      "name": "geopandas",
      "provenance": [],
      "authorship_tag": "ABX9TyMVlMQEeZpMtlfN6g/h5cwc",
      "include_colab_link": true
    },
    "kernelspec": {
      "name": "python3",
      "display_name": "Python 3"
    }
  },
  "cells": [
    {
      "cell_type": "markdown",
      "metadata": {
        "id": "view-in-github",
        "colab_type": "text"
      },
      "source": [
        "<a href=\"https://colab.research.google.com/github/isabellasims/Google-colabs/blob/master/geopandas.ipynb\" target=\"_parent\"><img src=\"https://colab.research.google.com/assets/colab-badge.svg\" alt=\"Open In Colab\"/></a>"
      ]
    },
    {
      "cell_type": "code",
      "metadata": {
        "id": "lcZdi4qNlCV3",
        "colab_type": "code",
        "colab": {
          "base_uri": "https://localhost:8080/",
          "height": 275
        },
        "outputId": "f301af9f-2734-4e1b-a23b-41a4c61c14e7"
      },
      "source": [
        "import pandas as pd\n",
        "!pip install geopandas\n",
        "import geopandas as gpd #rename as gpd\n",
        "import math"
      ],
      "execution_count": 101,
      "outputs": [
        {
          "output_type": "stream",
          "text": [
            "Requirement already satisfied: geopandas in /usr/local/lib/python3.6/dist-packages (0.8.1)\n",
            "Requirement already satisfied: fiona in /usr/local/lib/python3.6/dist-packages (from geopandas) (1.8.13.post1)\n",
            "Requirement already satisfied: pandas>=0.23.0 in /usr/local/lib/python3.6/dist-packages (from geopandas) (1.0.5)\n",
            "Requirement already satisfied: shapely in /usr/local/lib/python3.6/dist-packages (from geopandas) (1.7.0)\n",
            "Requirement already satisfied: pyproj>=2.2.0 in /usr/local/lib/python3.6/dist-packages (from geopandas) (2.6.1.post1)\n",
            "Requirement already satisfied: attrs>=17 in /usr/local/lib/python3.6/dist-packages (from fiona->geopandas) (19.3.0)\n",
            "Requirement already satisfied: click<8,>=4.0 in /usr/local/lib/python3.6/dist-packages (from fiona->geopandas) (7.1.2)\n",
            "Requirement already satisfied: munch in /usr/local/lib/python3.6/dist-packages (from fiona->geopandas) (2.5.0)\n",
            "Requirement already satisfied: click-plugins>=1.0 in /usr/local/lib/python3.6/dist-packages (from fiona->geopandas) (1.1.1)\n",
            "Requirement already satisfied: six>=1.7 in /usr/local/lib/python3.6/dist-packages (from fiona->geopandas) (1.15.0)\n",
            "Requirement already satisfied: cligj>=0.5 in /usr/local/lib/python3.6/dist-packages (from fiona->geopandas) (0.5.0)\n",
            "Requirement already satisfied: python-dateutil>=2.6.1 in /usr/local/lib/python3.6/dist-packages (from pandas>=0.23.0->geopandas) (2.8.1)\n",
            "Requirement already satisfied: numpy>=1.13.3 in /usr/local/lib/python3.6/dist-packages (from pandas>=0.23.0->geopandas) (1.18.5)\n",
            "Requirement already satisfied: pytz>=2017.2 in /usr/local/lib/python3.6/dist-packages (from pandas>=0.23.0->geopandas) (2018.9)\n"
          ],
          "name": "stdout"
        }
      ]
    },
    {
      "cell_type": "code",
      "metadata": {
        "id": "VtKUXX8qoHTI",
        "colab_type": "code",
        "colab": {}
      },
      "source": [
        "import folium\n",
        "from folium import Choropleth, Circle, Marker\n",
        "from folium.plugins import HeatMap, MarkerCluster"
      ],
      "execution_count": 102,
      "outputs": []
    },
    {
      "cell_type": "code",
      "metadata": {
        "id": "3QC9gdi7kufu",
        "colab_type": "code",
        "colab": {}
      },
      "source": [
        "from geopy.geocoders import Nominatim\n",
        "geolocator = Nominatim(timeout=10, user_agent = \"dlab.berkeley.edu-workshop\")"
      ],
      "execution_count": 103,
      "outputs": []
    },
    {
      "cell_type": "code",
      "metadata": {
        "id": "G5kfghxoelHu",
        "colab_type": "code",
        "colab": {
          "base_uri": "https://localhost:8080/",
          "height": 34
        },
        "outputId": "cf642755-86dd-4ef2-efbe-efcdf3f92359"
      },
      "source": [
        "# Load the data\n",
        "# data from http://crimemap.dc.gov/Download.aspx\n",
        "crimes = pd.read_csv(\"/content/SearchResults (2).txt\", encoding='latin-1')\n",
        "\n",
        "\n",
        "\n",
        "# get address in order to geocode lat long coords for markers\n",
        "crimes['STREET'] = crimes['BLOCK'].str.split('OF').str[1] + ', WASHINGTON DC'\n",
        "\n",
        "\n",
        "# Grab relevant columns\n",
        "columnsTitles = ['REPORT_DAT', 'OFFENSE', 'METHOD','STREET','LAT','LONG','LOC','WARD','DISTRICT','SHIFT','NEIGHBORHOOD_CLUSTER','VOTING_PRECINCT']\n",
        "\n",
        "crimes = crimes.reindex(columns=columnsTitles)\n",
        "#crimes['LAT'] = geolocator.geocode(crimes['STREET']).latitude\n",
        "\n",
        "\n",
        "location = geolocator.geocode(crimes['STREET'][1]).latitude\n",
        "# location.latitude\n",
        "# location.longitude\n",
        "location\n",
        "\n",
        "\n"
      ],
      "execution_count": 135,
      "outputs": [
        {
          "output_type": "execute_result",
          "data": {
            "text/plain": [
              "38.9117275"
            ]
          },
          "metadata": {
            "tags": []
          },
          "execution_count": 135
        }
      ]
    },
    {
      "cell_type": "code",
      "metadata": {
        "id": "Ocx7fP_WZnWm",
        "colab_type": "code",
        "colab": {
          "base_uri": "https://localhost:8080/",
          "height": 887
        },
        "outputId": "06978263-e2fc-414b-c617-f2950bfd33b2"
      },
      "source": [
        "homicides = crimes[crimes.OFFENSE == 'HOMICIDE']\n",
        "\n",
        "def convert(street):\n",
        "    return geolocator.geocode(street)\n",
        "\n",
        "def addLat(loc):\n",
        "    return geolocator.geocode(loc).latitude\n",
        "\n",
        "def addLong(loc):\n",
        "  return geolocator.geocode(loc).longitude\n",
        "\n",
        "\n",
        "\n",
        "homicides['LOC'] = homicides['STREET'].apply(convert)\n",
        "homicides['LAT'] = homicides['LOC'].apply(addLat)\n",
        "homicides['LONG'] = homicides['LOC'].apply(addLong)\n",
        "\n",
        "homicides.head()"
      ],
      "execution_count": 139,
      "outputs": [
        {
          "output_type": "stream",
          "text": [
            "/usr/local/lib/python3.6/dist-packages/ipykernel_launcher.py:14: SettingWithCopyWarning: \n",
            "A value is trying to be set on a copy of a slice from a DataFrame.\n",
            "Try using .loc[row_indexer,col_indexer] = value instead\n",
            "\n",
            "See the caveats in the documentation: https://pandas.pydata.org/pandas-docs/stable/user_guide/indexing.html#returning-a-view-versus-a-copy\n",
            "  \n",
            "/usr/local/lib/python3.6/dist-packages/ipykernel_launcher.py:15: SettingWithCopyWarning: \n",
            "A value is trying to be set on a copy of a slice from a DataFrame.\n",
            "Try using .loc[row_indexer,col_indexer] = value instead\n",
            "\n",
            "See the caveats in the documentation: https://pandas.pydata.org/pandas-docs/stable/user_guide/indexing.html#returning-a-view-versus-a-copy\n",
            "  from ipykernel import kernelapp as app\n",
            "/usr/local/lib/python3.6/dist-packages/ipykernel_launcher.py:16: SettingWithCopyWarning: \n",
            "A value is trying to be set on a copy of a slice from a DataFrame.\n",
            "Try using .loc[row_indexer,col_indexer] = value instead\n",
            "\n",
            "See the caveats in the documentation: https://pandas.pydata.org/pandas-docs/stable/user_guide/indexing.html#returning-a-view-versus-a-copy\n",
            "  app.launch_new_instance()\n"
          ],
          "name": "stderr"
        },
        {
          "output_type": "execute_result",
          "data": {
            "text/html": [
              "<div>\n",
              "<style scoped>\n",
              "    .dataframe tbody tr th:only-of-type {\n",
              "        vertical-align: middle;\n",
              "    }\n",
              "\n",
              "    .dataframe tbody tr th {\n",
              "        vertical-align: top;\n",
              "    }\n",
              "\n",
              "    .dataframe thead th {\n",
              "        text-align: right;\n",
              "    }\n",
              "</style>\n",
              "<table border=\"1\" class=\"dataframe\">\n",
              "  <thead>\n",
              "    <tr style=\"text-align: right;\">\n",
              "      <th></th>\n",
              "      <th>REPORT_DAT</th>\n",
              "      <th>OFFENSE</th>\n",
              "      <th>METHOD</th>\n",
              "      <th>STREET</th>\n",
              "      <th>LAT</th>\n",
              "      <th>LONG</th>\n",
              "      <th>LOC</th>\n",
              "      <th>WARD</th>\n",
              "      <th>DISTRICT</th>\n",
              "      <th>SHIFT</th>\n",
              "      <th>NEIGHBORHOOD_CLUSTER</th>\n",
              "      <th>VOTING_PRECINCT</th>\n",
              "    </tr>\n",
              "  </thead>\n",
              "  <tbody>\n",
              "    <tr>\n",
              "      <th>94</th>\n",
              "      <td>7/19/2020 12:00:00 AM</td>\n",
              "      <td>HOMICIDE</td>\n",
              "      <td>GUN</td>\n",
              "      <td>STANTON ROAD SE, WASHINGTON DC</td>\n",
              "      <td>38.852142</td>\n",
              "      <td>-76.981949</td>\n",
              "      <td>(Stanton Road Southeast, Washington, District ...</td>\n",
              "      <td>8</td>\n",
              "      <td>7.0</td>\n",
              "      <td>MIDNIGHT</td>\n",
              "      <td>Cluster 38</td>\n",
              "      <td>Precinct 116</td>\n",
              "    </tr>\n",
              "    <tr>\n",
              "      <th>378</th>\n",
              "      <td>7/7/2020 12:00:00 AM</td>\n",
              "      <td>HOMICIDE</td>\n",
              "      <td>GUN</td>\n",
              "      <td>BASS PLACE SE, WASHINGTON DC</td>\n",
              "      <td>38.886855</td>\n",
              "      <td>-76.934416</td>\n",
              "      <td>(Bass Place Southeast, Marshall Heights, Washi...</td>\n",
              "      <td>7</td>\n",
              "      <td>6.0</td>\n",
              "      <td>MIDNIGHT</td>\n",
              "      <td>Cluster 33</td>\n",
              "      <td>Precinct 104</td>\n",
              "    </tr>\n",
              "    <tr>\n",
              "      <th>379</th>\n",
              "      <td>7/7/2020 12:00:00 AM</td>\n",
              "      <td>HOMICIDE</td>\n",
              "      <td>GUN</td>\n",
              "      <td>BASS PLACE SE, WASHINGTON DC</td>\n",
              "      <td>38.886855</td>\n",
              "      <td>-76.934416</td>\n",
              "      <td>(Bass Place Southeast, Marshall Heights, Washi...</td>\n",
              "      <td>7</td>\n",
              "      <td>6.0</td>\n",
              "      <td>MIDNIGHT</td>\n",
              "      <td>Cluster 33</td>\n",
              "      <td>Precinct 104</td>\n",
              "    </tr>\n",
              "    <tr>\n",
              "      <th>380</th>\n",
              "      <td>7/7/2020 12:00:00 AM</td>\n",
              "      <td>HOMICIDE</td>\n",
              "      <td>GUN</td>\n",
              "      <td>BASS PLACE SE, WASHINGTON DC</td>\n",
              "      <td>38.886855</td>\n",
              "      <td>-76.934416</td>\n",
              "      <td>(Bass Place Southeast, Marshall Heights, Washi...</td>\n",
              "      <td>7</td>\n",
              "      <td>6.0</td>\n",
              "      <td>MIDNIGHT</td>\n",
              "      <td>Cluster 33</td>\n",
              "      <td>Precinct 104</td>\n",
              "    </tr>\n",
              "    <tr>\n",
              "      <th>390</th>\n",
              "      <td>7/1/2020 12:00:00 AM</td>\n",
              "      <td>HOMICIDE</td>\n",
              "      <td>GUN</td>\n",
              "      <td>Q STREET SE, WASHINGTON DC</td>\n",
              "      <td>38.871149</td>\n",
              "      <td>-76.962590</td>\n",
              "      <td>(Q Street Southeast, Dupont Park, Washington, ...</td>\n",
              "      <td>8</td>\n",
              "      <td>6.0</td>\n",
              "      <td>MIDNIGHT</td>\n",
              "      <td>Cluster 34</td>\n",
              "      <td>Precinct 140</td>\n",
              "    </tr>\n",
              "  </tbody>\n",
              "</table>\n",
              "</div>"
            ],
            "text/plain": [
              "                REPORT_DAT   OFFENSE  ... NEIGHBORHOOD_CLUSTER VOTING_PRECINCT\n",
              "94   7/19/2020 12:00:00 AM  HOMICIDE  ...           Cluster 38    Precinct 116\n",
              "378   7/7/2020 12:00:00 AM  HOMICIDE  ...           Cluster 33    Precinct 104\n",
              "379   7/7/2020 12:00:00 AM  HOMICIDE  ...           Cluster 33    Precinct 104\n",
              "380   7/7/2020 12:00:00 AM  HOMICIDE  ...           Cluster 33    Precinct 104\n",
              "390   7/1/2020 12:00:00 AM  HOMICIDE  ...           Cluster 34    Precinct 140\n",
              "\n",
              "[5 rows x 12 columns]"
            ]
          },
          "metadata": {
            "tags": []
          },
          "execution_count": 139
        }
      ]
    },
    {
      "cell_type": "code",
      "metadata": {
        "id": "FO4n12cEVxVf",
        "colab_type": "code",
        "colab": {}
      },
      "source": [
        "# Focus on major crimes \n",
        "crimes = crimes[crimes.OFFENSE.isin([\n",
        "    'ROBBERY','ASSAULT W/DANGEROUS WEAPON', 'HOMICIDE','SEX ABUSE'])]\n",
        "#crimes = crimes[crimes.REPORT_DATE>=2018]\n",
        "# address = crimes.BLOCK[]\n",
        "# address.head()\n",
        "\n",
        "# Print the first five rows of the table\n",
        "\n",
        "def convert(street):\n",
        "    return geolocator.geocode(street)\n",
        "    \n",
        "crimes['LAT'] = crimes['STREET'].apply(convert)\n",
        "print(len(crimes))"
      ],
      "execution_count": null,
      "outputs": []
    },
    {
      "cell_type": "code",
      "metadata": {
        "id": "au2vuRUVanJE",
        "colab_type": "code",
        "colab": {}
      },
      "source": [
        "# Create a map\n",
        "m_2 = folium.Map(location=[38.9072,-77.0369], tiles='cartodbpositron', zoom_start=13)\n",
        "\n",
        "# Add points to the map\n",
        "for idx, row in crimes.iterrows():\n",
        "    Marker([row['XBLOCK'], row['YBLOCK']]).add_to(m_2)\n",
        "\n",
        "# Display the map\n",
        "m_2"
      ],
      "execution_count": null,
      "outputs": []
    },
    {
      "cell_type": "code",
      "metadata": {
        "id": "hvddW_GoiAbU",
        "colab_type": "code",
        "colab": {
          "base_uri": "https://localhost:8080/",
          "height": 34
        },
        "outputId": "1fbaa178-1347-4b78-aa53-1abd792cfb51"
      },
      "source": [
        "from geopy.geocoders import Nominatim\n",
        "geolocator = Nominatim(timeout=10, user_agent = \"dlab.berkeley.edu-workshop\")\n",
        "\n",
        "location = geolocator.geocode('BENNING ROAD NE, Washington DC').latitude\n",
        "location"
      ],
      "execution_count": 122,
      "outputs": [
        {
          "output_type": "execute_result",
          "data": {
            "text/plain": [
              "38.8986652"
            ]
          },
          "metadata": {
            "tags": []
          },
          "execution_count": 122
        }
      ]
    }
  ]
}