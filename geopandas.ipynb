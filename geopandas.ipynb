{
  "nbformat": 4,
  "nbformat_minor": 0,
  "metadata": {
    "colab": {
      "name": "geopandas",
      "provenance": [],
      "authorship_tag": "ABX9TyNR0c6s52kE46MvzeLa5oo+",
      "include_colab_link": true
    },
    "kernelspec": {
      "name": "python3",
      "display_name": "Python 3"
    }
  },
  "cells": [
    {
      "cell_type": "markdown",
      "metadata": {
        "id": "view-in-github",
        "colab_type": "text"
      },
      "source": [
        "<a href=\"https://colab.research.google.com/github/isabellasims/Google-colabs/blob/master/geopandas.ipynb\" target=\"_parent\"><img src=\"https://colab.research.google.com/assets/colab-badge.svg\" alt=\"Open In Colab\"/></a>"
      ]
    },
    {
      "cell_type": "code",
      "metadata": {
        "id": "lcZdi4qNlCV3",
        "colab_type": "code",
        "colab": {
          "base_uri": "https://localhost:8080/",
          "height": 275
        },
        "outputId": "b3b643b8-9b41-42c9-b584-08ab9ed05ac5"
      },
      "source": [
        "import pandas as pd\n",
        "!pip install geopandas\n",
        "import geopandas as gpd #rename as gpd\n",
        "import math"
      ],
      "execution_count": null,
      "outputs": [
        {
          "output_type": "stream",
          "text": [
            "Requirement already satisfied: geopandas in /usr/local/lib/python3.6/dist-packages (0.8.1)\n",
            "Requirement already satisfied: shapely in /usr/local/lib/python3.6/dist-packages (from geopandas) (1.7.0)\n",
            "Requirement already satisfied: pyproj>=2.2.0 in /usr/local/lib/python3.6/dist-packages (from geopandas) (2.6.1.post1)\n",
            "Requirement already satisfied: fiona in /usr/local/lib/python3.6/dist-packages (from geopandas) (1.8.13.post1)\n",
            "Requirement already satisfied: pandas>=0.23.0 in /usr/local/lib/python3.6/dist-packages (from geopandas) (1.0.5)\n",
            "Requirement already satisfied: cligj>=0.5 in /usr/local/lib/python3.6/dist-packages (from fiona->geopandas) (0.5.0)\n",
            "Requirement already satisfied: click-plugins>=1.0 in /usr/local/lib/python3.6/dist-packages (from fiona->geopandas) (1.1.1)\n",
            "Requirement already satisfied: six>=1.7 in /usr/local/lib/python3.6/dist-packages (from fiona->geopandas) (1.15.0)\n",
            "Requirement already satisfied: attrs>=17 in /usr/local/lib/python3.6/dist-packages (from fiona->geopandas) (19.3.0)\n",
            "Requirement already satisfied: click<8,>=4.0 in /usr/local/lib/python3.6/dist-packages (from fiona->geopandas) (7.1.2)\n",
            "Requirement already satisfied: munch in /usr/local/lib/python3.6/dist-packages (from fiona->geopandas) (2.5.0)\n",
            "Requirement already satisfied: python-dateutil>=2.6.1 in /usr/local/lib/python3.6/dist-packages (from pandas>=0.23.0->geopandas) (2.8.1)\n",
            "Requirement already satisfied: numpy>=1.13.3 in /usr/local/lib/python3.6/dist-packages (from pandas>=0.23.0->geopandas) (1.18.5)\n",
            "Requirement already satisfied: pytz>=2017.2 in /usr/local/lib/python3.6/dist-packages (from pandas>=0.23.0->geopandas) (2018.9)\n"
          ],
          "name": "stdout"
        }
      ]
    },
    {
      "cell_type": "code",
      "metadata": {
        "id": "VtKUXX8qoHTI",
        "colab_type": "code",
        "colab": {}
      },
      "source": [
        "import folium\n",
        "from folium import Choropleth, Circle, Marker\n",
        "from folium.plugins import HeatMap, MarkerCluster"
      ],
      "execution_count": null,
      "outputs": []
    },
    {
      "cell_type": "code",
      "metadata": {
        "id": "3QC9gdi7kufu",
        "colab_type": "code",
        "colab": {}
      },
      "source": [
        "from geopy.geocoders import Nominatim\n",
        "geolocator = Nominatim(timeout=10, user_agent = \"dlab.berkeley.edu-workshop\")"
      ],
      "execution_count": 71,
      "outputs": []
    },
    {
      "cell_type": "code",
      "metadata": {
        "id": "G5kfghxoelHu",
        "colab_type": "code",
        "colab": {
          "base_uri": "https://localhost:8080/",
          "height": 34
        },
        "outputId": "5d3e2c2d-7d91-4003-dbe4-ee52345c64dc"
      },
      "source": [
        "# Load the data\n",
        "# data from http://crimemap.dc.gov/Download.aspx\n",
        "crimes = pd.read_csv(\"/content/SearchResults (2).txt\", encoding='latin-1')\n",
        "\n",
        "\n",
        "\n",
        "# get address in order to geocode lat long coords for markers\n",
        "crimes['STREET'] = crimes['BLOCK'].str.split('OF').str[1] + ', WASHINGTON DC'\n",
        "\n",
        "\n",
        "# Grab relevant columns\n",
        "columnsTitles = ['REPORT_DAT', 'OFFENSE', 'METHOD','STREET','WARD','DISTRICT','SHIFT','NEIGHBORHOOD_CLUSTER','VOTING_PRECINCT']\n",
        "\n",
        "crimes = crimes.reindex(columns=columnsTitles)\n",
        "crimes.head()\n",
        "\n",
        "location = geolocator.geocode('BENNING ROAD NE, Washington DC')\n",
        "location.latitude\n",
        "location.longitude\n",
        "\n"
      ],
      "execution_count": 82,
      "outputs": [
        {
          "output_type": "execute_result",
          "data": {
            "text/plain": [
              "38.8986652"
            ]
          },
          "metadata": {
            "tags": []
          },
          "execution_count": 82
        }
      ]
    },
    {
      "cell_type": "code",
      "metadata": {
        "id": "Ocx7fP_WZnWm",
        "colab_type": "code",
        "colab": {
          "base_uri": "https://localhost:8080/",
          "height": 561
        },
        "outputId": "d57b0157-c2d5-4ed7-d551-4e9575a509dc"
      },
      "source": [
        "homicides = crimes[crimes.OFFENSE == 'HOMICIDE']\n",
        "#homicides\n",
        "\n",
        "#homicides['BLOCK'] = homicides['BLOCK'].replace\n",
        "blocks = homicides['BLOCK'][94].split()\n",
        "\n",
        "#blocks\n",
        "for i in homicides['BLOCK']:\n",
        "  i = i.split()\n",
        "  i = i[-3:]\n",
        "  i = \" \".join([str(elem) for elem in i])\n",
        "  i = i + \", WASHINGTON DC \"\n",
        "  print(i)\n",
        "  \n",
        " \n",
        "#for i in range(homicides['BLOCK'].length)\n",
        "print(len(crimes['BLOCK']))\n",
        "\n",
        "# for i in range(len(crimes['BLOCK'])):\n",
        "#   print(crimes['BLOCK'][i+1])\n",
        "print(crimes['BLOCK'][3])\n",
        "\n",
        "#homicides['BLOCK']\n",
        "\n",
        "\n",
        "\n"
      ],
      "execution_count": 64,
      "outputs": [
        {
          "output_type": "stream",
          "text": [
            "STANTON ROAD SE, WASHINGTON DC \n",
            "BASS PLACE SE, WASHINGTON DC \n",
            "BASS PLACE SE, WASHINGTON DC \n",
            "BASS PLACE SE, WASHINGTON DC \n",
            "Q STREET SE, WASHINGTON DC \n",
            "GRANT STREET NE, WASHINGTON DC \n",
            "14TH STREET NW, WASHINGTON DC \n",
            "46TH PLACE SE, WASHINGTON DC \n",
            "25TH STREET SE, WASHINGTON DC \n",
            "BENNING ROAD NE, WASHINGTON DC \n",
            "BASS PLACE SE, WASHINGTON DC \n",
            "18TH STREET SE, WASHINGTON DC \n",
            "21ST STREET NE, WASHINGTON DC \n",
            "NORTH CAPITOL STREET, WASHINGTON DC \n",
            "HAMPSHIRE AVENUE NW, WASHINGTON DC \n",
            "33RD STREET SE, WASHINGTON DC \n",
            "WALNUT STREET NW, WASHINGTON DC \n",
            "NEWTON STREET NE, WASHINGTON DC \n",
            "PENNSYLVANIA AVENUE SE, WASHINGTON DC \n",
            "BIRNEY PLACE SE, WASHINGTON DC \n",
            "CEDAR STREET SE, WASHINGTON DC \n",
            "PENNSYLVANIA AVENUE SE, WASHINGTON DC \n",
            "19TH STREET NE, WASHINGTON DC \n",
            "S STREET SE, WASHINGTON DC \n",
            "15TH STREET SE, WASHINGTON DC \n",
            "JR AVENUE SE, WASHINGTON DC \n",
            "16TH STREET SE, WASHINGTON DC \n",
            "MINNESOTA AVENUE NE, WASHINGTON DC \n",
            "14TH STREET NW, WASHINGTON DC \n",
            "CHESAPEAKE STREET SE, WASHINGTON DC \n",
            "2103\n",
            "2922 - 2999 BLOCK OF 2ND STREET SE\n"
          ],
          "name": "stdout"
        }
      ]
    },
    {
      "cell_type": "code",
      "metadata": {
        "id": "FO4n12cEVxVf",
        "colab_type": "code",
        "colab": {
          "base_uri": "https://localhost:8080/",
          "height": 649
        },
        "outputId": "6aa0604b-b607-49a1-c904-bde188d2395a"
      },
      "source": [
        "# Load the data\n",
        "# data from http://crimemap.dc.gov/Download.aspx\n",
        "crimes = pd.read_csv(\"/content/SearchResults (2).txt\", encoding='latin-1')\n",
        "\n",
        "# Drop rows with missing locations\n",
        "#crimes.dropna(subset=['Lat', 'Long', 'DISTRICT'], inplace=True)\n",
        "\n",
        "# Focus on major crimes in 2018\n",
        "crimes = crimes[crimes.OFFENSE.isin([\n",
        "    'ROBBERY','ASSAULT W/DANGEROUS WEAPON', 'HOMICIDE','SEX ABUSE'])]\n",
        "#crimes = crimes[crimes.REPORT_DATE>=2018]\n",
        "# address = crimes.BLOCK[]\n",
        "# address.head()\n",
        "\n",
        "# Print the first five rows of the table\n",
        "crimes.head()"
      ],
      "execution_count": null,
      "outputs": [
        {
          "output_type": "execute_result",
          "data": {
            "text/html": [
              "<div>\n",
              "<style scoped>\n",
              "    .dataframe tbody tr th:only-of-type {\n",
              "        vertical-align: middle;\n",
              "    }\n",
              "\n",
              "    .dataframe tbody tr th {\n",
              "        vertical-align: top;\n",
              "    }\n",
              "\n",
              "    .dataframe thead th {\n",
              "        text-align: right;\n",
              "    }\n",
              "</style>\n",
              "<table border=\"1\" class=\"dataframe\">\n",
              "  <thead>\n",
              "    <tr style=\"text-align: right;\">\n",
              "      <th></th>\n",
              "      <th>REPORT_DAT</th>\n",
              "      <th>SHIFT</th>\n",
              "      <th>OFFENSE</th>\n",
              "      <th>METHOD</th>\n",
              "      <th>BLOCK</th>\n",
              "      <th>DISTRICT</th>\n",
              "      <th>PSA</th>\n",
              "      <th>WARD</th>\n",
              "      <th>ANC</th>\n",
              "      <th>NEIGHBORHOOD_CLUSTER</th>\n",
              "      <th>BLOCK_GROUP</th>\n",
              "      <th>CENSUS_TRACT</th>\n",
              "      <th>VOTING_PRECINCT</th>\n",
              "      <th>CCN</th>\n",
              "      <th>XBLOCK</th>\n",
              "      <th>YBLOCK</th>\n",
              "      <th>START_DATE</th>\n",
              "      <th>END_DATE</th>\n",
              "    </tr>\n",
              "  </thead>\n",
              "  <tbody>\n",
              "    <tr>\n",
              "      <th>3</th>\n",
              "      <td>6/30/2020 1:03:01 AM</td>\n",
              "      <td>MIDNIGHT</td>\n",
              "      <td>ROBBERY</td>\n",
              "      <td>GUN</td>\n",
              "      <td>2922 - 2999 BLOCK OF 2ND STREET SE</td>\n",
              "      <td>7.0</td>\n",
              "      <td>707.0</td>\n",
              "      <td>8</td>\n",
              "      <td>8C</td>\n",
              "      <td>Cluster 39</td>\n",
              "      <td>010400 2</td>\n",
              "      <td>10400.0</td>\n",
              "      <td>Precinct 123</td>\n",
              "      <td>20094911</td>\n",
              "      <td>399591.0</td>\n",
              "      <td>130876.0</td>\n",
              "      <td>6/29/2020 11:17:32 PM</td>\n",
              "      <td>6/30/2020 1:02:57 AM</td>\n",
              "    </tr>\n",
              "    <tr>\n",
              "      <th>4</th>\n",
              "      <td>6/30/2020 1:10:06 AM</td>\n",
              "      <td>MIDNIGHT</td>\n",
              "      <td>ROBBERY</td>\n",
              "      <td>OTHERS</td>\n",
              "      <td>200 - 289 BLOCK OF TAYLOR STREET NE</td>\n",
              "      <td>4.0</td>\n",
              "      <td>405.0</td>\n",
              "      <td>5</td>\n",
              "      <td>5A</td>\n",
              "      <td>Cluster 19</td>\n",
              "      <td>009501 3</td>\n",
              "      <td>9501.0</td>\n",
              "      <td>Precinct 44</td>\n",
              "      <td>20094912</td>\n",
              "      <td>399680.0</td>\n",
              "      <td>141427.0</td>\n",
              "      <td>6/29/2020 11:47:39 PM</td>\n",
              "      <td>NaN</td>\n",
              "    </tr>\n",
              "    <tr>\n",
              "      <th>9</th>\n",
              "      <td>6/30/2020 3:13:25 AM</td>\n",
              "      <td>MIDNIGHT</td>\n",
              "      <td>ASSAULT W/DANGEROUS WEAPON</td>\n",
              "      <td>GUN</td>\n",
              "      <td>4100 - 4199 BLOCK OF BENNING ROAD NE</td>\n",
              "      <td>6.0</td>\n",
              "      <td>603.0</td>\n",
              "      <td>7</td>\n",
              "      <td>7F</td>\n",
              "      <td>Cluster 32</td>\n",
              "      <td>009603 1</td>\n",
              "      <td>9603.0</td>\n",
              "      <td>Precinct 102</td>\n",
              "      <td>20094943</td>\n",
              "      <td>404896.0</td>\n",
              "      <td>136155.0</td>\n",
              "      <td>6/30/2020 1:39:14 AM</td>\n",
              "      <td>6/30/2020 2:36:52 AM</td>\n",
              "    </tr>\n",
              "    <tr>\n",
              "      <th>10</th>\n",
              "      <td>7/1/2020 1:05:07 AM</td>\n",
              "      <td>MIDNIGHT</td>\n",
              "      <td>ROBBERY</td>\n",
              "      <td>OTHERS</td>\n",
              "      <td>3500 - 3899 BLOCK OF JAY STREET NE</td>\n",
              "      <td>6.0</td>\n",
              "      <td>601.0</td>\n",
              "      <td>7</td>\n",
              "      <td>7D</td>\n",
              "      <td>Cluster 30</td>\n",
              "      <td>009602 2</td>\n",
              "      <td>9602.0</td>\n",
              "      <td>Precinct 100</td>\n",
              "      <td>20094953</td>\n",
              "      <td>404579.0</td>\n",
              "      <td>137347.0</td>\n",
              "      <td>6/30/2020 2:00:15 AM</td>\n",
              "      <td>6/30/2020 3:30:18 AM</td>\n",
              "    </tr>\n",
              "    <tr>\n",
              "      <th>15</th>\n",
              "      <td>6/30/2020 7:35:56 AM</td>\n",
              "      <td>DAY</td>\n",
              "      <td>ROBBERY</td>\n",
              "      <td>GUN</td>\n",
              "      <td>3500 - 3703 BLOCK OF WHEELER ROAD SE</td>\n",
              "      <td>7.0</td>\n",
              "      <td>705.0</td>\n",
              "      <td>8</td>\n",
              "      <td>8C</td>\n",
              "      <td>Cluster 39</td>\n",
              "      <td>009804 1</td>\n",
              "      <td>9804.0</td>\n",
              "      <td>Precinct 122</td>\n",
              "      <td>20094979</td>\n",
              "      <td>400557.0</td>\n",
              "      <td>130171.0</td>\n",
              "      <td>6/30/2020 5:18:24 AM</td>\n",
              "      <td>6/30/2020 7:10:02 AM</td>\n",
              "    </tr>\n",
              "  </tbody>\n",
              "</table>\n",
              "</div>"
            ],
            "text/plain": [
              "              REPORT_DAT     SHIFT  ...             START_DATE              END_DATE\n",
              "3   6/30/2020 1:03:01 AM  MIDNIGHT  ...  6/29/2020 11:17:32 PM  6/30/2020 1:02:57 AM\n",
              "4   6/30/2020 1:10:06 AM  MIDNIGHT  ...  6/29/2020 11:47:39 PM                   NaN\n",
              "9   6/30/2020 3:13:25 AM  MIDNIGHT  ...   6/30/2020 1:39:14 AM  6/30/2020 2:36:52 AM\n",
              "10   7/1/2020 1:05:07 AM  MIDNIGHT  ...   6/30/2020 2:00:15 AM  6/30/2020 3:30:18 AM\n",
              "15  6/30/2020 7:35:56 AM       DAY  ...   6/30/2020 5:18:24 AM  6/30/2020 7:10:02 AM\n",
              "\n",
              "[5 rows x 18 columns]"
            ]
          },
          "metadata": {
            "tags": []
          },
          "execution_count": 11
        }
      ]
    },
    {
      "cell_type": "code",
      "metadata": {
        "id": "au2vuRUVanJE",
        "colab_type": "code",
        "colab": {}
      },
      "source": [
        "# Create a map\n",
        "m_2 = folium.Map(location=[38.9072,-77.0369], tiles='cartodbpositron', zoom_start=13)\n",
        "\n",
        "# Add points to the map\n",
        "for idx, row in crimes.iterrows():\n",
        "    Marker([row['XBLOCK'], row['YBLOCK']]).add_to(m_2)\n",
        "\n",
        "# Display the map\n",
        "m_2"
      ],
      "execution_count": null,
      "outputs": []
    },
    {
      "cell_type": "code",
      "metadata": {
        "id": "hvddW_GoiAbU",
        "colab_type": "code",
        "colab": {
          "base_uri": "https://localhost:8080/",
          "height": 54
        },
        "outputId": "687d2b54-d0ce-4706-c900-44114f23de48"
      },
      "source": [
        "from geopy.geocoders import Nominatim\n",
        "geolocator = Nominatim(timeout=10, user_agent = \"dlab.berkeley.edu-workshop\")\n",
        "\n",
        "location = geolocator.geocode('BENNING ROAD NE, Washington DC')\n",
        "location"
      ],
      "execution_count": null,
      "outputs": [
        {
          "output_type": "execute_result",
          "data": {
            "text/plain": [
              "Location(Benning Road Northeast, Kingman Park, Washington, District of Columbia, 20002, United States of America, (38.8986652, -76.9755027, 0.0))"
            ]
          },
          "metadata": {
            "tags": []
          },
          "execution_count": 16
        }
      ]
    }
  ]
}