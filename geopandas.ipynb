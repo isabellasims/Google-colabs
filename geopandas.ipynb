{
  "nbformat": 4,
  "nbformat_minor": 0,
  "metadata": {
    "colab": {
      "name": "geopandas",
      "provenance": [],
      "authorship_tag": "ABX9TyMpdbjqqD/axmRl28Fi2rhU",
      "include_colab_link": true
    },
    "kernelspec": {
      "name": "python3",
      "display_name": "Python 3"
    }
  },
  "cells": [
    {
      "cell_type": "markdown",
      "metadata": {
        "id": "view-in-github",
        "colab_type": "text"
      },
      "source": [
        "<a href=\"https://colab.research.google.com/github/isabellasims/Google-colabs/blob/master/geopandas.ipynb\" target=\"_parent\"><img src=\"https://colab.research.google.com/assets/colab-badge.svg\" alt=\"Open In Colab\"/></a>"
      ]
    },
    {
      "cell_type": "code",
      "metadata": {
        "id": "lcZdi4qNlCV3",
        "colab_type": "code",
        "colab": {}
      },
      "source": [
        "import pandas as pd\n",
        "!pip install geopandas\n",
        "import geopandas as gpd #rename as gpd\n",
        "import math"
      ],
      "execution_count": null,
      "outputs": []
    },
    {
      "cell_type": "code",
      "metadata": {
        "id": "VtKUXX8qoHTI",
        "colab_type": "code",
        "colab": {}
      },
      "source": [
        "import folium\n",
        "from folium import Choropleth, Circle, Marker\n",
        "from folium.plugins import HeatMap, MarkerCluster"
      ],
      "execution_count": 3,
      "outputs": []
    },
    {
      "cell_type": "markdown",
      "metadata": {
        "id": "Ahc_uateohA6",
        "colab_type": "text"
      },
      "source": [
        "Several arguments customize the appearance of the map:\n",
        "\n",
        "location sets the initial center of the map. We use the latitude (42.32° N) and longitude (-71.0589° E) of the city of Boston.\n",
        "tiles changes the styling of the map; in this case, we choose the OpenStreetMap style. If you're curious, you can find the other options listed here.\n",
        "zoom_start sets the initial level of zoom of the map, where higher values zoom in closer to the map.\n",
        "Take the time now to explore by zooming in and out, or by dragging the map in different directions."
      ]
    },
    {
      "cell_type": "code",
      "metadata": {
        "id": "2hBbOa5YoMZ_",
        "colab_type": "code",
        "colab": {}
      },
      "source": [
        "# Create a map\n",
        "\n",
        "# location = lat long dc\n",
        "# tiles changes the styling of the map\n",
        "m_1 = folium.Map(location=[38.9072,-77.0369], tiles='openstreetmap', zoom_start=10)\n",
        "\n",
        "\n",
        "# Display the map\n",
        "m_1\n",
        "\n",
        "# https://www.kaggle.com/alexisbcook/interactive-maps"
      ],
      "execution_count": null,
      "outputs": []
    },
    {
      "cell_type": "code",
      "metadata": {
        "id": "FO4n12cEVxVf",
        "colab_type": "code",
        "colab": {
          "base_uri": "https://localhost:8080/",
          "height": 462
        },
        "outputId": "5a3f3365-2436-4e56-8dd0-bc28dd3cc5de"
      },
      "source": [
        "# Load the data\n",
        "# data from http://crimemap.dc.gov/Download.aspx\n",
        "crimes = pd.read_csv(\"/content/SearchResults.txt\", encoding='latin-1')\n",
        "\n",
        "# Drop rows with missing locations\n",
        "#crimes.dropna(subset=['Lat', 'Long', 'DISTRICT'], inplace=True)\n",
        "\n",
        "# Focus on major crimes in 2018\n",
        "crimes = crimes[crimes.OFFENSE.isin([\n",
        "    'ROBBERY','ASSAULT W/DANGEROUS WEAPON', 'HOMICIDE','SEX ABUSE'])]\n",
        "#crimes = crimes[crimes.REPORT_DATE>=2018]\n",
        "# address = crimes.BLOCK[]\n",
        "# address.head()\n",
        "\n",
        "# Print the first five rows of the table\n",
        "crimes.head()"
      ],
      "execution_count": 49,
      "outputs": [
        {
          "output_type": "execute_result",
          "data": {
            "text/html": [
              "<div>\n",
              "<style scoped>\n",
              "    .dataframe tbody tr th:only-of-type {\n",
              "        vertical-align: middle;\n",
              "    }\n",
              "\n",
              "    .dataframe tbody tr th {\n",
              "        vertical-align: top;\n",
              "    }\n",
              "\n",
              "    .dataframe thead th {\n",
              "        text-align: right;\n",
              "    }\n",
              "</style>\n",
              "<table border=\"1\" class=\"dataframe\">\n",
              "  <thead>\n",
              "    <tr style=\"text-align: right;\">\n",
              "      <th></th>\n",
              "      <th>REPORT_DAT</th>\n",
              "      <th>OFFENSE</th>\n",
              "      <th>METHOD</th>\n",
              "      <th>BLOCK</th>\n",
              "      <th>DISTRICT</th>\n",
              "      <th>WARD</th>\n",
              "      <th>NEIGHBORHOOD_CLUSTER</th>\n",
              "      <th>BLOCK_GROUP</th>\n",
              "      <th>XBLOCK</th>\n",
              "      <th>YBLOCK</th>\n",
              "      <th>START_DATE</th>\n",
              "    </tr>\n",
              "  </thead>\n",
              "  <tbody>\n",
              "    <tr>\n",
              "      <th>3</th>\n",
              "      <td>6/30/2020 1:03:01 AM</td>\n",
              "      <td>ROBBERY</td>\n",
              "      <td>GUN</td>\n",
              "      <td>2922 - 2999 BLOCK OF 2ND STREET SE</td>\n",
              "      <td>7.0</td>\n",
              "      <td>8</td>\n",
              "      <td>Cluster 39</td>\n",
              "      <td>010400 2</td>\n",
              "      <td>399591.0</td>\n",
              "      <td>130876.0</td>\n",
              "      <td>6/29/2020 11:17:32 PM</td>\n",
              "    </tr>\n",
              "    <tr>\n",
              "      <th>4</th>\n",
              "      <td>6/30/2020 1:10:06 AM</td>\n",
              "      <td>ROBBERY</td>\n",
              "      <td>OTHERS</td>\n",
              "      <td>200 - 289 BLOCK OF TAYLOR STREET NE</td>\n",
              "      <td>4.0</td>\n",
              "      <td>5</td>\n",
              "      <td>Cluster 19</td>\n",
              "      <td>009501 3</td>\n",
              "      <td>399680.0</td>\n",
              "      <td>141427.0</td>\n",
              "      <td>6/29/2020 11:47:39 PM</td>\n",
              "    </tr>\n",
              "    <tr>\n",
              "      <th>9</th>\n",
              "      <td>6/30/2020 3:13:25 AM</td>\n",
              "      <td>ASSAULT W/DANGEROUS WEAPON</td>\n",
              "      <td>GUN</td>\n",
              "      <td>4100 - 4199 BLOCK OF BENNING ROAD NE</td>\n",
              "      <td>6.0</td>\n",
              "      <td>7</td>\n",
              "      <td>Cluster 32</td>\n",
              "      <td>009603 1</td>\n",
              "      <td>404896.0</td>\n",
              "      <td>136155.0</td>\n",
              "      <td>6/30/2020 1:39:14 AM</td>\n",
              "    </tr>\n",
              "    <tr>\n",
              "      <th>10</th>\n",
              "      <td>7/1/2020 1:05:07 AM</td>\n",
              "      <td>ROBBERY</td>\n",
              "      <td>OTHERS</td>\n",
              "      <td>3500 - 3899 BLOCK OF JAY STREET NE</td>\n",
              "      <td>6.0</td>\n",
              "      <td>7</td>\n",
              "      <td>Cluster 30</td>\n",
              "      <td>009602 2</td>\n",
              "      <td>404579.0</td>\n",
              "      <td>137347.0</td>\n",
              "      <td>6/30/2020 2:00:15 AM</td>\n",
              "    </tr>\n",
              "    <tr>\n",
              "      <th>15</th>\n",
              "      <td>6/30/2020 7:35:56 AM</td>\n",
              "      <td>ROBBERY</td>\n",
              "      <td>GUN</td>\n",
              "      <td>3500 - 3703 BLOCK OF WHEELER ROAD SE</td>\n",
              "      <td>7.0</td>\n",
              "      <td>8</td>\n",
              "      <td>Cluster 39</td>\n",
              "      <td>009804 1</td>\n",
              "      <td>400557.0</td>\n",
              "      <td>130171.0</td>\n",
              "      <td>6/30/2020 5:18:24 AM</td>\n",
              "    </tr>\n",
              "  </tbody>\n",
              "</table>\n",
              "</div>"
            ],
            "text/plain": [
              "              REPORT_DAT  ...             START_DATE\n",
              "3   6/30/2020 1:03:01 AM  ...  6/29/2020 11:17:32 PM\n",
              "4   6/30/2020 1:10:06 AM  ...  6/29/2020 11:47:39 PM\n",
              "9   6/30/2020 3:13:25 AM  ...   6/30/2020 1:39:14 AM\n",
              "10   7/1/2020 1:05:07 AM  ...   6/30/2020 2:00:15 AM\n",
              "15  6/30/2020 7:35:56 AM  ...   6/30/2020 5:18:24 AM\n",
              "\n",
              "[5 rows x 11 columns]"
            ]
          },
          "metadata": {
            "tags": []
          },
          "execution_count": 49
        }
      ]
    },
    {
      "cell_type": "code",
      "metadata": {
        "id": "Ocx7fP_WZnWm",
        "colab_type": "code",
        "colab": {
          "base_uri": "https://localhost:8080/",
          "height": 49
        },
        "outputId": "99b20f8a-a8b9-4b9f-e336-6124bf7a1021"
      },
      "source": [
        "homicides = crimes[crimes.OFFENSE == 'HOMICIDE']\n",
        "homicides"
      ],
      "execution_count": 27,
      "outputs": [
        {
          "output_type": "execute_result",
          "data": {
            "text/html": [
              "<div>\n",
              "<style scoped>\n",
              "    .dataframe tbody tr th:only-of-type {\n",
              "        vertical-align: middle;\n",
              "    }\n",
              "\n",
              "    .dataframe tbody tr th {\n",
              "        vertical-align: top;\n",
              "    }\n",
              "\n",
              "    .dataframe thead th {\n",
              "        text-align: right;\n",
              "    }\n",
              "</style>\n",
              "<table border=\"1\" class=\"dataframe\">\n",
              "  <thead>\n",
              "    <tr style=\"text-align: right;\">\n",
              "      <th></th>\n",
              "      <th>REPORT_DAT</th>\n",
              "      <th>OFFENSE</th>\n",
              "      <th>METHOD</th>\n",
              "      <th>BLOCK</th>\n",
              "      <th>DISTRICT</th>\n",
              "      <th>WARD</th>\n",
              "      <th>NEIGHBORHOOD_CLUSTER</th>\n",
              "      <th>BLOCK_GROUP</th>\n",
              "      <th>XBLOCK</th>\n",
              "      <th>YBLOCK</th>\n",
              "      <th>START_DATE</th>\n",
              "    </tr>\n",
              "  </thead>\n",
              "  <tbody>\n",
              "  </tbody>\n",
              "</table>\n",
              "</div>"
            ],
            "text/plain": [
              "Empty DataFrame\n",
              "Columns: [REPORT_DAT, OFFENSE, METHOD, BLOCK, DISTRICT, WARD, NEIGHBORHOOD_CLUSTER, BLOCK_GROUP, XBLOCK, YBLOCK, START_DATE]\n",
              "Index: []"
            ]
          },
          "metadata": {
            "tags": []
          },
          "execution_count": 27
        }
      ]
    },
    {
      "cell_type": "code",
      "metadata": {
        "id": "au2vuRUVanJE",
        "colab_type": "code",
        "colab": {}
      },
      "source": [
        "# Create a map\n",
        "m_2 = folium.Map(location=[38.9072,-77.0369], tiles='cartodbpositron', zoom_start=13)\n",
        "\n",
        "# Add points to the map\n",
        "for idx, row in crimes.iterrows():\n",
        "    Marker([row['XBLOCK'], row['YBLOCK']]).add_to(m_2)\n",
        "\n",
        "# Display the map\n",
        "m_2"
      ],
      "execution_count": null,
      "outputs": []
    },
    {
      "cell_type": "code",
      "metadata": {
        "id": "hvddW_GoiAbU",
        "colab_type": "code",
        "colab": {
          "base_uri": "https://localhost:8080/",
          "height": 34
        },
        "outputId": "d95bfc46-34d8-42bf-afbe-d79fd4ff0271"
      },
      "source": [
        "from geopy.geocoders import Nominatim\n",
        "geolocator = Nominatim(timeout=10, user_agent = \"dlab.berkeley.edu-workshop\")\n",
        "\n",
        "location = geolocator.geocode('Ward 8 Washington DC')\n",
        "location"
      ],
      "execution_count": 45,
      "outputs": [
        {
          "output_type": "execute_result",
          "data": {
            "text/plain": [
              "Location(DC, Dương Bá Trạc, Phường 2, Quận 8, Thành phố Hồ Chí Minh, Long Điền, 710400, Việt Nam, (10.7456759, 106.6892684, 0.0))"
            ]
          },
          "metadata": {
            "tags": []
          },
          "execution_count": 45
        }
      ]
    }
  ]
}