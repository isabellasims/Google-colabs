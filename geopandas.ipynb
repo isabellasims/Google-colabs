{
  "nbformat": 4,
  "nbformat_minor": 0,
  "metadata": {
    "colab": {
      "name": "geopandas",
      "provenance": [],
      "authorship_tag": "ABX9TyPud2ZP+cB6C3GXiI5R50X7",
      "include_colab_link": true
    },
    "kernelspec": {
      "name": "python3",
      "display_name": "Python 3"
    }
  },
  "cells": [
    {
      "cell_type": "markdown",
      "metadata": {
        "id": "view-in-github",
        "colab_type": "text"
      },
      "source": [
        "<a href=\"https://colab.research.google.com/github/isabellasims/Google-colabs/blob/master/geopandas.ipynb\" target=\"_parent\"><img src=\"https://colab.research.google.com/assets/colab-badge.svg\" alt=\"Open In Colab\"/></a>"
      ]
    },
    {
      "cell_type": "code",
      "metadata": {
        "id": "lcZdi4qNlCV3",
        "colab_type": "code",
        "colab": {
          "base_uri": "https://localhost:8080/",
          "height": 275
        },
        "outputId": "f301af9f-2734-4e1b-a23b-41a4c61c14e7"
      },
      "source": [
        "import pandas as pd\n",
        "!pip install geopandas\n",
        "import geopandas as gpd #rename as gpd\n",
        "import math"
      ],
      "execution_count": 101,
      "outputs": [
        {
          "output_type": "stream",
          "text": [
            "Requirement already satisfied: geopandas in /usr/local/lib/python3.6/dist-packages (0.8.1)\n",
            "Requirement already satisfied: fiona in /usr/local/lib/python3.6/dist-packages (from geopandas) (1.8.13.post1)\n",
            "Requirement already satisfied: pandas>=0.23.0 in /usr/local/lib/python3.6/dist-packages (from geopandas) (1.0.5)\n",
            "Requirement already satisfied: shapely in /usr/local/lib/python3.6/dist-packages (from geopandas) (1.7.0)\n",
            "Requirement already satisfied: pyproj>=2.2.0 in /usr/local/lib/python3.6/dist-packages (from geopandas) (2.6.1.post1)\n",
            "Requirement already satisfied: attrs>=17 in /usr/local/lib/python3.6/dist-packages (from fiona->geopandas) (19.3.0)\n",
            "Requirement already satisfied: click<8,>=4.0 in /usr/local/lib/python3.6/dist-packages (from fiona->geopandas) (7.1.2)\n",
            "Requirement already satisfied: munch in /usr/local/lib/python3.6/dist-packages (from fiona->geopandas) (2.5.0)\n",
            "Requirement already satisfied: click-plugins>=1.0 in /usr/local/lib/python3.6/dist-packages (from fiona->geopandas) (1.1.1)\n",
            "Requirement already satisfied: six>=1.7 in /usr/local/lib/python3.6/dist-packages (from fiona->geopandas) (1.15.0)\n",
            "Requirement already satisfied: cligj>=0.5 in /usr/local/lib/python3.6/dist-packages (from fiona->geopandas) (0.5.0)\n",
            "Requirement already satisfied: python-dateutil>=2.6.1 in /usr/local/lib/python3.6/dist-packages (from pandas>=0.23.0->geopandas) (2.8.1)\n",
            "Requirement already satisfied: numpy>=1.13.3 in /usr/local/lib/python3.6/dist-packages (from pandas>=0.23.0->geopandas) (1.18.5)\n",
            "Requirement already satisfied: pytz>=2017.2 in /usr/local/lib/python3.6/dist-packages (from pandas>=0.23.0->geopandas) (2018.9)\n"
          ],
          "name": "stdout"
        }
      ]
    },
    {
      "cell_type": "code",
      "metadata": {
        "id": "VtKUXX8qoHTI",
        "colab_type": "code",
        "colab": {}
      },
      "source": [
        "import folium\n",
        "from folium import Choropleth, Circle, Marker\n",
        "from folium.plugins import HeatMap, MarkerCluster"
      ],
      "execution_count": 102,
      "outputs": []
    },
    {
      "cell_type": "code",
      "metadata": {
        "id": "3QC9gdi7kufu",
        "colab_type": "code",
        "colab": {}
      },
      "source": [
        "from geopy.geocoders import Nominatim\n",
        "geolocator = Nominatim(timeout=10, user_agent = \"dlab.berkeley.edu-workshop\")"
      ],
      "execution_count": 103,
      "outputs": []
    },
    {
      "cell_type": "code",
      "metadata": {
        "id": "G5kfghxoelHu",
        "colab_type": "code",
        "colab": {
          "base_uri": "https://localhost:8080/",
          "height": 34
        },
        "outputId": "cf642755-86dd-4ef2-efbe-efcdf3f92359"
      },
      "source": [
        "# Load the data\n",
        "# data from http://crimemap.dc.gov/Download.aspx\n",
        "crimes = pd.read_csv(\"/content/SearchResults (2).txt\", encoding='latin-1')\n",
        "\n",
        "\n",
        "\n",
        "# get address in order to geocode lat long coords for markers\n",
        "crimes['STREET'] = crimes['BLOCK'].str.split('OF').str[1] + ', WASHINGTON DC'\n",
        "\n",
        "\n",
        "# Grab relevant columns\n",
        "columnsTitles = ['REPORT_DAT', 'OFFENSE', 'METHOD','STREET','LAT','LONG','LOC','WARD','DISTRICT','SHIFT','NEIGHBORHOOD_CLUSTER','VOTING_PRECINCT']\n",
        "\n",
        "crimes = crimes.reindex(columns=columnsTitles)\n",
        "#crimes['LAT'] = geolocator.geocode(crimes['STREET']).latitude\n",
        "\n",
        "\n",
        "location = geolocator.geocode(crimes['STREET'][1]).latitude\n",
        "# location.latitude\n",
        "# location.longitude\n",
        "location\n",
        "\n",
        "\n"
      ],
      "execution_count": 135,
      "outputs": [
        {
          "output_type": "execute_result",
          "data": {
            "text/plain": [
              "38.9117275"
            ]
          },
          "metadata": {
            "tags": []
          },
          "execution_count": 135
        }
      ]
    },
    {
      "cell_type": "code",
      "metadata": {
        "id": "Ocx7fP_WZnWm",
        "colab_type": "code",
        "colab": {}
      },
      "source": [
        "homicides = crimes[crimes.OFFENSE == 'HOMICIDE'] # create homicide df\n",
        "\n",
        "# add geocoded location, lat, and long points to df\n",
        "def addLoc(street):\n",
        "    return geolocator.geocode(street)\n",
        "\n",
        "def addLat(loc):\n",
        "    return geolocator.geocode(loc).latitude\n",
        "\n",
        "def addLong(loc):\n",
        "  return geolocator.geocode(loc).longitude\n",
        "\n",
        "homicides['LOC'] = homicides['STREET'].apply(addLoc)\n",
        "homicides['LAT'] = homicides['LOC'].apply(addLat)\n",
        "homicides['LONG'] = homicides['LOC'].apply(addLong)"
      ],
      "execution_count": null,
      "outputs": []
    },
    {
      "cell_type": "code",
      "metadata": {
        "id": "au2vuRUVanJE",
        "colab_type": "code",
        "colab": {
          "base_uri": "https://localhost:8080/",
          "height": 573
        },
        "outputId": "228db41d-5b6c-427b-df30-d2fdf7f7b1c8"
      },
      "source": [
        "# Create a map\n",
        "m_2 = folium.Map(location=[38.9072,-77.0369], tiles='cartodbpositron', zoom_start=13)\n",
        "\n",
        "# Add points to the map\n",
        "for idx, row in homicides.iterrows():\n",
        "    Marker([row['LAT'], row['LONG']]).add_to(m_2)\n",
        "\n",
        "# Display the map\n",
        "m_2"
      ],
      "execution_count": 143,
      "outputs": [
        {
          "output_type": "execute_result",
          "data": {
            "text/html": [
              "<div style=\"width:100%;\"><div style=\"position:relative;width:100%;height:0;padding-bottom:60%;\"><span style=\"color:#565656\">Make this Notebook Trusted to load map: File -> Trust Notebook</span><iframe src=\"about:blank\" style=\"position:absolute;width:100%;height:100%;left:0;top:0;border:none !important;\" data-html=PCFET0NUWVBFIGh0bWw+CjxoZWFkPiAgICAKICAgIDxtZXRhIGh0dHAtZXF1aXY9ImNvbnRlbnQtdHlwZSIgY29udGVudD0idGV4dC9odG1sOyBjaGFyc2V0PVVURi04IiAvPgogICAgPHNjcmlwdD5MX1BSRUZFUl9DQU5WQVM9ZmFsc2U7IExfTk9fVE9VQ0g9ZmFsc2U7IExfRElTQUJMRV8zRD1mYWxzZTs8L3NjcmlwdD4KICAgIDxzY3JpcHQgc3JjPSJodHRwczovL2Nkbi5qc2RlbGl2ci5uZXQvbnBtL2xlYWZsZXRAMS40LjAvZGlzdC9sZWFmbGV0LmpzIj48L3NjcmlwdD4KICAgIDxzY3JpcHQgc3JjPSJodHRwczovL2NvZGUuanF1ZXJ5LmNvbS9qcXVlcnktMS4xMi40Lm1pbi5qcyI+PC9zY3JpcHQ+CiAgICA8c2NyaXB0IHNyYz0iaHR0cHM6Ly9tYXhjZG4uYm9vdHN0cmFwY2RuLmNvbS9ib290c3RyYXAvMy4yLjAvanMvYm9vdHN0cmFwLm1pbi5qcyI+PC9zY3JpcHQ+CiAgICA8c2NyaXB0IHNyYz0iaHR0cHM6Ly9jZG5qcy5jbG91ZGZsYXJlLmNvbS9hamF4L2xpYnMvTGVhZmxldC5hd2Vzb21lLW1hcmtlcnMvMi4wLjIvbGVhZmxldC5hd2Vzb21lLW1hcmtlcnMuanMiPjwvc2NyaXB0PgogICAgPGxpbmsgcmVsPSJzdHlsZXNoZWV0IiBocmVmPSJodHRwczovL2Nkbi5qc2RlbGl2ci5uZXQvbnBtL2xlYWZsZXRAMS40LjAvZGlzdC9sZWFmbGV0LmNzcyIvPgogICAgPGxpbmsgcmVsPSJzdHlsZXNoZWV0IiBocmVmPSJodHRwczovL21heGNkbi5ib290c3RyYXBjZG4uY29tL2Jvb3RzdHJhcC8zLjIuMC9jc3MvYm9vdHN0cmFwLm1pbi5jc3MiLz4KICAgIDxsaW5rIHJlbD0ic3R5bGVzaGVldCIgaHJlZj0iaHR0cHM6Ly9tYXhjZG4uYm9vdHN0cmFwY2RuLmNvbS9ib290c3RyYXAvMy4yLjAvY3NzL2Jvb3RzdHJhcC10aGVtZS5taW4uY3NzIi8+CiAgICA8bGluayByZWw9InN0eWxlc2hlZXQiIGhyZWY9Imh0dHBzOi8vbWF4Y2RuLmJvb3RzdHJhcGNkbi5jb20vZm9udC1hd2Vzb21lLzQuNi4zL2Nzcy9mb250LWF3ZXNvbWUubWluLmNzcyIvPgogICAgPGxpbmsgcmVsPSJzdHlsZXNoZWV0IiBocmVmPSJodHRwczovL2NkbmpzLmNsb3VkZmxhcmUuY29tL2FqYXgvbGlicy9MZWFmbGV0LmF3ZXNvbWUtbWFya2Vycy8yLjAuMi9sZWFmbGV0LmF3ZXNvbWUtbWFya2Vycy5jc3MiLz4KICAgIDxsaW5rIHJlbD0ic3R5bGVzaGVldCIgaHJlZj0iaHR0cHM6Ly9yYXdjZG4uZ2l0aGFjay5jb20vcHl0aG9uLXZpc3VhbGl6YXRpb24vZm9saXVtL21hc3Rlci9mb2xpdW0vdGVtcGxhdGVzL2xlYWZsZXQuYXdlc29tZS5yb3RhdGUuY3NzIi8+CiAgICA8c3R5bGU+aHRtbCwgYm9keSB7d2lkdGg6IDEwMCU7aGVpZ2h0OiAxMDAlO21hcmdpbjogMDtwYWRkaW5nOiAwO308L3N0eWxlPgogICAgPHN0eWxlPiNtYXAge3Bvc2l0aW9uOmFic29sdXRlO3RvcDowO2JvdHRvbTowO3JpZ2h0OjA7bGVmdDowO308L3N0eWxlPgogICAgCiAgICA8bWV0YSBuYW1lPSJ2aWV3cG9ydCIgY29udGVudD0id2lkdGg9ZGV2aWNlLXdpZHRoLAogICAgICAgIGluaXRpYWwtc2NhbGU9MS4wLCBtYXhpbXVtLXNjYWxlPTEuMCwgdXNlci1zY2FsYWJsZT1ubyIgLz4KICAgIDxzdHlsZT4jbWFwXzQ3NDE0M2M3ZTEwNzRiMDY5M2Q5YTJiNGM2ZDc1N2JjIHsKICAgICAgICBwb3NpdGlvbjogcmVsYXRpdmU7CiAgICAgICAgd2lkdGg6IDEwMC4wJTsKICAgICAgICBoZWlnaHQ6IDEwMC4wJTsKICAgICAgICBsZWZ0OiAwLjAlOwogICAgICAgIHRvcDogMC4wJTsKICAgICAgICB9CiAgICA8L3N0eWxlPgo8L2hlYWQ+Cjxib2R5PiAgICAKICAgIAogICAgPGRpdiBjbGFzcz0iZm9saXVtLW1hcCIgaWQ9Im1hcF80NzQxNDNjN2UxMDc0YjA2OTNkOWEyYjRjNmQ3NTdiYyIgPjwvZGl2Pgo8L2JvZHk+CjxzY3JpcHQ+ICAgIAogICAgCiAgICAKICAgICAgICB2YXIgYm91bmRzID0gbnVsbDsKICAgIAoKICAgIHZhciBtYXBfNDc0MTQzYzdlMTA3NGIwNjkzZDlhMmI0YzZkNzU3YmMgPSBMLm1hcCgKICAgICAgICAnbWFwXzQ3NDE0M2M3ZTEwNzRiMDY5M2Q5YTJiNGM2ZDc1N2JjJywgewogICAgICAgIGNlbnRlcjogWzM4LjkwNzIsIC03Ny4wMzY5XSwKICAgICAgICB6b29tOiAxMywKICAgICAgICBtYXhCb3VuZHM6IGJvdW5kcywKICAgICAgICBsYXllcnM6IFtdLAogICAgICAgIHdvcmxkQ29weUp1bXA6IGZhbHNlLAogICAgICAgIGNyczogTC5DUlMuRVBTRzM4NTcsCiAgICAgICAgem9vbUNvbnRyb2w6IHRydWUsCiAgICAgICAgfSk7CgoKICAgIAogICAgdmFyIHRpbGVfbGF5ZXJfODUxOTBmMTBlOWU1NDJiOGFjYzUyNjY4MmMzNGIzMzggPSBMLnRpbGVMYXllcigKICAgICAgICAnaHR0cHM6Ly9jYXJ0b2RiLWJhc2VtYXBzLXtzfS5nbG9iYWwuc3NsLmZhc3RseS5uZXQvbGlnaHRfYWxsL3t6fS97eH0ve3l9LnBuZycsCiAgICAgICAgewogICAgICAgICJhdHRyaWJ1dGlvbiI6IG51bGwsCiAgICAgICAgImRldGVjdFJldGluYSI6IGZhbHNlLAogICAgICAgICJtYXhOYXRpdmVab29tIjogMTgsCiAgICAgICAgIm1heFpvb20iOiAxOCwKICAgICAgICAibWluWm9vbSI6IDAsCiAgICAgICAgIm5vV3JhcCI6IGZhbHNlLAogICAgICAgICJvcGFjaXR5IjogMSwKICAgICAgICAic3ViZG9tYWlucyI6ICJhYmMiLAogICAgICAgICJ0bXMiOiBmYWxzZQp9KS5hZGRUbyhtYXBfNDc0MTQzYzdlMTA3NGIwNjkzZDlhMmI0YzZkNzU3YmMpOwogICAgCiAgICAgICAgdmFyIG1hcmtlcl8xMmFjNjMyYTQzNGE0NGJlOGUzMDc4MWYyNWY0M2QyZCA9IEwubWFya2VyKAogICAgICAgICAgICBbMzguODUyMTQyLCAtNzYuOTgxOTQ5XSwKICAgICAgICAgICAgewogICAgICAgICAgICAgICAgaWNvbjogbmV3IEwuSWNvbi5EZWZhdWx0KCksCiAgICAgICAgICAgICAgICB9CiAgICAgICAgICAgICkuYWRkVG8obWFwXzQ3NDE0M2M3ZTEwNzRiMDY5M2Q5YTJiNGM2ZDc1N2JjKTsKICAgICAgICAKICAgIAogICAgICAgIHZhciBtYXJrZXJfMjJmYjNhMWM5OGVlNGM0OGE5ODk4Nzc2N2YwMDM1YWIgPSBMLm1hcmtlcigKICAgICAgICAgICAgWzM4Ljg4Njg1NSwgLTc2LjkzNDQxNl0sCiAgICAgICAgICAgIHsKICAgICAgICAgICAgICAgIGljb246IG5ldyBMLkljb24uRGVmYXVsdCgpLAogICAgICAgICAgICAgICAgfQogICAgICAgICAgICApLmFkZFRvKG1hcF80NzQxNDNjN2UxMDc0YjA2OTNkOWEyYjRjNmQ3NTdiYyk7CiAgICAgICAgCiAgICAKICAgICAgICB2YXIgbWFya2VyXzQ0ZTBjZTlmYzZkYTRiZGJiNTdmNTAyN2YwYTE0NTI4ID0gTC5tYXJrZXIoCiAgICAgICAgICAgIFszOC44ODY4NTUsIC03Ni45MzQ0MTZdLAogICAgICAgICAgICB7CiAgICAgICAgICAgICAgICBpY29uOiBuZXcgTC5JY29uLkRlZmF1bHQoKSwKICAgICAgICAgICAgICAgIH0KICAgICAgICAgICAgKS5hZGRUbyhtYXBfNDc0MTQzYzdlMTA3NGIwNjkzZDlhMmI0YzZkNzU3YmMpOwogICAgICAgIAogICAgCiAgICAgICAgdmFyIG1hcmtlcl84MmFkNmM4N2QzMGU0NDRiYWQ1ZGNmYTgzZDA5ZTViZiA9IEwubWFya2VyKAogICAgICAgICAgICBbMzguODg2ODU1LCAtNzYuOTM0NDE2XSwKICAgICAgICAgICAgewogICAgICAgICAgICAgICAgaWNvbjogbmV3IEwuSWNvbi5EZWZhdWx0KCksCiAgICAgICAgICAgICAgICB9CiAgICAgICAgICAgICkuYWRkVG8obWFwXzQ3NDE0M2M3ZTEwNzRiMDY5M2Q5YTJiNGM2ZDc1N2JjKTsKICAgICAgICAKICAgIAogICAgICAgIHZhciBtYXJrZXJfZjc3YWM5MGE0MjY1NDc3YmI0MzRhZWRjN2E2ZDM4MjYgPSBMLm1hcmtlcigKICAgICAgICAgICAgWzM4Ljg3MTE0OSwgLTc2Ljk2MjU5XSwKICAgICAgICAgICAgewogICAgICAgICAgICAgICAgaWNvbjogbmV3IEwuSWNvbi5EZWZhdWx0KCksCiAgICAgICAgICAgICAgICB9CiAgICAgICAgICAgICkuYWRkVG8obWFwXzQ3NDE0M2M3ZTEwNzRiMDY5M2Q5YTJiNGM2ZDc1N2JjKTsKICAgICAgICAKICAgIAogICAgICAgIHZhciBtYXJrZXJfNTM4OGIxNWI4MzliNDhjMzhlYTFjNGRkODcyNjgwNTIgPSBMLm1hcmtlcigKICAgICAgICAgICAgWzM4Ljg5ODM2NCwgLTc2LjkzODM1OF0sCiAgICAgICAgICAgIHsKICAgICAgICAgICAgICAgIGljb246IG5ldyBMLkljb24uRGVmYXVsdCgpLAogICAgICAgICAgICAgICAgfQogICAgICAgICAgICApLmFkZFRvKG1hcF80NzQxNDNjN2UxMDc0YjA2OTNkOWEyYjRjNmQ3NTdiYyk7CiAgICAgICAgCiAgICAKICAgICAgICB2YXIgbWFya2VyX2QwNWRlYTg4NDdjYzRjMzk5YjhlYWI0Y2RmYTAwNDkwID0gTC5tYXJrZXIoCiAgICAgICAgICAgIFszOC45MTY4NzY0LCAtNzcuMDMxOTUxMl0sCiAgICAgICAgICAgIHsKICAgICAgICAgICAgICAgIGljb246IG5ldyBMLkljb24uRGVmYXVsdCgpLAogICAgICAgICAgICAgICAgfQogICAgICAgICAgICApLmFkZFRvKG1hcF80NzQxNDNjN2UxMDc0YjA2OTNkOWEyYjRjNmQ3NTdiYyk7CiAgICAgICAgCiAgICAKICAgICAgICB2YXIgbWFya2VyX2Y4MTdjMDUzZGE2NzQyZThhMzUxNGRkYTcyMTgxNWU2ID0gTC5tYXJrZXIoCiAgICAgICAgICAgIFszOC44NzgwNCwgLTc2LjkzMjU2N10sCiAgICAgICAgICAgIHsKICAgICAgICAgICAgICAgIGljb246IG5ldyBMLkljb24uRGVmYXVsdCgpLAogICAgICAgICAgICAgICAgfQogICAgICAgICAgICApLmFkZFRvKG1hcF80NzQxNDNjN2UxMDc0YjA2OTNkOWEyYjRjNmQ3NTdiYyk7CiAgICAgICAgCiAgICAKICAgICAgICB2YXIgbWFya2VyXzYwNDhlYmYwYzhkODQ0YjlhOTlkNWI4MDBmMjU5ODc5ID0gTC5tYXJrZXIoCiAgICAgICAgICAgIFszOC44NjA5OTcsIC03Ni45Njk1MDVdLAogICAgICAgICAgICB7CiAgICAgICAgICAgICAgICBpY29uOiBuZXcgTC5JY29uLkRlZmF1bHQoKSwKICAgICAgICAgICAgICAgIH0KICAgICAgICAgICAgKS5hZGRUbyhtYXBfNDc0MTQzYzdlMTA3NGIwNjkzZDlhMmI0YzZkNzU3YmMpOwogICAgICAgIAogICAgCiAgICAgICAgdmFyIG1hcmtlcl8xZDc5M2ViMjA2YTU0OTljYjY4YjE0NWZlMGY0MjgyZiA9IEwubWFya2VyKAogICAgICAgICAgICBbMzguOTAwMDc1MSwgLTc2Ljk4MzUyMTVdLAogICAgICAgICAgICB7CiAgICAgICAgICAgICAgICBpY29uOiBuZXcgTC5JY29uLkRlZmF1bHQoKSwKICAgICAgICAgICAgICAgIH0KICAgICAgICAgICAgKS5hZGRUbyhtYXBfNDc0MTQzYzdlMTA3NGIwNjkzZDlhMmI0YzZkNzU3YmMpOwogICAgICAgIAogICAgCiAgICAgICAgdmFyIG1hcmtlcl8zYTg0MzgwOWMwMzI0ZWUyYjRmNzExOTEzY2Q2MzNlZCA9IEwubWFya2VyKAogICAgICAgICAgICBbMzguODg2ODU1LCAtNzYuOTM0NDE2XSwKICAgICAgICAgICAgewogICAgICAgICAgICAgICAgaWNvbjogbmV3IEwuSWNvbi5EZWZhdWx0KCksCiAgICAgICAgICAgICAgICB9CiAgICAgICAgICAgICkuYWRkVG8obWFwXzQ3NDE0M2M3ZTEwNzRiMDY5M2Q5YTJiNGM2ZDc1N2JjKTsKICAgICAgICAKICAgIAogICAgICAgIHZhciBtYXJrZXJfNGQ2NGQ3NTE2ZTk0NDIyZWJmMjQ3ZTUyZDQ2Yjk3NjIgPSBMLm1hcmtlcigKICAgICAgICAgICAgWzM4Ljg1NjA3NSwgLTc2Ljk3OTAyNF0sCiAgICAgICAgICAgIHsKICAgICAgICAgICAgICAgIGljb246IG5ldyBMLkljb24uRGVmYXVsdCgpLAogICAgICAgICAgICAgICAgfQogICAgICAgICAgICApLmFkZFRvKG1hcF80NzQxNDNjN2UxMDc0YjA2OTNkOWEyYjRjNmQ3NTdiYyk7CiAgICAgICAgCiAgICAKICAgICAgICB2YXIgbWFya2VyXzIxNGVkMzk5YWYyYjRiZjFhZTU4ZTY3NDI2OGFlYzkzID0gTC5tYXJrZXIoCiAgICAgICAgICAgIFszOC45NDE4NjYsIC03Ni45NzUxOTZdLAogICAgICAgICAgICB7CiAgICAgICAgICAgICAgICBpY29uOiBuZXcgTC5JY29uLkRlZmF1bHQoKSwKICAgICAgICAgICAgICAgIH0KICAgICAgICAgICAgKS5hZGRUbyhtYXBfNDc0MTQzYzdlMTA3NGIwNjkzZDlhMmI0YzZkNzU3YmMpOwogICAgICAgIAogICAgCiAgICAgICAgdmFyIG1hcmtlcl8zMzc2YjQwODllMDE0Mzg4OTdhYjU1NWY1YzcyZTY5MiA9IEwubWFya2VyKAogICAgICAgICAgICBbMzguOTAyNDkxNywgLTc3LjAxMTQwMTYzMjg1ODc5XSwKICAgICAgICAgICAgewogICAgICAgICAgICAgICAgaWNvbjogbmV3IEwuSWNvbi5EZWZhdWx0KCksCiAgICAgICAgICAgICAgICB9CiAgICAgICAgICAgICkuYWRkVG8obWFwXzQ3NDE0M2M3ZTEwNzRiMDY5M2Q5YTJiNGM2ZDc1N2JjKTsKICAgICAgICAKICAgIAogICAgICAgIHZhciBtYXJrZXJfYTQ0MmI5NTdhODc2NGU1ZGJhZjRhMTc1MTRiZjUwMjEgPSBMLm1hcmtlcigKICAgICAgICAgICAgWzM4LjkwODU3MDIsIC03Ny4wNDQ0NDM4XSwKICAgICAgICAgICAgewogICAgICAgICAgICAgICAgaWNvbjogbmV3IEwuSWNvbi5EZWZhdWx0KCksCiAgICAgICAgICAgICAgICB9CiAgICAgICAgICAgICkuYWRkVG8obWFwXzQ3NDE0M2M3ZTEwNzRiMDY5M2Q5YTJiNGM2ZDc1N2JjKTsKICAgICAgICAKICAgIAogICAgICAgIHZhciBtYXJrZXJfNDU5MTJiZTM0YjQ5NDI3NDk3MmVkMjdkYThmZGMyYTUgPSBMLm1hcmtlcigKICAgICAgICAgICAgWzM4Ljg4NDAxNDgsIC03Ni45NTk3OTldLAogICAgICAgICAgICB7CiAgICAgICAgICAgICAgICBpY29uOiBuZXcgTC5JY29uLkRlZmF1bHQoKSwKICAgICAgICAgICAgICAgIH0KICAgICAgICAgICAgKS5hZGRUbyhtYXBfNDc0MTQzYzdlMTA3NGIwNjkzZDlhMmI0YzZkNzU3YmMpOwogICAgICAgIAogICAgCiAgICAgICAgdmFyIG1hcmtlcl85MDA4YmY0YmYyOTE0ODNhYjgzN2U5ZmJlOTNiZTI2MCA9IEwubWFya2VyKAogICAgICAgICAgICBbMzguOTcxOTkyLCAtNzcuMDEyODddLAogICAgICAgICAgICB7CiAgICAgICAgICAgICAgICBpY29uOiBuZXcgTC5JY29uLkRlZmF1bHQoKSwKICAgICAgICAgICAgICAgIH0KICAgICAgICAgICAgKS5hZGRUbyhtYXBfNDc0MTQzYzdlMTA3NGIwNjkzZDlhMmI0YzZkNzU3YmMpOwogICAgICAgIAogICAgCiAgICAgICAgdmFyIG1hcmtlcl8yYjFlODFhOGUwNWU0YWRiODNkOTNhNjkxMWM1M2E0YyA9IEwubWFya2VyKAogICAgICAgICAgICBbMzguOTM0MDk3OSwgLTc2Ljk2Mzk3Ml0sCiAgICAgICAgICAgIHsKICAgICAgICAgICAgICAgIGljb246IG5ldyBMLkljb24uRGVmYXVsdCgpLAogICAgICAgICAgICAgICAgfQogICAgICAgICAgICApLmFkZFRvKG1hcF80NzQxNDNjN2UxMDc0YjA2OTNkOWEyYjRjNmQ3NTdiYyk7CiAgICAgICAgCiAgICAKICAgICAgICB2YXIgbWFya2VyXzVkNWY2MzMxMDMyNjQ3MDFiYTMxOWRkNmE5MjBjNDI3ID0gTC5tYXJrZXIoCiAgICAgICAgICAgIFszOC44ODc1NDk3LCAtNzcuMDAzNDMxM10sCiAgICAgICAgICAgIHsKICAgICAgICAgICAgICAgIGljb246IG5ldyBMLkljb24uRGVmYXVsdCgpLAogICAgICAgICAgICAgICAgfQogICAgICAgICAgICApLmFkZFRvKG1hcF80NzQxNDNjN2UxMDc0YjA2OTNkOWEyYjRjNmQ3NTdiYyk7CiAgICAgICAgCiAgICAKICAgICAgICB2YXIgbWFya2VyXzlhZWE5NDY2N2UwODQwMDY5OGY1NThhYjg1MzJlYWIzID0gTC5tYXJrZXIoCiAgICAgICAgICAgIFszOC44NTc2MTMsIC03Ni45OTY3ODhdLAogICAgICAgICAgICB7CiAgICAgICAgICAgICAgICBpY29uOiBuZXcgTC5JY29uLkRlZmF1bHQoKSwKICAgICAgICAgICAgICAgIH0KICAgICAgICAgICAgKS5hZGRUbyhtYXBfNDc0MTQzYzdlMTA3NGIwNjkzZDlhMmI0YzZkNzU3YmMpOwogICAgICAgIAogICAgCiAgICAgICAgdmFyIG1hcmtlcl81MGUwZWYwZjA4M2M0ZDVhYTVkNGNlNzI3M2M3YzVmMyA9IEwubWFya2VyKAogICAgICAgICAgICBbMzguODYxNzIxNiwgLTc2Ljk4NTY3NzhdLAogICAgICAgICAgICB7CiAgICAgICAgICAgICAgICBpY29uOiBuZXcgTC5JY29uLkRlZmF1bHQoKSwKICAgICAgICAgICAgICAgIH0KICAgICAgICAgICAgKS5hZGRUbyhtYXBfNDc0MTQzYzdlMTA3NGIwNjkzZDlhMmI0YzZkNzU3YmMpOwogICAgICAgIAogICAgCiAgICAgICAgdmFyIG1hcmtlcl9kNjgyZDY0OGJiZjY0NTQxYjRkOGI3MTdiYTA2ZjhlMSA9IEwubWFya2VyKAogICAgICAgICAgICBbMzguODg3NTQ5NywgLTc3LjAwMzQzMTNdLAogICAgICAgICAgICB7CiAgICAgICAgICAgICAgICBpY29uOiBuZXcgTC5JY29uLkRlZmF1bHQoKSwKICAgICAgICAgICAgICAgIH0KICAgICAgICAgICAgKS5hZGRUbyhtYXBfNDc0MTQzYzdlMTA3NGIwNjkzZDlhMmI0YzZkNzU3YmMpOwogICAgICAgIAogICAgCiAgICAgICAgdmFyIG1hcmtlcl9iNTUzMzI3OWRhNDc0OTZiOGIzYzUzYjkxNGMyMTE2YSA9IEwubWFya2VyKAogICAgICAgICAgICBbMzguODk4ODM5NSwgLTc2Ljk3NjQ4NDNdLAogICAgICAgICAgICB7CiAgICAgICAgICAgICAgICBpY29uOiBuZXcgTC5JY29uLkRlZmF1bHQoKSwKICAgICAgICAgICAgICAgIH0KICAgICAgICAgICAgKS5hZGRUbyhtYXBfNDc0MTQzYzdlMTA3NGIwNjkzZDlhMmI0YzZkNzU3YmMpOwogICAgICAgIAogICAgCiAgICAgICAgdmFyIG1hcmtlcl8xMGQ2ZjlkMzc0ZmY0MWE0YjI0Mjc4MGE5ZDMwMTg1NSA9IEwubWFya2VyKAogICAgICAgICAgICBbMzguODY3ODk2LCAtNzYuOTU0MzQxXSwKICAgICAgICAgICAgewogICAgICAgICAgICAgICAgaWNvbjogbmV3IEwuSWNvbi5EZWZhdWx0KCksCiAgICAgICAgICAgICAgICB9CiAgICAgICAgICAgICkuYWRkVG8obWFwXzQ3NDE0M2M3ZTEwNzRiMDY5M2Q5YTJiNGM2ZDc1N2JjKTsKICAgICAgICAKICAgIAogICAgICAgIHZhciBtYXJrZXJfNmUwMDJmY2IwYzg2NGFiNzk2YWIzNmJiMDk0NDM1M2EgPSBMLm1hcmtlcigKICAgICAgICAgICAgWzM4Ljg4NjY5NTUsIC03Ni45ODM2NDk3XSwKICAgICAgICAgICAgewogICAgICAgICAgICAgICAgaWNvbjogbmV3IEwuSWNvbi5EZWZhdWx0KCksCiAgICAgICAgICAgICAgICB9CiAgICAgICAgICAgICkuYWRkVG8obWFwXzQ3NDE0M2M3ZTEwNzRiMDY5M2Q5YTJiNGM2ZDc1N2JjKTsKICAgICAgICAKICAgIAogICAgICAgIHZhciBtYXJrZXJfNmRhOTA0OTI2YzQxNDMyZDhkZDgyODhmMGZmODAzNDggPSBMLm1hcmtlcigKICAgICAgICAgICAgWzQ0LjkzMzE0MywgNy41NDAxMjFdLAogICAgICAgICAgICB7CiAgICAgICAgICAgICAgICBpY29uOiBuZXcgTC5JY29uLkRlZmF1bHQoKSwKICAgICAgICAgICAgICAgIH0KICAgICAgICAgICAgKS5hZGRUbyhtYXBfNDc0MTQzYzdlMTA3NGIwNjkzZDlhMmI0YzZkNzU3YmMpOwogICAgICAgIAogICAgCiAgICAgICAgdmFyIG1hcmtlcl9mY2YyMzg3MDRmY2E0Yzc4OTljOGUwMzJhZGE5NjZiMCA9IEwubWFya2VyKAogICAgICAgICAgICBbMzguODY4MjM1MSwgLTc2Ljk4MjIyNF0sCiAgICAgICAgICAgIHsKICAgICAgICAgICAgICAgIGljb246IG5ldyBMLkljb24uRGVmYXVsdCgpLAogICAgICAgICAgICAgICAgfQogICAgICAgICAgICApLmFkZFRvKG1hcF80NzQxNDNjN2UxMDc0YjA2OTNkOWEyYjRjNmQ3NTdiYyk7CiAgICAgICAgCiAgICAKICAgICAgICB2YXIgbWFya2VyX2MxMDRlMjg5ZmRhYTQ1NjQ4MmFmYmY4NjFjMzExYjgyID0gTC5tYXJrZXIoCiAgICAgICAgICAgIFszOC44OTU0ODY2LCAtNzYuOTQ4ODc4MV0sCiAgICAgICAgICAgIHsKICAgICAgICAgICAgICAgIGljb246IG5ldyBMLkljb24uRGVmYXVsdCgpLAogICAgICAgICAgICAgICAgfQogICAgICAgICAgICApLmFkZFRvKG1hcF80NzQxNDNjN2UxMDc0YjA2OTNkOWEyYjRjNmQ3NTdiYyk7CiAgICAgICAgCiAgICAKICAgICAgICB2YXIgbWFya2VyX2Y1MmQ3MmUwOTM4MzQ4ZWRiMjhkMzEwM2M4NmI2MzczID0gTC5tYXJrZXIoCiAgICAgICAgICAgIFszOC45MTY4NzY0LCAtNzcuMDMxOTUxMl0sCiAgICAgICAgICAgIHsKICAgICAgICAgICAgICAgIGljb246IG5ldyBMLkljb24uRGVmYXVsdCgpLAogICAgICAgICAgICAgICAgfQogICAgICAgICAgICApLmFkZFRvKG1hcF80NzQxNDNjN2UxMDc0YjA2OTNkOWEyYjRjNmQ3NTdiYyk7CiAgICAgICAgCiAgICAKICAgICAgICB2YXIgbWFya2VyXzk4MzgzMzA5NTE1MTRiZWQ5MDczMjgyZTI2ZjFlNTNjID0gTC5tYXJrZXIoCiAgICAgICAgICAgIFszOC44MjkxOTYzLCAtNzYuOTk2NjgyXSwKICAgICAgICAgICAgewogICAgICAgICAgICAgICAgaWNvbjogbmV3IEwuSWNvbi5EZWZhdWx0KCksCiAgICAgICAgICAgICAgICB9CiAgICAgICAgICAgICkuYWRkVG8obWFwXzQ3NDE0M2M3ZTEwNzRiMDY5M2Q5YTJiNGM2ZDc1N2JjKTsKICAgICAgICAKPC9zY3JpcHQ+ onload=\"this.contentDocument.open();this.contentDocument.write(atob(this.getAttribute('data-html')));this.contentDocument.close();\" allowfullscreen webkitallowfullscreen mozallowfullscreen></iframe></div></div>"
            ],
            "text/plain": [
              "<folium.folium.Map at 0x7fdeae9690f0>"
            ]
          },
          "metadata": {
            "tags": []
          },
          "execution_count": 143
        }
      ]
    }
  ]
}