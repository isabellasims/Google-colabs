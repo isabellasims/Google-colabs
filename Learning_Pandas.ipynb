{
  "nbformat": 4,
  "nbformat_minor": 0,
  "metadata": {
    "colab": {
      "name": "Learning Pandas",
      "provenance": [],
      "authorship_tag": "ABX9TyNKFafouu3vnomOElaxFepr",
      "include_colab_link": true
    },
    "kernelspec": {
      "name": "python3",
      "display_name": "Python 3"
    }
  },
  "cells": [
    {
      "cell_type": "markdown",
      "metadata": {
        "id": "view-in-github",
        "colab_type": "text"
      },
      "source": [
        "<a href=\"https://colab.research.google.com/github/isabellasims/Google-colabs/blob/master/Learning_Pandas.ipynb\" target=\"_parent\"><img src=\"https://colab.research.google.com/assets/colab-badge.svg\" alt=\"Open In Colab\"/></a>"
      ]
    },
    {
      "cell_type": "code",
      "metadata": {
        "id": "gKK9XVhtFNXz",
        "colab_type": "code",
        "colab": {}
      },
      "source": [
        "#!pip install codecademylib\n",
        "import pandas as pd"
      ],
      "execution_count": 2,
      "outputs": []
    },
    {
      "cell_type": "markdown",
      "metadata": {
        "id": "hv_IR3WLFbOj",
        "colab_type": "text"
      },
      "source": [
        "Data Frame = object that stores data as rowes and columns\n",
        "  - Each column as a name which is a string \n",
        "  - Each row has an index which is an integer\n",
        "\n",
        "pd.DataFrame()\n",
        "  - you can pass in dictionaries as dfs to pd.DataFrame()\n",
        "  - keys = column names\n",
        "  - values = list of column values\n",
        "    - all columns must be the same length \n"
      ]
    },
    {
      "cell_type": "markdown",
      "metadata": {
        "id": "QKLIw0VJcZr6",
        "colab_type": "text"
      },
      "source": [
        "**creating a df with dictionary**"
      ]
    },
    {
      "cell_type": "code",
      "metadata": {
        "id": "Mx8vjA3OG9A1",
        "colab_type": "code",
        "colab": {
          "base_uri": "https://localhost:8080/",
          "height": 68
        },
        "outputId": "4f02bf78-e842-491a-b577-6b390c705659"
      },
      "source": [
        "# creates a DataFrame called df1: \n",
        "df1 = pd.DataFrame({\n",
        "    'name': ['John Smith', 'Jane Doe'],\n",
        "    \n",
        "    'age': [34, 28]\n",
        "})\n",
        "print(df1)\n"
      ],
      "execution_count": 7,
      "outputs": [
        {
          "output_type": "stream",
          "text": [
            "         name  age\n",
            "0  John Smith   34\n",
            "1    Jane Doe   28\n"
          ],
          "name": "stdout"
        }
      ]
    },
    {
      "cell_type": "markdown",
      "metadata": {
        "id": "UF9xOFpFLmj3",
        "colab_type": "text"
      },
      "source": [
        "**Creating a df with lists**\n",
        "  - values are a nested list\n",
        "  - columns are a list of strings using the keyword columns = []"
      ]
    },
    {
      "cell_type": "code",
      "metadata": {
        "id": "RTefd6OvciLd",
        "colab_type": "code",
        "colab": {
          "base_uri": "https://localhost:8080/",
          "height": 68
        },
        "outputId": "fd656e2d-9e27-4925-e755-2a57932d83cb"
      },
      "source": [
        "#df2 = pd.DataFrame(['John',34],['Jane',38], columns=['name','age'])\n",
        "df2 = pd.DataFrame([\n",
        "    ['John Smith',34],\n",
        "    ['Jane Doe', 28]], columns=['name','age'])\n",
        "print(df2)"
      ],
      "execution_count": 4,
      "outputs": [
        {
          "output_type": "stream",
          "text": [
            "         name  age\n",
            "0  John Smith   34\n",
            "1    Jane Doe   28\n"
          ],
          "name": "stdout"
        }
      ]
    },
    {
      "cell_type": "markdown",
      "metadata": {
        "id": "Ip9WSNxEavEG",
        "colab_type": "text"
      },
      "source": [
        "Note: to complete a column at once, use dictionary method; to complete rows at once, use list method "
      ]
    }
  ]
}