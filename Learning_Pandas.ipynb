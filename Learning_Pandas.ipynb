{
  "nbformat": 4,
  "nbformat_minor": 0,
  "metadata": {
    "colab": {
      "name": "Learning Pandas",
      "provenance": [],
      "authorship_tag": "ABX9TyMmo73xZid5jz9OXWOBEAul",
      "include_colab_link": true
    },
    "kernelspec": {
      "name": "python3",
      "display_name": "Python 3"
    }
  },
  "cells": [
    {
      "cell_type": "markdown",
      "metadata": {
        "id": "view-in-github",
        "colab_type": "text"
      },
      "source": [
        "<a href=\"https://colab.research.google.com/github/isabellasims/Google-colabs/blob/master/Learning_Pandas.ipynb\" target=\"_parent\"><img src=\"https://colab.research.google.com/assets/colab-badge.svg\" alt=\"Open In Colab\"/></a>"
      ]
    },
    {
      "cell_type": "code",
      "metadata": {
        "id": "gKK9XVhtFNXz",
        "colab_type": "code",
        "colab": {}
      },
      "source": [
        ""
      ],
      "execution_count": null,
      "outputs": []
    },
    {
      "cell_type": "markdown",
      "metadata": {
        "id": "hv_IR3WLFbOj",
        "colab_type": "text"
      },
      "source": [
        "Data Frame = object that stores data as rowes and columns\n",
        "  - Each column as a name which is a string \n",
        "  - Each row has an index which is an integer\n",
        "\n",
        "pd.DataFrame()\n",
        "  - you can pass in dictionaries as dfs to pd.DataFrame()\n",
        "  - keys = column names\n",
        "  - values = list of column values\n",
        "    - all columns must be the same length \n"
      ]
    }
  ]
}