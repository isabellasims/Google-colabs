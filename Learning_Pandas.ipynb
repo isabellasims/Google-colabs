{
  "nbformat": 4,
  "nbformat_minor": 0,
  "metadata": {
    "colab": {
      "name": "Learning Pandas",
      "provenance": [],
      "authorship_tag": "ABX9TyNnlNMuNBAoeb3g/uzVMqsv",
      "include_colab_link": true
    },
    "kernelspec": {
      "name": "python3",
      "display_name": "Python 3"
    }
  },
  "cells": [
    {
      "cell_type": "markdown",
      "metadata": {
        "id": "view-in-github",
        "colab_type": "text"
      },
      "source": [
        "<a href=\"https://colab.research.google.com/github/isabellasims/Google-colabs/blob/master/Learning_Pandas.ipynb\" target=\"_parent\"><img src=\"https://colab.research.google.com/assets/colab-badge.svg\" alt=\"Open In Colab\"/></a>"
      ]
    },
    {
      "cell_type": "code",
      "metadata": {
        "id": "gKK9XVhtFNXz",
        "colab_type": "code",
        "colab": {}
      },
      "source": [
        "#!pip install codecademylib\n",
        "import pandas as pd"
      ],
      "execution_count": 4,
      "outputs": []
    },
    {
      "cell_type": "markdown",
      "metadata": {
        "id": "hv_IR3WLFbOj",
        "colab_type": "text"
      },
      "source": [
        "Data Frame = object that stores data as rowes and columns\n",
        "  - Each column as a name which is a string \n",
        "  - Each row has an index which is an integer\n",
        "\n",
        "pd.DataFrame()\n",
        "  - you can pass in dictionaries as dfs to pd.DataFrame()\n",
        "  - keys = column names\n",
        "  - values = list of column values\n",
        "    - all columns must be the same length \n"
      ]
    },
    {
      "cell_type": "code",
      "metadata": {
        "id": "Mx8vjA3OG9A1",
        "colab_type": "code",
        "colab": {
          "base_uri": "https://localhost:8080/",
          "height": 85
        },
        "outputId": "c2e67320-9552-402e-9bc6-5df1e511ed22"
      },
      "source": [
        "# creates a DataFrame called df1: \n",
        "df1 = pd.DataFrame({\n",
        "    'name': ['John Smith', 'Jane Doe', 'Joe Schmo'],\n",
        "    'address': ['123 Main St.', '456 Maple Ave.', '789 Broadway'],\n",
        "    'age': [34, 28, 51]\n",
        "})\n",
        "print(df1)"
      ],
      "execution_count": 5,
      "outputs": [
        {
          "output_type": "stream",
          "text": [
            "         name         address  age\n",
            "0  John Smith    123 Main St.   34\n",
            "1    Jane Doe  456 Maple Ave.   28\n",
            "2   Joe Schmo    789 Broadway   51\n"
          ],
          "name": "stdout"
        }
      ]
    }
  ]
}